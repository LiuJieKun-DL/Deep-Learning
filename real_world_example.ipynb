{
  "nbformat": 4,
  "nbformat_minor": 0,
  "metadata": {
    "colab": {
      "name": "real_world_example.ipynb",
      "provenance": [],
      "collapsed_sections": [
        "Kjtnpk1DSsVm",
        "dQZE267ETU97"
      ]
    },
    "kernelspec": {
      "name": "python3",
      "display_name": "Python 3"
    },
    "accelerator": "GPU"
  },
  "cells": [
    {
      "cell_type": "markdown",
      "metadata": {
        "id": "Kjtnpk1DSsVm",
        "colab_type": "text"
      },
      "source": [
        "## Installation"
      ]
    },
    {
      "cell_type": "code",
      "metadata": {
        "id": "32b48Jj1SutY",
        "colab_type": "code",
        "colab": {
          "base_uri": "https://localhost:8080/",
          "height": 802
        },
        "outputId": "1216c1d3-4391-41d4-d0d6-444241bb8719"
      },
      "source": [
        "pip install tensorflow tensorflow-datasets"
      ],
      "execution_count": null,
      "outputs": [
        {
          "output_type": "stream",
          "text": [
            "Requirement already satisfied: tensorflow in /usr/local/lib/python3.6/dist-packages (2.2.0)\n",
            "Requirement already satisfied: tensorflow-datasets in /usr/local/lib/python3.6/dist-packages (2.1.0)\n",
            "Requirement already satisfied: h5py<2.11.0,>=2.10.0 in /usr/local/lib/python3.6/dist-packages (from tensorflow) (2.10.0)\n",
            "Requirement already satisfied: numpy<2.0,>=1.16.0 in /usr/local/lib/python3.6/dist-packages (from tensorflow) (1.18.5)\n",
            "Requirement already satisfied: tensorflow-estimator<2.3.0,>=2.2.0 in /usr/local/lib/python3.6/dist-packages (from tensorflow) (2.2.0)\n",
            "Requirement already satisfied: opt-einsum>=2.3.2 in /usr/local/lib/python3.6/dist-packages (from tensorflow) (3.2.1)\n",
            "Requirement already satisfied: astunparse==1.6.3 in /usr/local/lib/python3.6/dist-packages (from tensorflow) (1.6.3)\n",
            "Requirement already satisfied: scipy==1.4.1; python_version >= \"3\" in /usr/local/lib/python3.6/dist-packages (from tensorflow) (1.4.1)\n",
            "Requirement already satisfied: absl-py>=0.7.0 in /usr/local/lib/python3.6/dist-packages (from tensorflow) (0.9.0)\n",
            "Requirement already satisfied: grpcio>=1.8.6 in /usr/local/lib/python3.6/dist-packages (from tensorflow) (1.30.0)\n",
            "Requirement already satisfied: google-pasta>=0.1.8 in /usr/local/lib/python3.6/dist-packages (from tensorflow) (0.2.0)\n",
            "Requirement already satisfied: protobuf>=3.8.0 in /usr/local/lib/python3.6/dist-packages (from tensorflow) (3.10.0)\n",
            "Requirement already satisfied: wheel>=0.26; python_version >= \"3\" in /usr/local/lib/python3.6/dist-packages (from tensorflow) (0.34.2)\n",
            "Requirement already satisfied: six>=1.12.0 in /usr/local/lib/python3.6/dist-packages (from tensorflow) (1.12.0)\n",
            "Requirement already satisfied: tensorboard<2.3.0,>=2.2.0 in /usr/local/lib/python3.6/dist-packages (from tensorflow) (2.2.2)\n",
            "Requirement already satisfied: wrapt>=1.11.1 in /usr/local/lib/python3.6/dist-packages (from tensorflow) (1.12.1)\n",
            "Requirement already satisfied: termcolor>=1.1.0 in /usr/local/lib/python3.6/dist-packages (from tensorflow) (1.1.0)\n",
            "Requirement already satisfied: keras-preprocessing>=1.1.0 in /usr/local/lib/python3.6/dist-packages (from tensorflow) (1.1.2)\n",
            "Requirement already satisfied: gast==0.3.3 in /usr/local/lib/python3.6/dist-packages (from tensorflow) (0.3.3)\n",
            "Requirement already satisfied: requests>=2.19.0 in /usr/local/lib/python3.6/dist-packages (from tensorflow-datasets) (2.23.0)\n",
            "Requirement already satisfied: promise in /usr/local/lib/python3.6/dist-packages (from tensorflow-datasets) (2.3)\n",
            "Requirement already satisfied: dill in /usr/local/lib/python3.6/dist-packages (from tensorflow-datasets) (0.3.2)\n",
            "Requirement already satisfied: tensorflow-metadata in /usr/local/lib/python3.6/dist-packages (from tensorflow-datasets) (0.22.2)\n",
            "Requirement already satisfied: future in /usr/local/lib/python3.6/dist-packages (from tensorflow-datasets) (0.16.0)\n",
            "Requirement already satisfied: tqdm in /usr/local/lib/python3.6/dist-packages (from tensorflow-datasets) (4.41.1)\n",
            "Requirement already satisfied: attrs>=18.1.0 in /usr/local/lib/python3.6/dist-packages (from tensorflow-datasets) (19.3.0)\n",
            "Requirement already satisfied: setuptools in /usr/local/lib/python3.6/dist-packages (from protobuf>=3.8.0->tensorflow) (47.3.1)\n",
            "Requirement already satisfied: werkzeug>=0.11.15 in /usr/local/lib/python3.6/dist-packages (from tensorboard<2.3.0,>=2.2.0->tensorflow) (1.0.1)\n",
            "Requirement already satisfied: google-auth<2,>=1.6.3 in /usr/local/lib/python3.6/dist-packages (from tensorboard<2.3.0,>=2.2.0->tensorflow) (1.17.2)\n",
            "Requirement already satisfied: markdown>=2.6.8 in /usr/local/lib/python3.6/dist-packages (from tensorboard<2.3.0,>=2.2.0->tensorflow) (3.2.2)\n",
            "Requirement already satisfied: tensorboard-plugin-wit>=1.6.0 in /usr/local/lib/python3.6/dist-packages (from tensorboard<2.3.0,>=2.2.0->tensorflow) (1.6.0.post3)\n",
            "Requirement already satisfied: google-auth-oauthlib<0.5,>=0.4.1 in /usr/local/lib/python3.6/dist-packages (from tensorboard<2.3.0,>=2.2.0->tensorflow) (0.4.1)\n",
            "Requirement already satisfied: idna<3,>=2.5 in /usr/local/lib/python3.6/dist-packages (from requests>=2.19.0->tensorflow-datasets) (2.9)\n",
            "Requirement already satisfied: chardet<4,>=3.0.2 in /usr/local/lib/python3.6/dist-packages (from requests>=2.19.0->tensorflow-datasets) (3.0.4)\n",
            "Requirement already satisfied: certifi>=2017.4.17 in /usr/local/lib/python3.6/dist-packages (from requests>=2.19.0->tensorflow-datasets) (2020.6.20)\n",
            "Requirement already satisfied: urllib3!=1.25.0,!=1.25.1,<1.26,>=1.21.1 in /usr/local/lib/python3.6/dist-packages (from requests>=2.19.0->tensorflow-datasets) (1.24.3)\n",
            "Requirement already satisfied: googleapis-common-protos in /usr/local/lib/python3.6/dist-packages (from tensorflow-metadata->tensorflow-datasets) (1.52.0)\n",
            "Requirement already satisfied: cachetools<5.0,>=2.0.0 in /usr/local/lib/python3.6/dist-packages (from google-auth<2,>=1.6.3->tensorboard<2.3.0,>=2.2.0->tensorflow) (4.1.0)\n",
            "Requirement already satisfied: pyasn1-modules>=0.2.1 in /usr/local/lib/python3.6/dist-packages (from google-auth<2,>=1.6.3->tensorboard<2.3.0,>=2.2.0->tensorflow) (0.2.8)\n",
            "Requirement already satisfied: rsa<5,>=3.1.4; python_version >= \"3\" in /usr/local/lib/python3.6/dist-packages (from google-auth<2,>=1.6.3->tensorboard<2.3.0,>=2.2.0->tensorflow) (4.6)\n",
            "Requirement already satisfied: importlib-metadata; python_version < \"3.8\" in /usr/local/lib/python3.6/dist-packages (from markdown>=2.6.8->tensorboard<2.3.0,>=2.2.0->tensorflow) (1.6.1)\n",
            "Requirement already satisfied: requests-oauthlib>=0.7.0 in /usr/local/lib/python3.6/dist-packages (from google-auth-oauthlib<0.5,>=0.4.1->tensorboard<2.3.0,>=2.2.0->tensorflow) (1.3.0)\n",
            "Requirement already satisfied: pyasn1<0.5.0,>=0.4.6 in /usr/local/lib/python3.6/dist-packages (from pyasn1-modules>=0.2.1->google-auth<2,>=1.6.3->tensorboard<2.3.0,>=2.2.0->tensorflow) (0.4.8)\n",
            "Requirement already satisfied: zipp>=0.5 in /usr/local/lib/python3.6/dist-packages (from importlib-metadata; python_version < \"3.8\"->markdown>=2.6.8->tensorboard<2.3.0,>=2.2.0->tensorflow) (3.1.0)\n",
            "Requirement already satisfied: oauthlib>=3.0.0 in /usr/local/lib/python3.6/dist-packages (from requests-oauthlib>=0.7.0->google-auth-oauthlib<0.5,>=0.4.1->tensorboard<2.3.0,>=2.2.0->tensorflow) (3.1.0)\n"
          ],
          "name": "stdout"
        }
      ]
    },
    {
      "cell_type": "markdown",
      "metadata": {
        "id": "TpUKfFLHTCZX",
        "colab_type": "text"
      },
      "source": [
        "## Import Necessary Libraries"
      ]
    },
    {
      "cell_type": "code",
      "metadata": {
        "id": "lHe1EnWqS8_V",
        "colab_type": "code",
        "colab": {}
      },
      "source": [
        "import matplotlib.pyplot as plt\n",
        "import numpy as np\n",
        "\n",
        "import tensorflow as tf\n",
        "import tensorflow_datasets as tfds\n",
        "\n",
        "from tensorflow import keras\n",
        "tfds.disable_progress_bar()"
      ],
      "execution_count": null,
      "outputs": []
    },
    {
      "cell_type": "markdown",
      "metadata": {
        "id": "dQZE267ETU97",
        "colab_type": "text"
      },
      "source": [
        "## Find Datasets"
      ]
    },
    {
      "cell_type": "code",
      "metadata": {
        "id": "PFYVuj-pTT_e",
        "colab_type": "code",
        "colab": {
          "base_uri": "https://localhost:8080/",
          "height": 1000
        },
        "outputId": "069c391c-fa15-4306-c57d-7012fdf940ce"
      },
      "source": [
        "tfds.list_builders()"
      ],
      "execution_count": null,
      "outputs": [
        {
          "output_type": "execute_result",
          "data": {
            "text/plain": [
              "['abstract_reasoning',\n",
              " 'aeslc',\n",
              " 'aflw2k3d',\n",
              " 'amazon_us_reviews',\n",
              " 'arc',\n",
              " 'bair_robot_pushing_small',\n",
              " 'beans',\n",
              " 'big_patent',\n",
              " 'bigearthnet',\n",
              " 'billsum',\n",
              " 'binarized_mnist',\n",
              " 'binary_alpha_digits',\n",
              " 'c4',\n",
              " 'caltech101',\n",
              " 'caltech_birds2010',\n",
              " 'caltech_birds2011',\n",
              " 'cars196',\n",
              " 'cassava',\n",
              " 'cats_vs_dogs',\n",
              " 'celeb_a',\n",
              " 'celeb_a_hq',\n",
              " 'cfq',\n",
              " 'chexpert',\n",
              " 'cifar10',\n",
              " 'cifar100',\n",
              " 'cifar10_1',\n",
              " 'cifar10_corrupted',\n",
              " 'citrus_leaves',\n",
              " 'cityscapes',\n",
              " 'civil_comments',\n",
              " 'clevr',\n",
              " 'cmaterdb',\n",
              " 'cnn_dailymail',\n",
              " 'coco',\n",
              " 'coil100',\n",
              " 'colorectal_histology',\n",
              " 'colorectal_histology_large',\n",
              " 'cos_e',\n",
              " 'curated_breast_imaging_ddsm',\n",
              " 'cycle_gan',\n",
              " 'deep_weeds',\n",
              " 'definite_pronoun_resolution',\n",
              " 'diabetic_retinopathy_detection',\n",
              " 'div2k',\n",
              " 'dmlab',\n",
              " 'downsampled_imagenet',\n",
              " 'dsprites',\n",
              " 'dtd',\n",
              " 'duke_ultrasound',\n",
              " 'dummy_dataset_shared_generator',\n",
              " 'dummy_mnist',\n",
              " 'emnist',\n",
              " 'eraser_multi_rc',\n",
              " 'esnli',\n",
              " 'eurosat',\n",
              " 'fashion_mnist',\n",
              " 'flic',\n",
              " 'flores',\n",
              " 'food101',\n",
              " 'gap',\n",
              " 'gigaword',\n",
              " 'glue',\n",
              " 'groove',\n",
              " 'higgs',\n",
              " 'horses_or_humans',\n",
              " 'i_naturalist2017',\n",
              " 'image_label_folder',\n",
              " 'imagenet2012',\n",
              " 'imagenet2012_corrupted',\n",
              " 'imagenet_resized',\n",
              " 'imagenette',\n",
              " 'imagewang',\n",
              " 'imdb_reviews',\n",
              " 'iris',\n",
              " 'kitti',\n",
              " 'kmnist',\n",
              " 'lfw',\n",
              " 'librispeech',\n",
              " 'librispeech_lm',\n",
              " 'libritts',\n",
              " 'lm1b',\n",
              " 'lost_and_found',\n",
              " 'lsun',\n",
              " 'malaria',\n",
              " 'math_dataset',\n",
              " 'mnist',\n",
              " 'mnist_corrupted',\n",
              " 'movie_rationales',\n",
              " 'moving_mnist',\n",
              " 'multi_news',\n",
              " 'multi_nli',\n",
              " 'multi_nli_mismatch',\n",
              " 'natural_questions',\n",
              " 'newsroom',\n",
              " 'nsynth',\n",
              " 'omniglot',\n",
              " 'open_images_v4',\n",
              " 'opinosis',\n",
              " 'oxford_flowers102',\n",
              " 'oxford_iiit_pet',\n",
              " 'para_crawl',\n",
              " 'patch_camelyon',\n",
              " 'pet_finder',\n",
              " 'places365_small',\n",
              " 'plant_leaves',\n",
              " 'plant_village',\n",
              " 'plantae_k',\n",
              " 'qa4mre',\n",
              " 'quickdraw_bitmap',\n",
              " 'reddit_tifu',\n",
              " 'resisc45',\n",
              " 'rock_paper_scissors',\n",
              " 'rock_you',\n",
              " 'scan',\n",
              " 'scene_parse150',\n",
              " 'scicite',\n",
              " 'scientific_papers',\n",
              " 'shapes3d',\n",
              " 'smallnorb',\n",
              " 'snli',\n",
              " 'so2sat',\n",
              " 'speech_commands',\n",
              " 'squad',\n",
              " 'stanford_dogs',\n",
              " 'stanford_online_products',\n",
              " 'starcraft_video',\n",
              " 'sun397',\n",
              " 'super_glue',\n",
              " 'svhn_cropped',\n",
              " 'ted_hrlr_translate',\n",
              " 'ted_multi_translate',\n",
              " 'tf_flowers',\n",
              " 'the300w_lp',\n",
              " 'tiny_shakespeare',\n",
              " 'titanic',\n",
              " 'trivia_qa',\n",
              " 'uc_merced',\n",
              " 'ucf101',\n",
              " 'vgg_face2',\n",
              " 'visual_domain_decathlon',\n",
              " 'voc',\n",
              " 'wider_face',\n",
              " 'wikihow',\n",
              " 'wikipedia',\n",
              " 'wmt14_translate',\n",
              " 'wmt15_translate',\n",
              " 'wmt16_translate',\n",
              " 'wmt17_translate',\n",
              " 'wmt18_translate',\n",
              " 'wmt19_translate',\n",
              " 'wmt_t2t_translate',\n",
              " 'wmt_translate',\n",
              " 'xnli',\n",
              " 'xsum',\n",
              " 'yelp_polarity_reviews']"
            ]
          },
          "metadata": {
            "tags": []
          },
          "execution_count": 11
        }
      ]
    },
    {
      "cell_type": "markdown",
      "metadata": {
        "id": "IRbrEJwZTzOQ",
        "colab_type": "text"
      },
      "source": [
        "## Get Information on the Data"
      ]
    },
    {
      "cell_type": "code",
      "metadata": {
        "id": "LiN5H791TUC_",
        "colab_type": "code",
        "colab": {}
      },
      "source": [
        "builder = tfds.builder('rock_paper_scissors')"
      ],
      "execution_count": null,
      "outputs": []
    },
    {
      "cell_type": "code",
      "metadata": {
        "id": "DCIPbtIDTUFg",
        "colab_type": "code",
        "colab": {
          "base_uri": "https://localhost:8080/",
          "height": 425
        },
        "outputId": "89696df1-920d-4537-c54a-42f4e4118876"
      },
      "source": [
        "info = builder.info\n",
        "info"
      ],
      "execution_count": null,
      "outputs": [
        {
          "output_type": "execute_result",
          "data": {
            "text/plain": [
              "tfds.core.DatasetInfo(\n",
              "    name='rock_paper_scissors',\n",
              "    version=3.0.0,\n",
              "    description='Images of hands playing rock, paper, scissor game.',\n",
              "    homepage='http://laurencemoroney.com/rock-paper-scissors-dataset',\n",
              "    features=FeaturesDict({\n",
              "        'image': Image(shape=(300, 300, 3), dtype=tf.uint8),\n",
              "        'label': ClassLabel(shape=(), dtype=tf.int64, num_classes=3),\n",
              "    }),\n",
              "    total_num_examples=2892,\n",
              "    splits={\n",
              "        'test': 372,\n",
              "        'train': 2520,\n",
              "    },\n",
              "    supervised_keys=('image', 'label'),\n",
              "    citation=\"\"\"@ONLINE {rps,\n",
              "    author = \"Laurence Moroney\",\n",
              "    title = \"Rock, Paper, Scissors Dataset\",\n",
              "    month = \"feb\",\n",
              "    year = \"2019\",\n",
              "    url = \"http://laurencemoroney.com/rock-paper-scissors-dataset\"\n",
              "    }\"\"\",\n",
              "    redistribution_info=,\n",
              ")"
            ]
          },
          "metadata": {
            "tags": []
          },
          "execution_count": 13
        }
      ]
    },
    {
      "cell_type": "markdown",
      "metadata": {
        "id": "8l6PuQg6XFEp",
        "colab_type": "text"
      },
      "source": [
        "## Prepare Rock,Paper,Scissors Data"
      ]
    },
    {
      "cell_type": "code",
      "metadata": {
        "id": "i3z2ISO-TUH_",
        "colab_type": "code",
        "colab": {}
      },
      "source": [
        "ds_train = tfds.load(name='rock_paper_scissors',split='train')\n",
        "ds_test  = tfds.load(name=\"rock_paper_scissors\",split='test')"
      ],
      "execution_count": null,
      "outputs": []
    },
    {
      "cell_type": "markdown",
      "metadata": {
        "id": "v2WkhrOCewzj",
        "colab_type": "text"
      },
      "source": [
        "## Show Examples"
      ]
    },
    {
      "cell_type": "code",
      "metadata": {
        "id": "_G3_X_waXluY",
        "colab_type": "code",
        "colab": {
          "base_uri": "https://localhost:8080/",
          "height": 534
        },
        "outputId": "281d14cb-9578-4e16-d18a-9ccf43043636"
      },
      "source": [
        "fig = tfds.show_examples(info,ds_train)"
      ],
      "execution_count": null,
      "outputs": [
        {
          "output_type": "display_data",
          "data": {
            "image/png": "[encoded data removed]",
            "text/plain": [
              "<Figure size 648x648 with 9 Axes>"
            ]
          },
          "metadata": {
            "tags": []
          }
        }
      ]
    },
    {
      "cell_type": "markdown",
      "metadata": {
        "id": "vZVwrBuXfgzJ",
        "colab_type": "text"
      },
      "source": [
        "## Additional Data Prep"
      ]
    },
    {
      "cell_type": "code",
      "metadata": {
        "id": "0NJYQc36e-fp",
        "colab_type": "code",
        "colab": {}
      },
      "source": [
        "train_images = np.array([example['image'].numpy()[:,:,0] for example in ds_train])\n",
        "train_labels = np.array([example['label'].numpy() for example in ds_train])\n",
        "\n",
        "test_images = np.array([example['image'].numpy()[:,:,0] for example in ds_test])\n",
        "test_labels = np.array([example['label'].numpy() for example in ds_test])\n"
      ],
      "execution_count": null,
      "outputs": []
    },
    {
      "cell_type": "code",
      "metadata": {
        "id": "gJaH9BTmgu8T",
        "colab_type": "code",
        "colab": {}
      },
      "source": [
        "train_images = train_images.reshape(2520,300,300,1)\n",
        "test_images = test_images.reshape(372,300,300,1)\n",
        "\n",
        "train_images = train_images.astype('float32')\n",
        "test_images = test_images.astype('float32')\n",
        "\n",
        "train_images /= 255\n",
        "test_images /= 255\n"
      ],
      "execution_count": null,
      "outputs": []
    },
    {
      "cell_type": "code",
      "metadata": {
        "id": "LjpI6vj_gz4X",
        "colab_type": "code",
        "colab": {
          "base_uri": "https://localhost:8080/",
          "height": 34
        },
        "outputId": "9cb8fb92-d225-458e-ea9e-dcb152762fc1"
      },
      "source": [
        "train_images[0].shape"
      ],
      "execution_count": null,
      "outputs": [
        {
          "output_type": "execute_result",
          "data": {
            "text/plain": [
              "(300, 300, 1)"
            ]
          },
          "metadata": {
            "tags": []
          },
          "execution_count": 39
        }
      ]
    },
    {
      "cell_type": "markdown",
      "metadata": {
        "id": "vvzI2s3IlXeu",
        "colab_type": "text"
      },
      "source": [
        "## Train a Network(basic approach)\n"
      ]
    },
    {
      "cell_type": "code",
      "metadata": {
        "id": "OjY23N10lNfF",
        "colab_type": "code",
        "colab": {
          "base_uri": "https://localhost:8080/",
          "height": 374
        },
        "outputId": "42d6c4fa-c4a9-47b2-e3c1-ec9e8f872cd6"
      },
      "source": [
        "model = keras.Sequential([\n",
        "                          keras.layers.Flatten(),\n",
        "                          keras.layers.Dense(512,activation='relu'),\n",
        "                          keras.layers.Dense(256,activation='relu'),\n",
        "                          keras.layers.Dense(3,activation='softmax')\n",
        "])\n",
        "\n",
        "model.compile(optimizer = 'adam',\n",
        "              loss = keras.losses.SparseCategoricalCrossentropy(),\n",
        "              metrics=['accuracy'])\n",
        "model.fit(train_images,train_labels,epochs=10,batch_size=32)"
      ],
      "execution_count": null,
      "outputs": [
        {
          "output_type": "stream",
          "text": [
            "Epoch 1/10\n",
            "79/79 [==============================] - 1s 10ms/step - loss: 25.5296 - accuracy: 0.4004\n",
            "Epoch 2/10\n",
            "79/79 [==============================] - 1s 10ms/step - loss: 1.8919 - accuracy: 0.6798\n",
            "Epoch 3/10\n",
            "79/79 [==============================] - 1s 10ms/step - loss: 1.8898 - accuracy: 0.6524\n",
            "Epoch 4/10\n",
            "79/79 [==============================] - 1s 10ms/step - loss: 0.9786 - accuracy: 0.7377\n",
            "Epoch 5/10\n",
            "79/79 [==============================] - 1s 10ms/step - loss: 0.6022 - accuracy: 0.8230\n",
            "Epoch 6/10\n",
            "79/79 [==============================] - 1s 10ms/step - loss: 0.4712 - accuracy: 0.8488\n",
            "Epoch 7/10\n",
            "79/79 [==============================] - 1s 10ms/step - loss: 0.3446 - accuracy: 0.8762\n",
            "Epoch 8/10\n",
            "79/79 [==============================] - 1s 10ms/step - loss: 0.1842 - accuracy: 0.9325\n",
            "Epoch 9/10\n",
            "79/79 [==============================] - 1s 10ms/step - loss: 0.1235 - accuracy: 0.9607\n",
            "Epoch 10/10\n",
            "79/79 [==============================] - 1s 10ms/step - loss: 0.1081 - accuracy: 0.9655\n"
          ],
          "name": "stdout"
        },
        {
          "output_type": "execute_result",
          "data": {
            "text/plain": [
              "<tensorflow.python.keras.callbacks.History at 0x7fa1a7556160>"
            ]
          },
          "metadata": {
            "tags": []
          },
          "execution_count": 43
        }
      ]
    },
    {
      "cell_type": "code",
      "metadata": {
        "id": "frKtaWMumokb",
        "colab_type": "code",
        "colab": {
          "base_uri": "https://localhost:8080/",
          "height": 51
        },
        "outputId": "32f2da3d-6f52-4f99-d7c4-622364bd2fcc"
      },
      "source": [
        "model.evaluate(test_images,test_labels)"
      ],
      "execution_count": null,
      "outputs": [
        {
          "output_type": "stream",
          "text": [
            "12/12 [==============================] - 0s 6ms/step - loss: 2.4194 - accuracy: 0.4704\n"
          ],
          "name": "stdout"
        },
        {
          "output_type": "execute_result",
          "data": {
            "text/plain": [
              "[2.419400691986084, 0.4704301059246063]"
            ]
          },
          "metadata": {
            "tags": []
          },
          "execution_count": 44
        }
      ]
    },
    {
      "cell_type": "markdown",
      "metadata": {
        "id": "amaPEpVvnxGI",
        "colab_type": "text"
      },
      "source": [
        "## Train a Network(convolutional approach)\n",
        "\n",
        "\n"
      ]
    },
    {
      "cell_type": "code",
      "metadata": {
        "id": "F0XqfTCXn6Bk",
        "colab_type": "code",
        "colab": {
          "base_uri": "https://localhost:8080/",
          "height": 204
        },
        "outputId": "0a9000cb-5d58-4974-ef39-5c879049b452"
      },
      "source": [
        "model = keras.Sequential([\n",
        "                          keras.layers.Conv2D(64,3,activation='relu',input_shape=(300,300,1)),\n",
        "                          keras.layers.Conv2D(32,3,activation='relu'),\n",
        "                          keras.layers.Flatten(),\n",
        "                          keras.layers.Dense(3,activation='softmax')\n",
        "])\n",
        "model.compile(optimizer='adam',\n",
        "              loss=keras.losses.SparseCategoricalCrossentropy(),\n",
        "              metrics=['accuracy'])\n",
        "model.fit(train_images,train_labels,epochs=5,batch_size=32)"
      ],
      "execution_count": null,
      "outputs": [
        {
          "output_type": "stream",
          "text": [
            "Epoch 1/5\n",
            "79/79 [==============================] - 8s 102ms/step - loss: 4.1274 - accuracy: 0.7437\n",
            "Epoch 2/5\n",
            "79/79 [==============================] - 8s 98ms/step - loss: 0.1627 - accuracy: 0.9750\n",
            "Epoch 3/5\n",
            "79/79 [==============================] - 8s 98ms/step - loss: 0.0410 - accuracy: 0.9972\n",
            "Epoch 4/5\n",
            "79/79 [==============================] - 8s 98ms/step - loss: 0.0044 - accuracy: 1.0000\n",
            "Epoch 5/5\n",
            "79/79 [==============================] - 8s 98ms/step - loss: 0.0026 - accuracy: 1.0000\n"
          ],
          "name": "stdout"
        },
        {
          "output_type": "execute_result",
          "data": {
            "text/plain": [
              "<tensorflow.python.keras.callbacks.History at 0x7fa1a4acb9e8>"
            ]
          },
          "metadata": {
            "tags": []
          },
          "execution_count": 45
        }
      ]
    },
    {
      "cell_type": "code",
      "metadata": {
        "id": "nyHrsegAqgkr",
        "colab_type": "code",
        "colab": {
          "base_uri": "https://localhost:8080/",
          "height": 51
        },
        "outputId": "590dbddb-f69b-413c-f1d2-08fff57ee49e"
      },
      "source": [
        "model.evaluate(test_images,test_labels)"
      ],
      "execution_count": null,
      "outputs": [
        {
          "output_type": "stream",
          "text": [
            "12/12 [==============================] - 1s 50ms/step - loss: 2.3696 - accuracy: 0.5081\n"
          ],
          "name": "stdout"
        },
        {
          "output_type": "execute_result",
          "data": {
            "text/plain": [
              "[2.3695783615112305, 0.5080645084381104]"
            ]
          },
          "metadata": {
            "tags": []
          },
          "execution_count": 46
        }
      ]
    },
    {
      "cell_type": "markdown",
      "metadata": {
        "id": "3RYW62az1-6t",
        "colab_type": "text"
      },
      "source": [
        "## A Better Convolutional Network"
      ]
    },
    {
      "cell_type": "code",
      "metadata": {
        "id": "E4BbTcU212Q3",
        "colab_type": "code",
        "colab": {
          "base_uri": "https://localhost:8080/",
          "height": 204
        },
        "outputId": "19c30585-ed04-494a-c935-8eab19986691"
      },
      "source": [
        "model = keras.Sequential([\n",
        "                          keras.layers.AveragePooling2D(6,3,input_shape=(300,300,1)),\n",
        "                          keras.layers.Conv2D(64,3,activation='relu'),\n",
        "                          keras.layers.Conv2D(32,3,activation='relu'),\n",
        "                          keras.layers.MaxPool2D(2,2),\n",
        "                          keras.layers.Dropout(0.5),\n",
        "                          keras.layers.Flatten(),\n",
        "                          keras.layers.Dense(128,activation='relu'),\n",
        "                          keras.layers.Dense(3,activation='softmax')\n",
        "])\n",
        "model.compile(optimizer='adam',\n",
        "              loss=keras.losses.SparseCategoricalCrossentropy(),\n",
        "              metrics=['accuracy'])\n",
        "model.fit(train_images,train_labels,epochs=5,batch_size=32)"
      ],
      "execution_count": null,
      "outputs": [
        {
          "output_type": "stream",
          "text": [
            "Epoch 1/5\n",
            "79/79 [==============================] - 1s 17ms/step - loss: 0.7625 - accuracy: 0.7179\n",
            "Epoch 2/5\n",
            "79/79 [==============================] - 1s 17ms/step - loss: 0.0827 - accuracy: 0.9802\n",
            "Epoch 3/5\n",
            "79/79 [==============================] - 1s 16ms/step - loss: 0.0165 - accuracy: 0.9972\n",
            "Epoch 4/5\n",
            "79/79 [==============================] - 1s 16ms/step - loss: 0.0111 - accuracy: 0.9972\n",
            "Epoch 5/5\n",
            "79/79 [==============================] - 1s 16ms/step - loss: 0.0082 - accuracy: 0.9988\n"
          ],
          "name": "stdout"
        },
        {
          "output_type": "execute_result",
          "data": {
            "text/plain": [
              "<tensorflow.python.keras.callbacks.History at 0x7fa1a058c400>"
            ]
          },
          "metadata": {
            "tags": []
          },
          "execution_count": 54
        }
      ]
    },
    {
      "cell_type": "code",
      "metadata": {
        "id": "Ms0M3cPB2xLQ",
        "colab_type": "code",
        "colab": {
          "base_uri": "https://localhost:8080/",
          "height": 51
        },
        "outputId": "1131838e-44bc-463d-e338-ea5d1c105a03"
      },
      "source": [
        "model.evaluate(test_images,test_labels)"
      ],
      "execution_count": null,
      "outputs": [
        {
          "output_type": "stream",
          "text": [
            "12/12 [==============================] - 0s 8ms/step - loss: 1.2995 - accuracy: 0.6586\n"
          ],
          "name": "stdout"
        },
        {
          "output_type": "execute_result",
          "data": {
            "text/plain": [
              "[1.2995216846466064, 0.6586021780967712]"
            ]
          },
          "metadata": {
            "tags": []
          },
          "execution_count": 55
        }
      ]
    },
    {
      "cell_type": "markdown",
      "metadata": {
        "id": "cokzFDVb8f05",
        "colab_type": "text"
      },
      "source": [
        "## Hyperparameter Tuning"
      ]
    },
    {
      "cell_type": "code",
      "metadata": {
        "id": "dhRbO6vn6rNz",
        "colab_type": "code",
        "colab": {
          "base_uri": "https://localhost:8080/",
          "height": 530
        },
        "outputId": "29bc409d-5e95-4662-acd6-eeb983870738"
      },
      "source": [
        "pip install -U keras-tuner\n"
      ],
      "execution_count": null,
      "outputs": [
        {
          "output_type": "stream",
          "text": [
            "Collecting keras-tuner\n",
            "\u001b[?25l  Downloading https://files.pythonhosted.org/packages/a7/f7/4b41b6832abf4c9bef71a664dc563adb25afc5812831667c6db572b1a261/keras-tuner-1.0.1.tar.gz (54kB)\n",
            "\r\u001b[K     |██████                          | 10kB 30.6MB/s eta 0:00:01\r\u001b[K     |████████████                    | 20kB 2.9MB/s eta 0:00:01\r\u001b[K     |██████████████████              | 30kB 3.8MB/s eta 0:00:01\r\u001b[K     |████████████████████████        | 40kB 4.2MB/s eta 0:00:01\r\u001b[K     |██████████████████████████████  | 51kB 3.4MB/s eta 0:00:01\r\u001b[K     |████████████████████████████████| 61kB 2.9MB/s \n",
            "\u001b[?25hRequirement already satisfied, skipping upgrade: future in /usr/local/lib/python3.6/dist-packages (from keras-tuner) (0.16.0)\n",
            "Requirement already satisfied, skipping upgrade: numpy in /usr/local/lib/python3.6/dist-packages (from keras-tuner) (1.18.5)\n",
            "Requirement already satisfied, skipping upgrade: tabulate in /usr/local/lib/python3.6/dist-packages (from keras-tuner) (0.8.7)\n",
            "Collecting terminaltables\n",
            "  Downloading https://files.pythonhosted.org/packages/9b/c4/4a21174f32f8a7e1104798c445dacdc1d4df86f2f26722767034e4de4bff/terminaltables-3.1.0.tar.gz\n",
            "Collecting colorama\n",
            "  Downloading https://files.pythonhosted.org/packages/c9/dc/45cdef1b4d119eb96316b3117e6d5708a08029992b2fee2c143c7a0a5cc5/colorama-0.4.3-py2.py3-none-any.whl\n",
            "Requirement already satisfied, skipping upgrade: tqdm in /usr/local/lib/python3.6/dist-packages (from keras-tuner) (4.41.1)\n",
            "Requirement already satisfied, skipping upgrade: requests in /usr/local/lib/python3.6/dist-packages (from keras-tuner) (2.23.0)\n",
            "Requirement already satisfied, skipping upgrade: scipy in /usr/local/lib/python3.6/dist-packages (from keras-tuner) (1.4.1)\n",
            "Requirement already satisfied, skipping upgrade: scikit-learn in /usr/local/lib/python3.6/dist-packages (from keras-tuner) (0.22.2.post1)\n",
            "Requirement already satisfied, skipping upgrade: urllib3!=1.25.0,!=1.25.1,<1.26,>=1.21.1 in /usr/local/lib/python3.6/dist-packages (from requests->keras-tuner) (1.24.3)\n",
            "Requirement already satisfied, skipping upgrade: chardet<4,>=3.0.2 in /usr/local/lib/python3.6/dist-packages (from requests->keras-tuner) (3.0.4)\n",
            "Requirement already satisfied, skipping upgrade: idna<3,>=2.5 in /usr/local/lib/python3.6/dist-packages (from requests->keras-tuner) (2.9)\n",
            "Requirement already satisfied, skipping upgrade: certifi>=2017.4.17 in /usr/local/lib/python3.6/dist-packages (from requests->keras-tuner) (2020.6.20)\n",
            "Requirement already satisfied, skipping upgrade: joblib>=0.11 in /usr/local/lib/python3.6/dist-packages (from scikit-learn->keras-tuner) (0.15.1)\n",
            "Building wheels for collected packages: keras-tuner, terminaltables\n",
            "  Building wheel for keras-tuner (setup.py) ... \u001b[?25l\u001b[?25hdone\n",
            "  Created wheel for keras-tuner: filename=keras_tuner-1.0.1-cp36-none-any.whl size=73200 sha256=23f53156f461d989f93ab8fbaa83e757ab491029227fabc246ea916355d816da\n",
            "  Stored in directory: /root/.cache/pip/wheels/b9/cc/62/52716b70dd90f3db12519233c3a93a5360bc672da1a10ded43\n",
            "  Building wheel for terminaltables (setup.py) ... \u001b[?25l\u001b[?25hdone\n",
            "  Created wheel for terminaltables: filename=terminaltables-3.1.0-cp36-none-any.whl size=15356 sha256=46c8e171b00b6af168747e1074a3e107ee4aeae3691874871abf1834784c7c1f\n",
            "  Stored in directory: /root/.cache/pip/wheels/30/6b/50/6c75775b681fb36cdfac7f19799888ef9d8813aff9e379663e\n",
            "Successfully built keras-tuner terminaltables\n",
            "Installing collected packages: terminaltables, colorama, keras-tuner\n",
            "Successfully installed colorama-0.4.3 keras-tuner-1.0.1 terminaltables-3.1.0\n"
          ],
          "name": "stdout"
        }
      ]
    },
    {
      "cell_type": "code",
      "metadata": {
        "id": "ZHTzzaR29sso",
        "colab_type": "code",
        "colab": {
          "base_uri": "https://localhost:8080/",
          "height": 1000
        },
        "outputId": "778e0c3f-9818-4f87-bcd6-c4f09917610e"
      },
      "source": [
        "from kerastuner.tuners import RandomSearch\n",
        "\n",
        "def build_model(hp):\n",
        "  \n",
        "  model = keras.Sequential()\n",
        "  model.add(keras.layers.AveragePooling2D(6,3,input_shape=(300,300,1)))\n",
        "  for i in range(hp.Int('Conv Layers',min_value=0,max_value=3)):\n",
        "    model.add(keras.layers.Conv2D(hp.Choice(f\"layer_{i}_filters\",[16,32,64]),3,activation='relu'))\n",
        "\n",
        "  model.add(keras.layers.MaxPool2D(2,2))\n",
        "  model.add(keras.layers.Dropout(0.5))\n",
        "  model.add(keras.layers.Flatten())\n",
        "\n",
        "  model.add(keras.layers.Dense(hp.Choice('Dense layer',[64,128,256,512,1024]),activation='relu'))\n",
        "\n",
        "  model.add(keras.layers.Dense(3,activation='softmax'))\n",
        "  model.compile(optimizer='adam',\n",
        "              loss=keras.losses.SparseCategoricalCrossentropy(),\n",
        "              metrics=['accuracy'])\n",
        "  return model\n",
        "\n",
        "tuner = RandomSearch(\n",
        "    build_model,\n",
        "    objective='val_accuracy',\n",
        "    max_trials=32,\n",
        "    directory='./new_directory'\n",
        ")\n",
        "tuner.search(train_images,train_labels,validation_data=(test_images,test_labels),epochs=10,batch_size=32)"
      ],
      "execution_count": null,
      "outputs": [
        {
          "output_type": "stream",
          "text": [
            "Epoch 1/10\n",
            "79/79 [==============================] - 2s 21ms/step - loss: 1.3530 - accuracy: 0.6500 - val_loss: 0.8334 - val_accuracy: 0.6371\n",
            "Epoch 2/10\n",
            "79/79 [==============================] - 1s 15ms/step - loss: 0.1857 - accuracy: 0.9619 - val_loss: 0.8104 - val_accuracy: 0.5995\n",
            "Epoch 3/10\n",
            "79/79 [==============================] - 2s 22ms/step - loss: 0.0517 - accuracy: 0.9897 - val_loss: 0.7122 - val_accuracy: 0.7661\n",
            "Epoch 4/10\n",
            "79/79 [==============================] - 1s 15ms/step - loss: 0.0237 - accuracy: 0.9956 - val_loss: 0.8426 - val_accuracy: 0.7446\n",
            "Epoch 5/10\n",
            "79/79 [==============================] - 1s 15ms/step - loss: 0.0103 - accuracy: 0.9996 - val_loss: 0.8447 - val_accuracy: 0.7527\n",
            "Epoch 6/10\n",
            "79/79 [==============================] - 1s 15ms/step - loss: 0.0067 - accuracy: 0.9996 - val_loss: 0.8943 - val_accuracy: 0.7608\n",
            "Epoch 7/10\n",
            "79/79 [==============================] - 1s 15ms/step - loss: 0.0036 - accuracy: 1.0000 - val_loss: 0.9808 - val_accuracy: 0.7527\n",
            "Epoch 8/10\n",
            "79/79 [==============================] - 1s 15ms/step - loss: 0.0023 - accuracy: 1.0000 - val_loss: 0.9512 - val_accuracy: 0.7500\n",
            "Epoch 9/10\n",
            "79/79 [==============================] - 1s 14ms/step - loss: 0.0020 - accuracy: 1.0000 - val_loss: 0.9754 - val_accuracy: 0.7419\n",
            "Epoch 10/10\n",
            "79/79 [==============================] - 1s 15ms/step - loss: 0.0019 - accuracy: 1.0000 - val_loss: 1.2234 - val_accuracy: 0.7312\n"
          ],
          "name": "stdout"
        },
        {
          "output_type": "display_data",
          "data": {
            "text/html": [
              "<span style=\"color:#4527A0\"><h1 style=\"font-size:18px\">Trial complete</h1></span>"
            ],
            "text/plain": [
              "<IPython.core.display.HTML object>"
            ]
          },
          "metadata": {
            "tags": []
          }
        },
        {
          "output_type": "display_data",
          "data": {
            "text/html": [
              "<span style=\"color:#4527A0\"><h1 style=\"font-size:18px\">Trial summary</h1></span>"
            ],
            "text/plain": [
              "<IPython.core.display.HTML object>"
            ]
          },
          "metadata": {
            "tags": []
          }
        },
        {
          "output_type": "display_data",
          "data": {
            "text/html": [
              "<span style=\"color:cyan\"> |-Trial ID: 289d7f4402287acbcdd7a2b8f05e5725</span>"
            ],
            "text/plain": [
              "<IPython.core.display.HTML object>"
            ]
          },
          "metadata": {
            "tags": []
          }
        },
        {
          "output_type": "display_data",
          "data": {
            "text/html": [
              "<span style=\"color:cyan\"> |-Score: 0.7661290168762207</span>"
            ],
            "text/plain": [
              "<IPython.core.display.HTML object>"
            ]
          },
          "metadata": {
            "tags": []
          }
        },
        {
          "output_type": "display_data",
          "data": {
            "text/html": [
              "<span style=\"color:cyan\"> |-Best step: 0</span>"
            ],
            "text/plain": [
              "<IPython.core.display.HTML object>"
            ]
          },
          "metadata": {
            "tags": []
          }
        },
        {
          "output_type": "display_data",
          "data": {
            "text/html": [
              "<span style=\"color:#7E57C2\"><h2 style=\"font-size:16px\">Hyperparameters:</h2></span>"
            ],
            "text/plain": [
              "<IPython.core.display.HTML object>"
            ]
          },
          "metadata": {
            "tags": []
          }
        },
        {
          "output_type": "display_data",
          "data": {
            "text/html": [
              "<span style=\"color:cyan\"> |-Conv Layers: 2</span>"
            ],
            "text/plain": [
              "<IPython.core.display.HTML object>"
            ]
          },
          "metadata": {
            "tags": []
          }
        },
        {
          "output_type": "display_data",
          "data": {
            "text/html": [
              "<span style=\"color:blue\"> |-Dense layer: 512</span>"
            ],
            "text/plain": [
              "<IPython.core.display.HTML object>"
            ]
          },
          "metadata": {
            "tags": []
          }
        },
        {
          "output_type": "display_data",
          "data": {
            "text/html": [
              "<span style=\"color:cyan\"> |-layer_0_filters: 16</span>"
            ],
            "text/plain": [
              "<IPython.core.display.HTML object>"
            ]
          },
          "metadata": {
            "tags": []
          }
        },
        {
          "output_type": "display_data",
          "data": {
            "text/html": [
              "<span style=\"color:blue\"> |-layer_1_filters: 16</span>"
            ],
            "text/plain": [
              "<IPython.core.display.HTML object>"
            ]
          },
          "metadata": {
            "tags": []
          }
        },
        {
          "output_type": "stream",
          "text": [
            "Epoch 1/10\n",
            "79/79 [==============================] - 2s 23ms/step - loss: 0.8409 - accuracy: 0.6790 - val_loss: 1.0221 - val_accuracy: 0.5430\n",
            "Epoch 2/10\n",
            "79/79 [==============================] - 2s 22ms/step - loss: 0.1663 - accuracy: 0.9587 - val_loss: 0.6023 - val_accuracy: 0.7715\n",
            "Epoch 3/10\n",
            "79/79 [==============================] - 2s 22ms/step - loss: 0.0593 - accuracy: 0.9849 - val_loss: 0.6652 - val_accuracy: 0.7823\n",
            "Epoch 4/10\n",
            "79/79 [==============================] - 2s 22ms/step - loss: 0.0238 - accuracy: 0.9937 - val_loss: 0.6519 - val_accuracy: 0.7903\n",
            "Epoch 5/10\n",
            "79/79 [==============================] - 1s 17ms/step - loss: 0.0165 - accuracy: 0.9964 - val_loss: 0.7358 - val_accuracy: 0.7527\n",
            "Epoch 6/10\n",
            "79/79 [==============================] - 1s 16ms/step - loss: 0.0148 - accuracy: 0.9956 - val_loss: 0.8650 - val_accuracy: 0.7285\n",
            "Epoch 7/10\n",
            "79/79 [==============================] - 2s 22ms/step - loss: 0.0068 - accuracy: 0.9988 - val_loss: 0.7282 - val_accuracy: 0.7957\n",
            "Epoch 8/10\n",
            "79/79 [==============================] - 1s 16ms/step - loss: 0.0043 - accuracy: 0.9996 - val_loss: 0.7436 - val_accuracy: 0.7903\n",
            "Epoch 9/10\n",
            "79/79 [==============================] - 1s 15ms/step - loss: 0.0030 - accuracy: 1.0000 - val_loss: 0.7287 - val_accuracy: 0.7688\n",
            "Epoch 10/10\n",
            "79/79 [==============================] - 2s 21ms/step - loss: 0.0031 - accuracy: 0.9996 - val_loss: 0.8438 - val_accuracy: 0.8065\n"
          ],
          "name": "stdout"
        },
        {
          "output_type": "display_data",
          "data": {
            "text/html": [
              "<span style=\"color:#4527A0\"><h1 style=\"font-size:18px\">Trial complete</h1></span>"
            ],
            "text/plain": [
              "<IPython.core.display.HTML object>"
            ]
          },
          "metadata": {
            "tags": []
          }
        },
        {
          "output_type": "display_data",
          "data": {
            "text/html": [
              "<span style=\"color:#4527A0\"><h1 style=\"font-size:18px\">Trial summary</h1></span>"
            ],
            "text/plain": [
              "<IPython.core.display.HTML object>"
            ]
          },
          "metadata": {
            "tags": []
          }
        },
        {
          "output_type": "display_data",
          "data": {
            "text/html": [
              "<span style=\"color:cyan\"> |-Trial ID: f87d926371f27877a806d3a2ee9795ff</span>"
            ],
            "text/plain": [
              "<IPython.core.display.HTML object>"
            ]
          },
          "metadata": {
            "tags": []
          }
        },
        {
          "output_type": "display_data",
          "data": {
            "text/html": [
              "<span style=\"color:cyan\"> |-Score: 0.8064516186714172</span>"
            ],
            "text/plain": [
              "<IPython.core.display.HTML object>"
            ]
          },
          "metadata": {
            "tags": []
          }
        },
        {
          "output_type": "display_data",
          "data": {
            "text/html": [
              "<span style=\"color:cyan\"> |-Best step: 0</span>"
            ],
            "text/plain": [
              "<IPython.core.display.HTML object>"
            ]
          },
          "metadata": {
            "tags": []
          }
        },
        {
          "output_type": "display_data",
          "data": {
            "text/html": [
              "<span style=\"color:#7E57C2\"><h2 style=\"font-size:16px\">Hyperparameters:</h2></span>"
            ],
            "text/plain": [
              "<IPython.core.display.HTML object>"
            ]
          },
          "metadata": {
            "tags": []
          }
        },
        {
          "output_type": "display_data",
          "data": {
            "text/html": [
              "<span style=\"color:cyan\"> |-Conv Layers: 2</span>"
            ],
            "text/plain": [
              "<IPython.core.display.HTML object>"
            ]
          },
          "metadata": {
            "tags": []
          }
        },
        {
          "output_type": "display_data",
          "data": {
            "text/html": [
              "<span style=\"color:blue\"> |-Dense layer: 512</span>"
            ],
            "text/plain": [
              "<IPython.core.display.HTML object>"
            ]
          },
          "metadata": {
            "tags": []
          }
        },
        {
          "output_type": "display_data",
          "data": {
            "text/html": [
              "<span style=\"color:cyan\"> |-layer_0_filters: 32</span>"
            ],
            "text/plain": [
              "<IPython.core.display.HTML object>"
            ]
          },
          "metadata": {
            "tags": []
          }
        },
        {
          "output_type": "display_data",
          "data": {
            "text/html": [
              "<span style=\"color:blue\"> |-layer_1_filters: 16</span>"
            ],
            "text/plain": [
              "<IPython.core.display.HTML object>"
            ]
          },
          "metadata": {
            "tags": []
          }
        },
        {
          "output_type": "stream",
          "text": [
            "Epoch 1/10\n",
            "79/79 [==============================] - 3s 33ms/step - loss: 0.7106 - accuracy: 0.7147 - val_loss: 1.1054 - val_accuracy: 0.4946\n",
            "Epoch 2/10\n",
            "79/79 [==============================] - 2s 30ms/step - loss: 0.0681 - accuracy: 0.9817 - val_loss: 1.2101 - val_accuracy: 0.7177\n",
            "Epoch 3/10\n",
            "79/79 [==============================] - 2s 28ms/step - loss: 0.0214 - accuracy: 0.9933 - val_loss: 1.5586 - val_accuracy: 0.6613\n",
            "Epoch 4/10\n",
            "79/79 [==============================] - 2s 30ms/step - loss: 0.0089 - accuracy: 0.9976 - val_loss: 1.4234 - val_accuracy: 0.7285\n",
            "Epoch 5/10\n",
            "79/79 [==============================] - 2s 28ms/step - loss: 0.0051 - accuracy: 0.9984 - val_loss: 1.3170 - val_accuracy: 0.5565\n",
            "Epoch 6/10\n",
            "79/79 [==============================] - 2s 28ms/step - loss: 0.0035 - accuracy: 0.9992 - val_loss: 1.3461 - val_accuracy: 0.6640\n",
            "Epoch 7/10\n",
            "79/79 [==============================] - 2s 28ms/step - loss: 0.0261 - accuracy: 0.9909 - val_loss: 1.0637 - val_accuracy: 0.6210\n",
            "Epoch 8/10\n",
            "79/79 [==============================] - 2s 30ms/step - loss: 0.0108 - accuracy: 0.9960 - val_loss: 0.9698 - val_accuracy: 0.7769\n",
            "Epoch 9/10\n",
            "79/79 [==============================] - 2s 28ms/step - loss: 0.0061 - accuracy: 0.9984 - val_loss: 0.9796 - val_accuracy: 0.7366\n",
            "Epoch 10/10\n",
            "79/79 [==============================] - 2s 28ms/step - loss: 0.0027 - accuracy: 0.9992 - val_loss: 1.5473 - val_accuracy: 0.7070\n"
          ],
          "name": "stdout"
        },
        {
          "output_type": "display_data",
          "data": {
            "text/html": [
              "<span style=\"color:#4527A0\"><h1 style=\"font-size:18px\">Trial complete</h1></span>"
            ],
            "text/plain": [
              "<IPython.core.display.HTML object>"
            ]
          },
          "metadata": {
            "tags": []
          }
        },
        {
          "output_type": "display_data",
          "data": {
            "text/html": [
              "<span style=\"color:#4527A0\"><h1 style=\"font-size:18px\">Trial summary</h1></span>"
            ],
            "text/plain": [
              "<IPython.core.display.HTML object>"
            ]
          },
          "metadata": {
            "tags": []
          }
        },
        {
          "output_type": "display_data",
          "data": {
            "text/html": [
              "<span style=\"color:cyan\"> |-Trial ID: a135582c29e794f5c49fba62a5643d1d</span>"
            ],
            "text/plain": [
              "<IPython.core.display.HTML object>"
            ]
          },
          "metadata": {
            "tags": []
          }
        },
        {
          "output_type": "display_data",
          "data": {
            "text/html": [
              "<span style=\"color:cyan\"> |-Score: 0.7768816947937012</span>"
            ],
            "text/plain": [
              "<IPython.core.display.HTML object>"
            ]
          },
          "metadata": {
            "tags": []
          }
        },
        {
          "output_type": "display_data",
          "data": {
            "text/html": [
              "<span style=\"color:cyan\"> |-Best step: 0</span>"
            ],
            "text/plain": [
              "<IPython.core.display.HTML object>"
            ]
          },
          "metadata": {
            "tags": []
          }
        },
        {
          "output_type": "display_data",
          "data": {
            "text/html": [
              "<span style=\"color:#7E57C2\"><h2 style=\"font-size:16px\">Hyperparameters:</h2></span>"
            ],
            "text/plain": [
              "<IPython.core.display.HTML object>"
            ]
          },
          "metadata": {
            "tags": []
          }
        },
        {
          "output_type": "display_data",
          "data": {
            "text/html": [
              "<span style=\"color:cyan\"> |-Conv Layers: 3</span>"
            ],
            "text/plain": [
              "<IPython.core.display.HTML object>"
            ]
          },
          "metadata": {
            "tags": []
          }
        },
        {
          "output_type": "display_data",
          "data": {
            "text/html": [
              "<span style=\"color:blue\"> |-Dense layer: 256</span>"
            ],
            "text/plain": [
              "<IPython.core.display.HTML object>"
            ]
          },
          "metadata": {
            "tags": []
          }
        },
        {
          "output_type": "display_data",
          "data": {
            "text/html": [
              "<span style=\"color:cyan\"> |-layer_0_filters: 64</span>"
            ],
            "text/plain": [
              "<IPython.core.display.HTML object>"
            ]
          },
          "metadata": {
            "tags": []
          }
        },
        {
          "output_type": "display_data",
          "data": {
            "text/html": [
              "<span style=\"color:blue\"> |-layer_1_filters: 64</span>"
            ],
            "text/plain": [
              "<IPython.core.display.HTML object>"
            ]
          },
          "metadata": {
            "tags": []
          }
        },
        {
          "output_type": "display_data",
          "data": {
            "text/html": [
              "<span style=\"color:cyan\"> |-layer_2_filters: 16</span>"
            ],
            "text/plain": [
              "<IPython.core.display.HTML object>"
            ]
          },
          "metadata": {
            "tags": []
          }
        },
        {
          "output_type": "stream",
          "text": [
            "Epoch 1/10\n",
            "79/79 [==============================] - 16s 205ms/step - loss: 0.9946 - accuracy: 0.8036 - val_loss: 0.9149 - val_accuracy: 0.6694\n",
            "Epoch 2/10\n",
            "79/79 [==============================] - 47s 591ms/step - loss: 0.0224 - accuracy: 0.9944 - val_loss: 1.1384 - val_accuracy: 0.6828\n",
            "Epoch 3/10\n",
            "79/79 [==============================] - 3s 37ms/step - loss: 0.0021 - accuracy: 1.0000 - val_loss: 1.4998 - val_accuracy: 0.6694\n",
            "Epoch 4/10\n",
            "79/79 [==============================] - 3s 37ms/step - loss: 5.0022e-04 - accuracy: 1.0000 - val_loss: 1.6163 - val_accuracy: 0.6720\n",
            "Epoch 5/10\n",
            "79/79 [==============================] - 3s 37ms/step - loss: 3.0384e-04 - accuracy: 1.0000 - val_loss: 1.7511 - val_accuracy: 0.6640\n",
            "Epoch 6/10\n",
            "79/79 [==============================] - 3s 37ms/step - loss: 2.4574e-04 - accuracy: 1.0000 - val_loss: 1.7711 - val_accuracy: 0.6613\n",
            "Epoch 7/10\n",
            "79/79 [==============================] - 3s 37ms/step - loss: 1.4150e-04 - accuracy: 1.0000 - val_loss: 1.8570 - val_accuracy: 0.6532\n",
            "Epoch 8/10\n",
            "79/79 [==============================] - 3s 37ms/step - loss: 1.0283e-04 - accuracy: 1.0000 - val_loss: 1.8289 - val_accuracy: 0.6667\n",
            "Epoch 9/10\n",
            "79/79 [==============================] - 3s 37ms/step - loss: 7.5266e-05 - accuracy: 1.0000 - val_loss: 1.9313 - val_accuracy: 0.6640\n",
            "Epoch 10/10\n",
            "79/79 [==============================] - 3s 37ms/step - loss: 7.8078e-05 - accuracy: 1.0000 - val_loss: 1.9307 - val_accuracy: 0.6586\n"
          ],
          "name": "stdout"
        },
        {
          "output_type": "display_data",
          "data": {
            "text/html": [
              "<span style=\"color:#4527A0\"><h1 style=\"font-size:18px\">Trial complete</h1></span>"
            ],
            "text/plain": [
              "<IPython.core.display.HTML object>"
            ]
          },
          "metadata": {
            "tags": []
          }
        },
        {
          "output_type": "display_data",
          "data": {
            "text/html": [
              "<span style=\"color:#4527A0\"><h1 style=\"font-size:18px\">Trial summary</h1></span>"
            ],
            "text/plain": [
              "<IPython.core.display.HTML object>"
            ]
          },
          "metadata": {
            "tags": []
          }
        },
        {
          "output_type": "display_data",
          "data": {
            "text/html": [
              "<span style=\"color:cyan\"> |-Trial ID: 97d428cf2f045f4a0bc5d9ab87e0e031</span>"
            ],
            "text/plain": [
              "<IPython.core.display.HTML object>"
            ]
          },
          "metadata": {
            "tags": []
          }
        },
        {
          "output_type": "display_data",
          "data": {
            "text/html": [
              "<span style=\"color:cyan\"> |-Score: 0.6827957034111023</span>"
            ],
            "text/plain": [
              "<IPython.core.display.HTML object>"
            ]
          },
          "metadata": {
            "tags": []
          }
        },
        {
          "output_type": "display_data",
          "data": {
            "text/html": [
              "<span style=\"color:cyan\"> |-Best step: 0</span>"
            ],
            "text/plain": [
              "<IPython.core.display.HTML object>"
            ]
          },
          "metadata": {
            "tags": []
          }
        },
        {
          "output_type": "display_data",
          "data": {
            "text/html": [
              "<span style=\"color:#7E57C2\"><h2 style=\"font-size:16px\">Hyperparameters:</h2></span>"
            ],
            "text/plain": [
              "<IPython.core.display.HTML object>"
            ]
          },
          "metadata": {
            "tags": []
          }
        },
        {
          "output_type": "display_data",
          "data": {
            "text/html": [
              "<span style=\"color:cyan\"> |-Conv Layers: 2</span>"
            ],
            "text/plain": [
              "<IPython.core.display.HTML object>"
            ]
          },
          "metadata": {
            "tags": []
          }
        },
        {
          "output_type": "display_data",
          "data": {
            "text/html": [
              "<span style=\"color:blue\"> |-Dense layer: 1024</span>"
            ],
            "text/plain": [
              "<IPython.core.display.HTML object>"
            ]
          },
          "metadata": {
            "tags": []
          }
        },
        {
          "output_type": "display_data",
          "data": {
            "text/html": [
              "<span style=\"color:cyan\"> |-layer_0_filters: 32</span>"
            ],
            "text/plain": [
              "<IPython.core.display.HTML object>"
            ]
          },
          "metadata": {
            "tags": []
          }
        },
        {
          "output_type": "display_data",
          "data": {
            "text/html": [
              "<span style=\"color:blue\"> |-layer_1_filters: 64</span>"
            ],
            "text/plain": [
              "<IPython.core.display.HTML object>"
            ]
          },
          "metadata": {
            "tags": []
          }
        },
        {
          "output_type": "display_data",
          "data": {
            "text/html": [
              "<span style=\"color:cyan\"> |-layer_2_filters: 16</span>"
            ],
            "text/plain": [
              "<IPython.core.display.HTML object>"
            ]
          },
          "metadata": {
            "tags": []
          }
        },
        {
          "output_type": "stream",
          "text": [
            "Epoch 1/10\n",
            "79/79 [==============================] - 2s 27ms/step - loss: 0.6823 - accuracy: 0.7567 - val_loss: 0.8347 - val_accuracy: 0.6801\n",
            "Epoch 2/10\n",
            "79/79 [==============================] - 2s 28ms/step - loss: 0.0986 - accuracy: 0.9790 - val_loss: 0.8479 - val_accuracy: 0.7204\n",
            "Epoch 3/10\n",
            "79/79 [==============================] - 2s 21ms/step - loss: 0.0173 - accuracy: 0.9972 - val_loss: 0.9555 - val_accuracy: 0.7151\n",
            "Epoch 4/10\n",
            "79/79 [==============================] - 2s 21ms/step - loss: 0.0102 - accuracy: 0.9984 - val_loss: 1.1151 - val_accuracy: 0.6989\n",
            "Epoch 5/10\n",
            "79/79 [==============================] - 2s 21ms/step - loss: 0.0088 - accuracy: 0.9976 - val_loss: 1.2748 - val_accuracy: 0.7070\n",
            "Epoch 6/10\n",
            "79/79 [==============================] - 2s 20ms/step - loss: 0.0029 - accuracy: 1.0000 - val_loss: 1.3385 - val_accuracy: 0.6962\n",
            "Epoch 7/10\n",
            "79/79 [==============================] - 2s 20ms/step - loss: 0.0016 - accuracy: 1.0000 - val_loss: 1.5015 - val_accuracy: 0.7043\n",
            "Epoch 8/10\n",
            "79/79 [==============================] - 2s 20ms/step - loss: 0.0018 - accuracy: 1.0000 - val_loss: 1.5459 - val_accuracy: 0.6935\n",
            "Epoch 9/10\n",
            "79/79 [==============================] - 2s 20ms/step - loss: 0.0010 - accuracy: 1.0000 - val_loss: 1.5740 - val_accuracy: 0.7043\n",
            "Epoch 10/10\n",
            "79/79 [==============================] - 2s 20ms/step - loss: 6.1338e-04 - accuracy: 1.0000 - val_loss: 1.5853 - val_accuracy: 0.6962\n"
          ],
          "name": "stdout"
        },
        {
          "output_type": "display_data",
          "data": {
            "text/html": [
              "<span style=\"color:#4527A0\"><h1 style=\"font-size:18px\">Trial complete</h1></span>"
            ],
            "text/plain": [
              "<IPython.core.display.HTML object>"
            ]
          },
          "metadata": {
            "tags": []
          }
        },
        {
          "output_type": "display_data",
          "data": {
            "text/html": [
              "<span style=\"color:#4527A0\"><h1 style=\"font-size:18px\">Trial summary</h1></span>"
            ],
            "text/plain": [
              "<IPython.core.display.HTML object>"
            ]
          },
          "metadata": {
            "tags": []
          }
        },
        {
          "output_type": "display_data",
          "data": {
            "text/html": [
              "<span style=\"color:cyan\"> |-Trial ID: add0e48bc41c91cc894d5aa1fc2683a3</span>"
            ],
            "text/plain": [
              "<IPython.core.display.HTML object>"
            ]
          },
          "metadata": {
            "tags": []
          }
        },
        {
          "output_type": "display_data",
          "data": {
            "text/html": [
              "<span style=\"color:cyan\"> |-Score: 0.7204301357269287</span>"
            ],
            "text/plain": [
              "<IPython.core.display.HTML object>"
            ]
          },
          "metadata": {
            "tags": []
          }
        },
        {
          "output_type": "display_data",
          "data": {
            "text/html": [
              "<span style=\"color:cyan\"> |-Best step: 0</span>"
            ],
            "text/plain": [
              "<IPython.core.display.HTML object>"
            ]
          },
          "metadata": {
            "tags": []
          }
        },
        {
          "output_type": "display_data",
          "data": {
            "text/html": [
              "<span style=\"color:#7E57C2\"><h2 style=\"font-size:16px\">Hyperparameters:</h2></span>"
            ],
            "text/plain": [
              "<IPython.core.display.HTML object>"
            ]
          },
          "metadata": {
            "tags": []
          }
        },
        {
          "output_type": "display_data",
          "data": {
            "text/html": [
              "<span style=\"color:cyan\"> |-Conv Layers: 2</span>"
            ],
            "text/plain": [
              "<IPython.core.display.HTML object>"
            ]
          },
          "metadata": {
            "tags": []
          }
        },
        {
          "output_type": "display_data",
          "data": {
            "text/html": [
              "<span style=\"color:blue\"> |-Dense layer: 256</span>"
            ],
            "text/plain": [
              "<IPython.core.display.HTML object>"
            ]
          },
          "metadata": {
            "tags": []
          }
        },
        {
          "output_type": "display_data",
          "data": {
            "text/html": [
              "<span style=\"color:cyan\"> |-layer_0_filters: 64</span>"
            ],
            "text/plain": [
              "<IPython.core.display.HTML object>"
            ]
          },
          "metadata": {
            "tags": []
          }
        },
        {
          "output_type": "display_data",
          "data": {
            "text/html": [
              "<span style=\"color:blue\"> |-layer_1_filters: 32</span>"
            ],
            "text/plain": [
              "<IPython.core.display.HTML object>"
            ]
          },
          "metadata": {
            "tags": []
          }
        },
        {
          "output_type": "display_data",
          "data": {
            "text/html": [
              "<span style=\"color:cyan\"> |-layer_2_filters: 32</span>"
            ],
            "text/plain": [
              "<IPython.core.display.HTML object>"
            ]
          },
          "metadata": {
            "tags": []
          }
        },
        {
          "output_type": "stream",
          "text": [
            "Epoch 1/10\n",
            "79/79 [==============================] - 1s 18ms/step - loss: 1.6007 - accuracy: 0.4825 - val_loss: 1.0645 - val_accuracy: 0.4355\n",
            "Epoch 2/10\n",
            "79/79 [==============================] - 1s 18ms/step - loss: 0.7247 - accuracy: 0.7131 - val_loss: 0.9835 - val_accuracy: 0.5000\n",
            "Epoch 3/10\n",
            "79/79 [==============================] - 1s 17ms/step - loss: 0.5358 - accuracy: 0.8444 - val_loss: 0.8496 - val_accuracy: 0.5968\n",
            "Epoch 4/10\n",
            "79/79 [==============================] - 2s 21ms/step - loss: 0.3324 - accuracy: 0.9250 - val_loss: 0.7290 - val_accuracy: 0.7581\n",
            "Epoch 5/10\n",
            "79/79 [==============================] - 1s 15ms/step - loss: 0.1619 - accuracy: 0.9758 - val_loss: 0.7648 - val_accuracy: 0.6613\n",
            "Epoch 6/10\n",
            "79/79 [==============================] - 1s 14ms/step - loss: 0.0897 - accuracy: 0.9897 - val_loss: 0.8148 - val_accuracy: 0.6532\n",
            "Epoch 7/10\n",
            "79/79 [==============================] - 1s 15ms/step - loss: 0.0529 - accuracy: 0.9937 - val_loss: 0.8961 - val_accuracy: 0.5914\n",
            "Epoch 8/10\n",
            "79/79 [==============================] - 1s 15ms/step - loss: 0.0320 - accuracy: 0.9964 - val_loss: 0.8049 - val_accuracy: 0.6828\n",
            "Epoch 9/10\n",
            "79/79 [==============================] - 1s 15ms/step - loss: 0.0250 - accuracy: 0.9964 - val_loss: 0.7581 - val_accuracy: 0.7124\n",
            "Epoch 10/10\n",
            "79/79 [==============================] - 1s 14ms/step - loss: 0.0176 - accuracy: 0.9984 - val_loss: 0.8042 - val_accuracy: 0.7473\n"
          ],
          "name": "stdout"
        },
        {
          "output_type": "display_data",
          "data": {
            "text/html": [
              "<span style=\"color:#4527A0\"><h1 style=\"font-size:18px\">Trial complete</h1></span>"
            ],
            "text/plain": [
              "<IPython.core.display.HTML object>"
            ]
          },
          "metadata": {
            "tags": []
          }
        },
        {
          "output_type": "display_data",
          "data": {
            "text/html": [
              "<span style=\"color:#4527A0\"><h1 style=\"font-size:18px\">Trial summary</h1></span>"
            ],
            "text/plain": [
              "<IPython.core.display.HTML object>"
            ]
          },
          "metadata": {
            "tags": []
          }
        },
        {
          "output_type": "display_data",
          "data": {
            "text/html": [
              "<span style=\"color:cyan\"> |-Trial ID: 8d7af9f4a77f473a07e23541f147d420</span>"
            ],
            "text/plain": [
              "<IPython.core.display.HTML object>"
            ]
          },
          "metadata": {
            "tags": []
          }
        },
        {
          "output_type": "display_data",
          "data": {
            "text/html": [
              "<span style=\"color:cyan\"> |-Score: 0.7580645084381104</span>"
            ],
            "text/plain": [
              "<IPython.core.display.HTML object>"
            ]
          },
          "metadata": {
            "tags": []
          }
        },
        {
          "output_type": "display_data",
          "data": {
            "text/html": [
              "<span style=\"color:cyan\"> |-Best step: 0</span>"
            ],
            "text/plain": [
              "<IPython.core.display.HTML object>"
            ]
          },
          "metadata": {
            "tags": []
          }
        },
        {
          "output_type": "display_data",
          "data": {
            "text/html": [
              "<span style=\"color:#7E57C2\"><h2 style=\"font-size:16px\">Hyperparameters:</h2></span>"
            ],
            "text/plain": [
              "<IPython.core.display.HTML object>"
            ]
          },
          "metadata": {
            "tags": []
          }
        },
        {
          "output_type": "display_data",
          "data": {
            "text/html": [
              "<span style=\"color:cyan\"> |-Conv Layers: 1</span>"
            ],
            "text/plain": [
              "<IPython.core.display.HTML object>"
            ]
          },
          "metadata": {
            "tags": []
          }
        },
        {
          "output_type": "display_data",
          "data": {
            "text/html": [
              "<span style=\"color:blue\"> |-Dense layer: 64</span>"
            ],
            "text/plain": [
              "<IPython.core.display.HTML object>"
            ]
          },
          "metadata": {
            "tags": []
          }
        },
        {
          "output_type": "display_data",
          "data": {
            "text/html": [
              "<span style=\"color:cyan\"> |-layer_0_filters: 64</span>"
            ],
            "text/plain": [
              "<IPython.core.display.HTML object>"
            ]
          },
          "metadata": {
            "tags": []
          }
        },
        {
          "output_type": "display_data",
          "data": {
            "text/html": [
              "<span style=\"color:blue\"> |-layer_1_filters: 32</span>"
            ],
            "text/plain": [
              "<IPython.core.display.HTML object>"
            ]
          },
          "metadata": {
            "tags": []
          }
        },
        {
          "output_type": "display_data",
          "data": {
            "text/html": [
              "<span style=\"color:cyan\"> |-layer_2_filters: 16</span>"
            ],
            "text/plain": [
              "<IPython.core.display.HTML object>"
            ]
          },
          "metadata": {
            "tags": []
          }
        },
        {
          "output_type": "stream",
          "text": [
            "Epoch 1/10\n",
            "79/79 [==============================] - 2s 20ms/step - loss: 1.2846 - accuracy: 0.6710 - val_loss: 0.8531 - val_accuracy: 0.5780\n",
            "Epoch 2/10\n",
            "79/79 [==============================] - 2s 20ms/step - loss: 0.2065 - accuracy: 0.9667 - val_loss: 0.6898 - val_accuracy: 0.7527\n",
            "Epoch 3/10\n",
            "79/79 [==============================] - 1s 14ms/step - loss: 0.0940 - accuracy: 0.9885 - val_loss: 0.6989 - val_accuracy: 0.7419\n",
            "Epoch 4/10\n",
            "79/79 [==============================] - 1s 13ms/step - loss: 0.0525 - accuracy: 0.9929 - val_loss: 0.7527 - val_accuracy: 0.7285\n",
            "Epoch 5/10\n",
            "79/79 [==============================] - 1s 13ms/step - loss: 0.0341 - accuracy: 0.9952 - val_loss: 0.7527 - val_accuracy: 0.7258\n",
            "Epoch 6/10\n",
            "79/79 [==============================] - 2s 19ms/step - loss: 0.0204 - accuracy: 0.9976 - val_loss: 0.7425 - val_accuracy: 0.7661\n",
            "Epoch 7/10\n",
            "79/79 [==============================] - 1s 14ms/step - loss: 0.0154 - accuracy: 0.9984 - val_loss: 0.8692 - val_accuracy: 0.7177\n",
            "Epoch 8/10\n",
            "79/79 [==============================] - 1s 13ms/step - loss: 0.0126 - accuracy: 0.9988 - val_loss: 0.8512 - val_accuracy: 0.7527\n",
            "Epoch 9/10\n",
            "79/79 [==============================] - 1s 13ms/step - loss: 0.0082 - accuracy: 1.0000 - val_loss: 0.8464 - val_accuracy: 0.7500\n",
            "Epoch 10/10\n",
            "79/79 [==============================] - 1s 13ms/step - loss: 0.0083 - accuracy: 0.9988 - val_loss: 0.9509 - val_accuracy: 0.7581\n"
          ],
          "name": "stdout"
        },
        {
          "output_type": "display_data",
          "data": {
            "text/html": [
              "<span style=\"color:#4527A0\"><h1 style=\"font-size:18px\">Trial complete</h1></span>"
            ],
            "text/plain": [
              "<IPython.core.display.HTML object>"
            ]
          },
          "metadata": {
            "tags": []
          }
        },
        {
          "output_type": "display_data",
          "data": {
            "text/html": [
              "<span style=\"color:#4527A0\"><h1 style=\"font-size:18px\">Trial summary</h1></span>"
            ],
            "text/plain": [
              "<IPython.core.display.HTML object>"
            ]
          },
          "metadata": {
            "tags": []
          }
        },
        {
          "output_type": "display_data",
          "data": {
            "text/html": [
              "<span style=\"color:cyan\"> |-Trial ID: 14f840f0a699bc3b177beda5e6775fda</span>"
            ],
            "text/plain": [
              "<IPython.core.display.HTML object>"
            ]
          },
          "metadata": {
            "tags": []
          }
        },
        {
          "output_type": "display_data",
          "data": {
            "text/html": [
              "<span style=\"color:cyan\"> |-Score: 0.7661290168762207</span>"
            ],
            "text/plain": [
              "<IPython.core.display.HTML object>"
            ]
          },
          "metadata": {
            "tags": []
          }
        },
        {
          "output_type": "display_data",
          "data": {
            "text/html": [
              "<span style=\"color:cyan\"> |-Best step: 0</span>"
            ],
            "text/plain": [
              "<IPython.core.display.HTML object>"
            ]
          },
          "metadata": {
            "tags": []
          }
        },
        {
          "output_type": "display_data",
          "data": {
            "text/html": [
              "<span style=\"color:#7E57C2\"><h2 style=\"font-size:16px\">Hyperparameters:</h2></span>"
            ],
            "text/plain": [
              "<IPython.core.display.HTML object>"
            ]
          },
          "metadata": {
            "tags": []
          }
        },
        {
          "output_type": "display_data",
          "data": {
            "text/html": [
              "<span style=\"color:cyan\"> |-Conv Layers: 1</span>"
            ],
            "text/plain": [
              "<IPython.core.display.HTML object>"
            ]
          },
          "metadata": {
            "tags": []
          }
        },
        {
          "output_type": "display_data",
          "data": {
            "text/html": [
              "<span style=\"color:blue\"> |-Dense layer: 256</span>"
            ],
            "text/plain": [
              "<IPython.core.display.HTML object>"
            ]
          },
          "metadata": {
            "tags": []
          }
        },
        {
          "output_type": "display_data",
          "data": {
            "text/html": [
              "<span style=\"color:cyan\"> |-layer_0_filters: 32</span>"
            ],
            "text/plain": [
              "<IPython.core.display.HTML object>"
            ]
          },
          "metadata": {
            "tags": []
          }
        },
        {
          "output_type": "display_data",
          "data": {
            "text/html": [
              "<span style=\"color:blue\"> |-layer_1_filters: 16</span>"
            ],
            "text/plain": [
              "<IPython.core.display.HTML object>"
            ]
          },
          "metadata": {
            "tags": []
          }
        },
        {
          "output_type": "display_data",
          "data": {
            "text/html": [
              "<span style=\"color:cyan\"> |-layer_2_filters: 32</span>"
            ],
            "text/plain": [
              "<IPython.core.display.HTML object>"
            ]
          },
          "metadata": {
            "tags": []
          }
        },
        {
          "output_type": "stream",
          "text": [
            "Epoch 1/10\n",
            "79/79 [==============================] - 3s 32ms/step - loss: 1.0280 - accuracy: 0.5603 - val_loss: 0.9435 - val_accuracy: 0.5296\n",
            "Epoch 2/10\n",
            "79/79 [==============================] - 3s 32ms/step - loss: 0.2100 - accuracy: 0.9433 - val_loss: 0.8216 - val_accuracy: 0.5726\n",
            "Epoch 3/10\n",
            "79/79 [==============================] - 3s 32ms/step - loss: 0.0557 - accuracy: 0.9865 - val_loss: 0.7487 - val_accuracy: 0.6532\n",
            "Epoch 4/10\n",
            "79/79 [==============================] - 2s 32ms/step - loss: 0.0233 - accuracy: 0.9948 - val_loss: 0.8607 - val_accuracy: 0.7043\n",
            "Epoch 5/10\n",
            "79/79 [==============================] - 3s 32ms/step - loss: 0.0089 - accuracy: 0.9984 - val_loss: 1.0355 - val_accuracy: 0.7177\n",
            "Epoch 6/10\n",
            "79/79 [==============================] - 2s 26ms/step - loss: 0.0072 - accuracy: 0.9988 - val_loss: 1.2510 - val_accuracy: 0.6694\n",
            "Epoch 7/10\n",
            "79/79 [==============================] - 2s 26ms/step - loss: 0.0064 - accuracy: 0.9980 - val_loss: 1.3118 - val_accuracy: 0.6828\n",
            "Epoch 8/10\n",
            "79/79 [==============================] - 2s 26ms/step - loss: 0.0020 - accuracy: 1.0000 - val_loss: 1.2394 - val_accuracy: 0.6882\n",
            "Epoch 9/10\n",
            "79/79 [==============================] - 2s 26ms/step - loss: 0.0013 - accuracy: 1.0000 - val_loss: 1.3104 - val_accuracy: 0.6828\n",
            "Epoch 10/10\n",
            "79/79 [==============================] - 2s 25ms/step - loss: 8.3279e-04 - accuracy: 1.0000 - val_loss: 1.2821 - val_accuracy: 0.6640\n"
          ],
          "name": "stdout"
        },
        {
          "output_type": "display_data",
          "data": {
            "text/html": [
              "<span style=\"color:#4527A0\"><h1 style=\"font-size:18px\">Trial complete</h1></span>"
            ],
            "text/plain": [
              "<IPython.core.display.HTML object>"
            ]
          },
          "metadata": {
            "tags": []
          }
        },
        {
          "output_type": "display_data",
          "data": {
            "text/html": [
              "<span style=\"color:#4527A0\"><h1 style=\"font-size:18px\">Trial summary</h1></span>"
            ],
            "text/plain": [
              "<IPython.core.display.HTML object>"
            ]
          },
          "metadata": {
            "tags": []
          }
        },
        {
          "output_type": "display_data",
          "data": {
            "text/html": [
              "<span style=\"color:cyan\"> |-Trial ID: 9a10d18ed201470290c6c616b247ac00</span>"
            ],
            "text/plain": [
              "<IPython.core.display.HTML object>"
            ]
          },
          "metadata": {
            "tags": []
          }
        },
        {
          "output_type": "display_data",
          "data": {
            "text/html": [
              "<span style=\"color:cyan\"> |-Score: 0.7177419066429138</span>"
            ],
            "text/plain": [
              "<IPython.core.display.HTML object>"
            ]
          },
          "metadata": {
            "tags": []
          }
        },
        {
          "output_type": "display_data",
          "data": {
            "text/html": [
              "<span style=\"color:cyan\"> |-Best step: 0</span>"
            ],
            "text/plain": [
              "<IPython.core.display.HTML object>"
            ]
          },
          "metadata": {
            "tags": []
          }
        },
        {
          "output_type": "display_data",
          "data": {
            "text/html": [
              "<span style=\"color:#7E57C2\"><h2 style=\"font-size:16px\">Hyperparameters:</h2></span>"
            ],
            "text/plain": [
              "<IPython.core.display.HTML object>"
            ]
          },
          "metadata": {
            "tags": []
          }
        },
        {
          "output_type": "display_data",
          "data": {
            "text/html": [
              "<span style=\"color:cyan\"> |-Conv Layers: 2</span>"
            ],
            "text/plain": [
              "<IPython.core.display.HTML object>"
            ]
          },
          "metadata": {
            "tags": []
          }
        },
        {
          "output_type": "display_data",
          "data": {
            "text/html": [
              "<span style=\"color:blue\"> |-Dense layer: 128</span>"
            ],
            "text/plain": [
              "<IPython.core.display.HTML object>"
            ]
          },
          "metadata": {
            "tags": []
          }
        },
        {
          "output_type": "display_data",
          "data": {
            "text/html": [
              "<span style=\"color:cyan\"> |-layer_0_filters: 64</span>"
            ],
            "text/plain": [
              "<IPython.core.display.HTML object>"
            ]
          },
          "metadata": {
            "tags": []
          }
        },
        {
          "output_type": "display_data",
          "data": {
            "text/html": [
              "<span style=\"color:blue\"> |-layer_1_filters: 64</span>"
            ],
            "text/plain": [
              "<IPython.core.display.HTML object>"
            ]
          },
          "metadata": {
            "tags": []
          }
        },
        {
          "output_type": "display_data",
          "data": {
            "text/html": [
              "<span style=\"color:cyan\"> |-layer_2_filters: 64</span>"
            ],
            "text/plain": [
              "<IPython.core.display.HTML object>"
            ]
          },
          "metadata": {
            "tags": []
          }
        },
        {
          "output_type": "stream",
          "text": [
            "Epoch 1/10\n",
            "79/79 [==============================] - 1s 10ms/step - loss: 1.4085 - accuracy: 0.3952 - val_loss: 1.0636 - val_accuracy: 0.3118\n",
            "Epoch 2/10\n",
            "79/79 [==============================] - 1s 9ms/step - loss: 0.9591 - accuracy: 0.5365 - val_loss: 1.1179 - val_accuracy: 0.3602\n",
            "Epoch 3/10\n",
            "79/79 [==============================] - 1s 9ms/step - loss: 0.8488 - accuracy: 0.6095 - val_loss: 1.0146 - val_accuracy: 0.3763\n",
            "Epoch 4/10\n",
            "79/79 [==============================] - 1s 9ms/step - loss: 0.7813 - accuracy: 0.6484 - val_loss: 1.0473 - val_accuracy: 0.4758\n",
            "Epoch 5/10\n",
            "79/79 [==============================] - 1s 9ms/step - loss: 0.8180 - accuracy: 0.6488 - val_loss: 1.0160 - val_accuracy: 0.3737\n",
            "Epoch 6/10\n",
            "79/79 [==============================] - 1s 9ms/step - loss: 0.7271 - accuracy: 0.6889 - val_loss: 1.0561 - val_accuracy: 0.5376\n",
            "Epoch 7/10\n",
            "79/79 [==============================] - 1s 9ms/step - loss: 0.7623 - accuracy: 0.6671 - val_loss: 0.9765 - val_accuracy: 0.5054\n",
            "Epoch 8/10\n",
            "79/79 [==============================] - 1s 9ms/step - loss: 0.6909 - accuracy: 0.7044 - val_loss: 1.1013 - val_accuracy: 0.4462\n",
            "Epoch 9/10\n",
            "79/79 [==============================] - 1s 9ms/step - loss: 0.6884 - accuracy: 0.7044 - val_loss: 1.0060 - val_accuracy: 0.5027\n",
            "Epoch 10/10\n",
            "79/79 [==============================] - 1s 9ms/step - loss: 0.6613 - accuracy: 0.7135 - val_loss: 0.9817 - val_accuracy: 0.5806\n"
          ],
          "name": "stdout"
        },
        {
          "output_type": "display_data",
          "data": {
            "text/html": [
              "<span style=\"color:#4527A0\"><h1 style=\"font-size:18px\">Trial complete</h1></span>"
            ],
            "text/plain": [
              "<IPython.core.display.HTML object>"
            ]
          },
          "metadata": {
            "tags": []
          }
        },
        {
          "output_type": "display_data",
          "data": {
            "text/html": [
              "<span style=\"color:#4527A0\"><h1 style=\"font-size:18px\">Trial summary</h1></span>"
            ],
            "text/plain": [
              "<IPython.core.display.HTML object>"
            ]
          },
          "metadata": {
            "tags": []
          }
        },
        {
          "output_type": "display_data",
          "data": {
            "text/html": [
              "<span style=\"color:cyan\"> |-Trial ID: 13202be15ffb4867616cd4fb3f7b5727</span>"
            ],
            "text/plain": [
              "<IPython.core.display.HTML object>"
            ]
          },
          "metadata": {
            "tags": []
          }
        },
        {
          "output_type": "display_data",
          "data": {
            "text/html": [
              "<span style=\"color:cyan\"> |-Score: 0.5806451439857483</span>"
            ],
            "text/plain": [
              "<IPython.core.display.HTML object>"
            ]
          },
          "metadata": {
            "tags": []
          }
        },
        {
          "output_type": "display_data",
          "data": {
            "text/html": [
              "<span style=\"color:cyan\"> |-Best step: 0</span>"
            ],
            "text/plain": [
              "<IPython.core.display.HTML object>"
            ]
          },
          "metadata": {
            "tags": []
          }
        },
        {
          "output_type": "display_data",
          "data": {
            "text/html": [
              "<span style=\"color:#7E57C2\"><h2 style=\"font-size:16px\">Hyperparameters:</h2></span>"
            ],
            "text/plain": [
              "<IPython.core.display.HTML object>"
            ]
          },
          "metadata": {
            "tags": []
          }
        },
        {
          "output_type": "display_data",
          "data": {
            "text/html": [
              "<span style=\"color:cyan\"> |-Conv Layers: 0</span>"
            ],
            "text/plain": [
              "<IPython.core.display.HTML object>"
            ]
          },
          "metadata": {
            "tags": []
          }
        },
        {
          "output_type": "display_data",
          "data": {
            "text/html": [
              "<span style=\"color:blue\"> |-Dense layer: 256</span>"
            ],
            "text/plain": [
              "<IPython.core.display.HTML object>"
            ]
          },
          "metadata": {
            "tags": []
          }
        },
        {
          "output_type": "display_data",
          "data": {
            "text/html": [
              "<span style=\"color:cyan\"> |-layer_0_filters: 16</span>"
            ],
            "text/plain": [
              "<IPython.core.display.HTML object>"
            ]
          },
          "metadata": {
            "tags": []
          }
        },
        {
          "output_type": "display_data",
          "data": {
            "text/html": [
              "<span style=\"color:blue\"> |-layer_1_filters: 64</span>"
            ],
            "text/plain": [
              "<IPython.core.display.HTML object>"
            ]
          },
          "metadata": {
            "tags": []
          }
        },
        {
          "output_type": "display_data",
          "data": {
            "text/html": [
              "<span style=\"color:cyan\"> |-layer_2_filters: 64</span>"
            ],
            "text/plain": [
              "<IPython.core.display.HTML object>"
            ]
          },
          "metadata": {
            "tags": []
          }
        },
        {
          "output_type": "stream",
          "text": [
            "Epoch 1/10\n",
            "79/79 [==============================] - 1s 10ms/step - loss: 1.2286 - accuracy: 0.3484 - val_loss: 1.0908 - val_accuracy: 0.3333\n",
            "Epoch 2/10\n",
            "79/79 [==============================] - 1s 9ms/step - loss: 1.0969 - accuracy: 0.3500 - val_loss: 1.0987 - val_accuracy: 0.3333\n",
            "Epoch 3/10\n",
            "79/79 [==============================] - 1s 9ms/step - loss: 1.0988 - accuracy: 0.3337 - val_loss: 1.0986 - val_accuracy: 0.3333\n",
            "Epoch 4/10\n",
            "79/79 [==============================] - 1s 9ms/step - loss: 1.0891 - accuracy: 0.3754 - val_loss: 1.0828 - val_accuracy: 0.4409\n",
            "Epoch 5/10\n",
            "79/79 [==============================] - 1s 9ms/step - loss: 1.0723 - accuracy: 0.4091 - val_loss: 1.0760 - val_accuracy: 0.4543\n",
            "Epoch 6/10\n",
            "79/79 [==============================] - 1s 9ms/step - loss: 1.0372 - accuracy: 0.4687 - val_loss: 1.0939 - val_accuracy: 0.3387\n",
            "Epoch 7/10\n",
            "79/79 [==============================] - 1s 9ms/step - loss: 1.0155 - accuracy: 0.4794 - val_loss: 1.0416 - val_accuracy: 0.4543\n",
            "Epoch 8/10\n",
            "79/79 [==============================] - 1s 9ms/step - loss: 0.9868 - accuracy: 0.5151 - val_loss: 1.0217 - val_accuracy: 0.5242\n",
            "Epoch 9/10\n",
            "79/79 [==============================] - 1s 9ms/step - loss: 0.9725 - accuracy: 0.5222 - val_loss: 1.0448 - val_accuracy: 0.4597\n",
            "Epoch 10/10\n",
            "79/79 [==============================] - 1s 9ms/step - loss: 0.9625 - accuracy: 0.5246 - val_loss: 1.0112 - val_accuracy: 0.5376\n"
          ],
          "name": "stdout"
        },
        {
          "output_type": "display_data",
          "data": {
            "text/html": [
              "<span style=\"color:#4527A0\"><h1 style=\"font-size:18px\">Trial complete</h1></span>"
            ],
            "text/plain": [
              "<IPython.core.display.HTML object>"
            ]
          },
          "metadata": {
            "tags": []
          }
        },
        {
          "output_type": "display_data",
          "data": {
            "text/html": [
              "<span style=\"color:#4527A0\"><h1 style=\"font-size:18px\">Trial summary</h1></span>"
            ],
            "text/plain": [
              "<IPython.core.display.HTML object>"
            ]
          },
          "metadata": {
            "tags": []
          }
        },
        {
          "output_type": "display_data",
          "data": {
            "text/html": [
              "<span style=\"color:cyan\"> |-Trial ID: 23b8359d139caed3a139ab6d995df406</span>"
            ],
            "text/plain": [
              "<IPython.core.display.HTML object>"
            ]
          },
          "metadata": {
            "tags": []
          }
        },
        {
          "output_type": "display_data",
          "data": {
            "text/html": [
              "<span style=\"color:cyan\"> |-Score: 0.5376344323158264</span>"
            ],
            "text/plain": [
              "<IPython.core.display.HTML object>"
            ]
          },
          "metadata": {
            "tags": []
          }
        },
        {
          "output_type": "display_data",
          "data": {
            "text/html": [
              "<span style=\"color:cyan\"> |-Best step: 0</span>"
            ],
            "text/plain": [
              "<IPython.core.display.HTML object>"
            ]
          },
          "metadata": {
            "tags": []
          }
        },
        {
          "output_type": "display_data",
          "data": {
            "text/html": [
              "<span style=\"color:#7E57C2\"><h2 style=\"font-size:16px\">Hyperparameters:</h2></span>"
            ],
            "text/plain": [
              "<IPython.core.display.HTML object>"
            ]
          },
          "metadata": {
            "tags": []
          }
        },
        {
          "output_type": "display_data",
          "data": {
            "text/html": [
              "<span style=\"color:cyan\"> |-Conv Layers: 0</span>"
            ],
            "text/plain": [
              "<IPython.core.display.HTML object>"
            ]
          },
          "metadata": {
            "tags": []
          }
        },
        {
          "output_type": "display_data",
          "data": {
            "text/html": [
              "<span style=\"color:blue\"> |-Dense layer: 64</span>"
            ],
            "text/plain": [
              "<IPython.core.display.HTML object>"
            ]
          },
          "metadata": {
            "tags": []
          }
        },
        {
          "output_type": "display_data",
          "data": {
            "text/html": [
              "<span style=\"color:cyan\"> |-layer_0_filters: 64</span>"
            ],
            "text/plain": [
              "<IPython.core.display.HTML object>"
            ]
          },
          "metadata": {
            "tags": []
          }
        },
        {
          "output_type": "display_data",
          "data": {
            "text/html": [
              "<span style=\"color:blue\"> |-layer_1_filters: 32</span>"
            ],
            "text/plain": [
              "<IPython.core.display.HTML object>"
            ]
          },
          "metadata": {
            "tags": []
          }
        },
        {
          "output_type": "display_data",
          "data": {
            "text/html": [
              "<span style=\"color:cyan\"> |-layer_2_filters: 32</span>"
            ],
            "text/plain": [
              "<IPython.core.display.HTML object>"
            ]
          },
          "metadata": {
            "tags": []
          }
        },
        {
          "output_type": "stream",
          "text": [
            "Epoch 1/10\n",
            "79/79 [==============================] - 3s 35ms/step - loss: 1.4671 - accuracy: 0.6782 - val_loss: 0.8678 - val_accuracy: 0.4892\n",
            "Epoch 2/10\n",
            "79/79 [==============================] - 3s 34ms/step - loss: 0.2367 - accuracy: 0.9587 - val_loss: 0.7316 - val_accuracy: 0.6882\n",
            "Epoch 3/10\n",
            "79/79 [==============================] - 3s 34ms/step - loss: 0.1010 - accuracy: 0.9857 - val_loss: 0.6753 - val_accuracy: 0.7419\n",
            "Epoch 4/10\n",
            "79/79 [==============================] - 1s 16ms/step - loss: 0.0477 - accuracy: 0.9948 - val_loss: 0.7656 - val_accuracy: 0.7151\n",
            "Epoch 5/10\n",
            "79/79 [==============================] - 1s 15ms/step - loss: 0.0274 - accuracy: 0.9976 - val_loss: 0.7221 - val_accuracy: 0.7285\n",
            "Epoch 6/10\n",
            "79/79 [==============================] - 1s 15ms/step - loss: 0.0183 - accuracy: 0.9984 - val_loss: 0.8334 - val_accuracy: 0.7151\n",
            "Epoch 7/10\n",
            "79/79 [==============================] - 1s 15ms/step - loss: 0.0129 - accuracy: 0.9992 - val_loss: 0.8038 - val_accuracy: 0.7070\n",
            "Epoch 8/10\n",
            "79/79 [==============================] - 1s 15ms/step - loss: 0.0078 - accuracy: 1.0000 - val_loss: 0.8557 - val_accuracy: 0.7312\n",
            "Epoch 9/10\n",
            "79/79 [==============================] - 1s 15ms/step - loss: 0.0063 - accuracy: 1.0000 - val_loss: 0.8525 - val_accuracy: 0.7043\n",
            "Epoch 10/10\n",
            "79/79 [==============================] - 1s 15ms/step - loss: 0.0054 - accuracy: 1.0000 - val_loss: 0.8981 - val_accuracy: 0.7043\n"
          ],
          "name": "stdout"
        },
        {
          "output_type": "display_data",
          "data": {
            "text/html": [
              "<span style=\"color:#4527A0\"><h1 style=\"font-size:18px\">Trial complete</h1></span>"
            ],
            "text/plain": [
              "<IPython.core.display.HTML object>"
            ]
          },
          "metadata": {
            "tags": []
          }
        },
        {
          "output_type": "display_data",
          "data": {
            "text/html": [
              "<span style=\"color:#4527A0\"><h1 style=\"font-size:18px\">Trial summary</h1></span>"
            ],
            "text/plain": [
              "<IPython.core.display.HTML object>"
            ]
          },
          "metadata": {
            "tags": []
          }
        },
        {
          "output_type": "display_data",
          "data": {
            "text/html": [
              "<span style=\"color:cyan\"> |-Trial ID: 65448f4825168b4a86d95e9653eee266</span>"
            ],
            "text/plain": [
              "<IPython.core.display.HTML object>"
            ]
          },
          "metadata": {
            "tags": []
          }
        },
        {
          "output_type": "display_data",
          "data": {
            "text/html": [
              "<span style=\"color:cyan\"> |-Score: 0.7419354915618896</span>"
            ],
            "text/plain": [
              "<IPython.core.display.HTML object>"
            ]
          },
          "metadata": {
            "tags": []
          }
        },
        {
          "output_type": "display_data",
          "data": {
            "text/html": [
              "<span style=\"color:cyan\"> |-Best step: 0</span>"
            ],
            "text/plain": [
              "<IPython.core.display.HTML object>"
            ]
          },
          "metadata": {
            "tags": []
          }
        },
        {
          "output_type": "display_data",
          "data": {
            "text/html": [
              "<span style=\"color:#7E57C2\"><h2 style=\"font-size:16px\">Hyperparameters:</h2></span>"
            ],
            "text/plain": [
              "<IPython.core.display.HTML object>"
            ]
          },
          "metadata": {
            "tags": []
          }
        },
        {
          "output_type": "display_data",
          "data": {
            "text/html": [
              "<span style=\"color:cyan\"> |-Conv Layers: 1</span>"
            ],
            "text/plain": [
              "<IPython.core.display.HTML object>"
            ]
          },
          "metadata": {
            "tags": []
          }
        },
        {
          "output_type": "display_data",
          "data": {
            "text/html": [
              "<span style=\"color:blue\"> |-Dense layer: 512</span>"
            ],
            "text/plain": [
              "<IPython.core.display.HTML object>"
            ]
          },
          "metadata": {
            "tags": []
          }
        },
        {
          "output_type": "display_data",
          "data": {
            "text/html": [
              "<span style=\"color:cyan\"> |-layer_0_filters: 32</span>"
            ],
            "text/plain": [
              "<IPython.core.display.HTML object>"
            ]
          },
          "metadata": {
            "tags": []
          }
        },
        {
          "output_type": "display_data",
          "data": {
            "text/html": [
              "<span style=\"color:blue\"> |-layer_1_filters: 64</span>"
            ],
            "text/plain": [
              "<IPython.core.display.HTML object>"
            ]
          },
          "metadata": {
            "tags": []
          }
        },
        {
          "output_type": "display_data",
          "data": {
            "text/html": [
              "<span style=\"color:cyan\"> |-layer_2_filters: 64</span>"
            ],
            "text/plain": [
              "<IPython.core.display.HTML object>"
            ]
          },
          "metadata": {
            "tags": []
          }
        },
        {
          "output_type": "stream",
          "text": [
            "Epoch 1/10\n",
            "79/79 [==============================] - 3s 35ms/step - loss: 1.5900 - accuracy: 0.6690 - val_loss: 0.8599 - val_accuracy: 0.6505\n",
            "Epoch 2/10\n",
            "79/79 [==============================] - 1s 19ms/step - loss: 0.1102 - accuracy: 0.9782 - val_loss: 1.1731 - val_accuracy: 0.6425\n",
            "Epoch 3/10\n",
            "79/79 [==============================] - 4s 51ms/step - loss: 0.0123 - accuracy: 0.9992 - val_loss: 1.6514 - val_accuracy: 0.6586\n",
            "Epoch 4/10\n",
            "79/79 [==============================] - 11s 135ms/step - loss: 0.0044 - accuracy: 0.9996 - val_loss: 1.6789 - val_accuracy: 0.6774\n",
            "Epoch 5/10\n",
            "79/79 [==============================] - 2s 19ms/step - loss: 0.0049 - accuracy: 0.9988 - val_loss: 1.7967 - val_accuracy: 0.6667\n",
            "Epoch 6/10\n",
            "79/79 [==============================] - 2s 19ms/step - loss: 0.0013 - accuracy: 1.0000 - val_loss: 2.2384 - val_accuracy: 0.6102\n",
            "Epoch 7/10\n",
            "79/79 [==============================] - 1s 19ms/step - loss: 3.6969e-04 - accuracy: 1.0000 - val_loss: 2.2547 - val_accuracy: 0.6452\n",
            "Epoch 8/10\n",
            "79/79 [==============================] - 1s 18ms/step - loss: 4.0706e-04 - accuracy: 1.0000 - val_loss: 2.4185 - val_accuracy: 0.6075\n",
            "Epoch 9/10\n",
            "79/79 [==============================] - 1s 18ms/step - loss: 5.2507e-04 - accuracy: 1.0000 - val_loss: 2.3001 - val_accuracy: 0.6505\n",
            "Epoch 10/10\n",
            "79/79 [==============================] - 1s 18ms/step - loss: 1.5241e-04 - accuracy: 1.0000 - val_loss: 2.3736 - val_accuracy: 0.6452\n"
          ],
          "name": "stdout"
        },
        {
          "output_type": "display_data",
          "data": {
            "text/html": [
              "<span style=\"color:#4527A0\"><h1 style=\"font-size:18px\">Trial complete</h1></span>"
            ],
            "text/plain": [
              "<IPython.core.display.HTML object>"
            ]
          },
          "metadata": {
            "tags": []
          }
        },
        {
          "output_type": "display_data",
          "data": {
            "text/html": [
              "<span style=\"color:#4527A0\"><h1 style=\"font-size:18px\">Trial summary</h1></span>"
            ],
            "text/plain": [
              "<IPython.core.display.HTML object>"
            ]
          },
          "metadata": {
            "tags": []
          }
        },
        {
          "output_type": "display_data",
          "data": {
            "text/html": [
              "<span style=\"color:cyan\"> |-Trial ID: 2ae43c2f476f3d6abb6c0806bfa51d16</span>"
            ],
            "text/plain": [
              "<IPython.core.display.HTML object>"
            ]
          },
          "metadata": {
            "tags": []
          }
        },
        {
          "output_type": "display_data",
          "data": {
            "text/html": [
              "<span style=\"color:cyan\"> |-Score: 0.6774193644523621</span>"
            ],
            "text/plain": [
              "<IPython.core.display.HTML object>"
            ]
          },
          "metadata": {
            "tags": []
          }
        },
        {
          "output_type": "display_data",
          "data": {
            "text/html": [
              "<span style=\"color:cyan\"> |-Best step: 0</span>"
            ],
            "text/plain": [
              "<IPython.core.display.HTML object>"
            ]
          },
          "metadata": {
            "tags": []
          }
        },
        {
          "output_type": "display_data",
          "data": {
            "text/html": [
              "<span style=\"color:#7E57C2\"><h2 style=\"font-size:16px\">Hyperparameters:</h2></span>"
            ],
            "text/plain": [
              "<IPython.core.display.HTML object>"
            ]
          },
          "metadata": {
            "tags": []
          }
        },
        {
          "output_type": "display_data",
          "data": {
            "text/html": [
              "<span style=\"color:cyan\"> |-Conv Layers: 2</span>"
            ],
            "text/plain": [
              "<IPython.core.display.HTML object>"
            ]
          },
          "metadata": {
            "tags": []
          }
        },
        {
          "output_type": "display_data",
          "data": {
            "text/html": [
              "<span style=\"color:blue\"> |-Dense layer: 512</span>"
            ],
            "text/plain": [
              "<IPython.core.display.HTML object>"
            ]
          },
          "metadata": {
            "tags": []
          }
        },
        {
          "output_type": "display_data",
          "data": {
            "text/html": [
              "<span style=\"color:cyan\"> |-layer_0_filters: 16</span>"
            ],
            "text/plain": [
              "<IPython.core.display.HTML object>"
            ]
          },
          "metadata": {
            "tags": []
          }
        },
        {
          "output_type": "display_data",
          "data": {
            "text/html": [
              "<span style=\"color:blue\"> |-layer_1_filters: 32</span>"
            ],
            "text/plain": [
              "<IPython.core.display.HTML object>"
            ]
          },
          "metadata": {
            "tags": []
          }
        },
        {
          "output_type": "display_data",
          "data": {
            "text/html": [
              "<span style=\"color:cyan\"> |-layer_2_filters: 64</span>"
            ],
            "text/plain": [
              "<IPython.core.display.HTML object>"
            ]
          },
          "metadata": {
            "tags": []
          }
        },
        {
          "output_type": "stream",
          "text": [
            "Epoch 1/10\n",
            "79/79 [==============================] - 4s 49ms/step - loss: 0.8098 - accuracy: 0.6429 - val_loss: 0.9376 - val_accuracy: 0.6048\n",
            "Epoch 2/10\n",
            "79/79 [==============================] - 8s 104ms/step - loss: 0.0628 - accuracy: 0.9837 - val_loss: 1.1265 - val_accuracy: 0.6828\n",
            "Epoch 3/10\n",
            "79/79 [==============================] - 13s 165ms/step - loss: 0.0059 - accuracy: 0.9992 - val_loss: 1.3694 - val_accuracy: 0.6962\n",
            "Epoch 4/10\n",
            "79/79 [==============================] - 8s 101ms/step - loss: 0.0017 - accuracy: 1.0000 - val_loss: 1.5343 - val_accuracy: 0.7151\n",
            "Epoch 5/10\n",
            "79/79 [==============================] - 3s 33ms/step - loss: 0.0017 - accuracy: 1.0000 - val_loss: 1.6338 - val_accuracy: 0.7070\n",
            "Epoch 6/10\n",
            "79/79 [==============================] - 3s 33ms/step - loss: 0.0017 - accuracy: 1.0000 - val_loss: 1.5340 - val_accuracy: 0.6909\n",
            "Epoch 7/10\n",
            "79/79 [==============================] - 3s 32ms/step - loss: 3.5641e-04 - accuracy: 1.0000 - val_loss: 1.9588 - val_accuracy: 0.6962\n",
            "Epoch 8/10\n",
            "79/79 [==============================] - 3s 32ms/step - loss: 0.0050 - accuracy: 0.9976 - val_loss: 1.4747 - val_accuracy: 0.6478\n",
            "Epoch 9/10\n",
            "79/79 [==============================] - 3s 32ms/step - loss: 0.0633 - accuracy: 0.9813 - val_loss: 1.7717 - val_accuracy: 0.6532\n",
            "Epoch 10/10\n",
            "79/79 [==============================] - 2s 32ms/step - loss: 0.1006 - accuracy: 0.9671 - val_loss: 1.1268 - val_accuracy: 0.6613\n"
          ],
          "name": "stdout"
        },
        {
          "output_type": "display_data",
          "data": {
            "text/html": [
              "<span style=\"color:#4527A0\"><h1 style=\"font-size:18px\">Trial complete</h1></span>"
            ],
            "text/plain": [
              "<IPython.core.display.HTML object>"
            ]
          },
          "metadata": {
            "tags": []
          }
        },
        {
          "output_type": "display_data",
          "data": {
            "text/html": [
              "<span style=\"color:#4527A0\"><h1 style=\"font-size:18px\">Trial summary</h1></span>"
            ],
            "text/plain": [
              "<IPython.core.display.HTML object>"
            ]
          },
          "metadata": {
            "tags": []
          }
        },
        {
          "output_type": "display_data",
          "data": {
            "text/html": [
              "<span style=\"color:cyan\"> |-Trial ID: 0ab09e3d2c57b4b32839cd92cbe9df06</span>"
            ],
            "text/plain": [
              "<IPython.core.display.HTML object>"
            ]
          },
          "metadata": {
            "tags": []
          }
        },
        {
          "output_type": "display_data",
          "data": {
            "text/html": [
              "<span style=\"color:cyan\"> |-Score: 0.7150537371635437</span>"
            ],
            "text/plain": [
              "<IPython.core.display.HTML object>"
            ]
          },
          "metadata": {
            "tags": []
          }
        },
        {
          "output_type": "display_data",
          "data": {
            "text/html": [
              "<span style=\"color:cyan\"> |-Best step: 0</span>"
            ],
            "text/plain": [
              "<IPython.core.display.HTML object>"
            ]
          },
          "metadata": {
            "tags": []
          }
        },
        {
          "output_type": "display_data",
          "data": {
            "text/html": [
              "<span style=\"color:#7E57C2\"><h2 style=\"font-size:16px\">Hyperparameters:</h2></span>"
            ],
            "text/plain": [
              "<IPython.core.display.HTML object>"
            ]
          },
          "metadata": {
            "tags": []
          }
        },
        {
          "output_type": "display_data",
          "data": {
            "text/html": [
              "<span style=\"color:cyan\"> |-Conv Layers: 3</span>"
            ],
            "text/plain": [
              "<IPython.core.display.HTML object>"
            ]
          },
          "metadata": {
            "tags": []
          }
        },
        {
          "output_type": "display_data",
          "data": {
            "text/html": [
              "<span style=\"color:blue\"> |-Dense layer: 512</span>"
            ],
            "text/plain": [
              "<IPython.core.display.HTML object>"
            ]
          },
          "metadata": {
            "tags": []
          }
        },
        {
          "output_type": "display_data",
          "data": {
            "text/html": [
              "<span style=\"color:cyan\"> |-layer_0_filters: 64</span>"
            ],
            "text/plain": [
              "<IPython.core.display.HTML object>"
            ]
          },
          "metadata": {
            "tags": []
          }
        },
        {
          "output_type": "display_data",
          "data": {
            "text/html": [
              "<span style=\"color:blue\"> |-layer_1_filters: 64</span>"
            ],
            "text/plain": [
              "<IPython.core.display.HTML object>"
            ]
          },
          "metadata": {
            "tags": []
          }
        },
        {
          "output_type": "display_data",
          "data": {
            "text/html": [
              "<span style=\"color:cyan\"> |-layer_2_filters: 32</span>"
            ],
            "text/plain": [
              "<IPython.core.display.HTML object>"
            ]
          },
          "metadata": {
            "tags": []
          }
        },
        {
          "output_type": "stream",
          "text": [
            "Epoch 1/10\n",
            "79/79 [==============================] - 1s 17ms/step - loss: 0.8963 - accuracy: 0.6544 - val_loss: 0.9885 - val_accuracy: 0.5995\n",
            "Epoch 2/10\n",
            "79/79 [==============================] - 1s 17ms/step - loss: 0.1289 - accuracy: 0.9758 - val_loss: 0.7859 - val_accuracy: 0.6882\n",
            "Epoch 3/10\n",
            "79/79 [==============================] - 1s 15ms/step - loss: 0.0238 - accuracy: 0.9968 - val_loss: 0.8955 - val_accuracy: 0.6828\n",
            "Epoch 4/10\n",
            "79/79 [==============================] - 1s 15ms/step - loss: 0.0099 - accuracy: 0.9996 - val_loss: 0.9124 - val_accuracy: 0.6855\n",
            "Epoch 5/10\n",
            "79/79 [==============================] - 1s 14ms/step - loss: 0.0049 - accuracy: 1.0000 - val_loss: 1.0373 - val_accuracy: 0.6828\n",
            "Epoch 6/10\n",
            "79/79 [==============================] - 1s 15ms/step - loss: 0.0022 - accuracy: 1.0000 - val_loss: 1.1357 - val_accuracy: 0.6801\n",
            "Epoch 7/10\n",
            "79/79 [==============================] - 1s 15ms/step - loss: 0.0012 - accuracy: 1.0000 - val_loss: 1.1590 - val_accuracy: 0.6882\n",
            "Epoch 8/10\n",
            "79/79 [==============================] - 1s 15ms/step - loss: 8.1088e-04 - accuracy: 1.0000 - val_loss: 1.1509 - val_accuracy: 0.6694\n",
            "Epoch 9/10\n",
            "79/79 [==============================] - 1s 15ms/step - loss: 8.2398e-04 - accuracy: 1.0000 - val_loss: 1.1894 - val_accuracy: 0.6559\n",
            "Epoch 10/10\n",
            "79/79 [==============================] - 1s 14ms/step - loss: 5.4073e-04 - accuracy: 1.0000 - val_loss: 1.3239 - val_accuracy: 0.6586\n"
          ],
          "name": "stdout"
        },
        {
          "output_type": "display_data",
          "data": {
            "text/html": [
              "<span style=\"color:#4527A0\"><h1 style=\"font-size:18px\">Trial complete</h1></span>"
            ],
            "text/plain": [
              "<IPython.core.display.HTML object>"
            ]
          },
          "metadata": {
            "tags": []
          }
        },
        {
          "output_type": "display_data",
          "data": {
            "text/html": [
              "<span style=\"color:#4527A0\"><h1 style=\"font-size:18px\">Trial summary</h1></span>"
            ],
            "text/plain": [
              "<IPython.core.display.HTML object>"
            ]
          },
          "metadata": {
            "tags": []
          }
        },
        {
          "output_type": "display_data",
          "data": {
            "text/html": [
              "<span style=\"color:cyan\"> |-Trial ID: 2dc8392aa740b4473c7f528daa645bcf</span>"
            ],
            "text/plain": [
              "<IPython.core.display.HTML object>"
            ]
          },
          "metadata": {
            "tags": []
          }
        },
        {
          "output_type": "display_data",
          "data": {
            "text/html": [
              "<span style=\"color:cyan\"> |-Score: 0.6881720423698425</span>"
            ],
            "text/plain": [
              "<IPython.core.display.HTML object>"
            ]
          },
          "metadata": {
            "tags": []
          }
        },
        {
          "output_type": "display_data",
          "data": {
            "text/html": [
              "<span style=\"color:cyan\"> |-Best step: 0</span>"
            ],
            "text/plain": [
              "<IPython.core.display.HTML object>"
            ]
          },
          "metadata": {
            "tags": []
          }
        },
        {
          "output_type": "display_data",
          "data": {
            "text/html": [
              "<span style=\"color:#7E57C2\"><h2 style=\"font-size:16px\">Hyperparameters:</h2></span>"
            ],
            "text/plain": [
              "<IPython.core.display.HTML object>"
            ]
          },
          "metadata": {
            "tags": []
          }
        },
        {
          "output_type": "display_data",
          "data": {
            "text/html": [
              "<span style=\"color:cyan\"> |-Conv Layers: 2</span>"
            ],
            "text/plain": [
              "<IPython.core.display.HTML object>"
            ]
          },
          "metadata": {
            "tags": []
          }
        },
        {
          "output_type": "display_data",
          "data": {
            "text/html": [
              "<span style=\"color:blue\"> |-Dense layer: 64</span>"
            ],
            "text/plain": [
              "<IPython.core.display.HTML object>"
            ]
          },
          "metadata": {
            "tags": []
          }
        },
        {
          "output_type": "display_data",
          "data": {
            "text/html": [
              "<span style=\"color:cyan\"> |-layer_0_filters: 16</span>"
            ],
            "text/plain": [
              "<IPython.core.display.HTML object>"
            ]
          },
          "metadata": {
            "tags": []
          }
        },
        {
          "output_type": "display_data",
          "data": {
            "text/html": [
              "<span style=\"color:blue\"> |-layer_1_filters: 32</span>"
            ],
            "text/plain": [
              "<IPython.core.display.HTML object>"
            ]
          },
          "metadata": {
            "tags": []
          }
        },
        {
          "output_type": "display_data",
          "data": {
            "text/html": [
              "<span style=\"color:cyan\"> |-layer_2_filters: 64</span>"
            ],
            "text/plain": [
              "<IPython.core.display.HTML object>"
            ]
          },
          "metadata": {
            "tags": []
          }
        },
        {
          "output_type": "stream",
          "text": [
            "Epoch 1/10\n",
            "79/79 [==============================] - 1s 15ms/step - loss: 1.5375 - accuracy: 0.5000 - val_loss: 0.9997 - val_accuracy: 0.6317\n",
            "Epoch 2/10\n",
            "79/79 [==============================] - 1s 13ms/step - loss: 0.7093 - accuracy: 0.7234 - val_loss: 1.0493 - val_accuracy: 0.3468\n",
            "Epoch 3/10\n",
            "79/79 [==============================] - 1s 12ms/step - loss: 0.4905 - accuracy: 0.8448 - val_loss: 0.9175 - val_accuracy: 0.5565\n",
            "Epoch 4/10\n",
            "79/79 [==============================] - 1s 13ms/step - loss: 0.3159 - accuracy: 0.9155 - val_loss: 0.8371 - val_accuracy: 0.6263\n",
            "Epoch 5/10\n",
            "79/79 [==============================] - 1s 15ms/step - loss: 0.2053 - accuracy: 0.9540 - val_loss: 0.8612 - val_accuracy: 0.6747\n",
            "Epoch 6/10\n",
            "79/79 [==============================] - 1s 13ms/step - loss: 0.1238 - accuracy: 0.9798 - val_loss: 0.8988 - val_accuracy: 0.6398\n",
            "Epoch 7/10\n",
            "79/79 [==============================] - 1s 16ms/step - loss: 0.0911 - accuracy: 0.9853 - val_loss: 0.8811 - val_accuracy: 0.6774\n",
            "Epoch 8/10\n",
            "79/79 [==============================] - 1s 16ms/step - loss: 0.0715 - accuracy: 0.9893 - val_loss: 0.9566 - val_accuracy: 0.6962\n",
            "Epoch 9/10\n",
            "79/79 [==============================] - 1s 13ms/step - loss: 0.0563 - accuracy: 0.9913 - val_loss: 1.0444 - val_accuracy: 0.6183\n",
            "Epoch 10/10\n",
            "79/79 [==============================] - 1s 13ms/step - loss: 0.0448 - accuracy: 0.9921 - val_loss: 0.9970 - val_accuracy: 0.6667\n"
          ],
          "name": "stdout"
        },
        {
          "output_type": "display_data",
          "data": {
            "text/html": [
              "<span style=\"color:#4527A0\"><h1 style=\"font-size:18px\">Trial complete</h1></span>"
            ],
            "text/plain": [
              "<IPython.core.display.HTML object>"
            ]
          },
          "metadata": {
            "tags": []
          }
        },
        {
          "output_type": "display_data",
          "data": {
            "text/html": [
              "<span style=\"color:#4527A0\"><h1 style=\"font-size:18px\">Trial summary</h1></span>"
            ],
            "text/plain": [
              "<IPython.core.display.HTML object>"
            ]
          },
          "metadata": {
            "tags": []
          }
        },
        {
          "output_type": "display_data",
          "data": {
            "text/html": [
              "<span style=\"color:cyan\"> |-Trial ID: 965e69100c630b14755d176633b018ad</span>"
            ],
            "text/plain": [
              "<IPython.core.display.HTML object>"
            ]
          },
          "metadata": {
            "tags": []
          }
        },
        {
          "output_type": "display_data",
          "data": {
            "text/html": [
              "<span style=\"color:cyan\"> |-Score: 0.6962365508079529</span>"
            ],
            "text/plain": [
              "<IPython.core.display.HTML object>"
            ]
          },
          "metadata": {
            "tags": []
          }
        },
        {
          "output_type": "display_data",
          "data": {
            "text/html": [
              "<span style=\"color:cyan\"> |-Best step: 0</span>"
            ],
            "text/plain": [
              "<IPython.core.display.HTML object>"
            ]
          },
          "metadata": {
            "tags": []
          }
        },
        {
          "output_type": "display_data",
          "data": {
            "text/html": [
              "<span style=\"color:#7E57C2\"><h2 style=\"font-size:16px\">Hyperparameters:</h2></span>"
            ],
            "text/plain": [
              "<IPython.core.display.HTML object>"
            ]
          },
          "metadata": {
            "tags": []
          }
        },
        {
          "output_type": "display_data",
          "data": {
            "text/html": [
              "<span style=\"color:cyan\"> |-Conv Layers: 1</span>"
            ],
            "text/plain": [
              "<IPython.core.display.HTML object>"
            ]
          },
          "metadata": {
            "tags": []
          }
        },
        {
          "output_type": "display_data",
          "data": {
            "text/html": [
              "<span style=\"color:blue\"> |-Dense layer: 128</span>"
            ],
            "text/plain": [
              "<IPython.core.display.HTML object>"
            ]
          },
          "metadata": {
            "tags": []
          }
        },
        {
          "output_type": "display_data",
          "data": {
            "text/html": [
              "<span style=\"color:cyan\"> |-layer_0_filters: 32</span>"
            ],
            "text/plain": [
              "<IPython.core.display.HTML object>"
            ]
          },
          "metadata": {
            "tags": []
          }
        },
        {
          "output_type": "display_data",
          "data": {
            "text/html": [
              "<span style=\"color:blue\"> |-layer_1_filters: 32</span>"
            ],
            "text/plain": [
              "<IPython.core.display.HTML object>"
            ]
          },
          "metadata": {
            "tags": []
          }
        },
        {
          "output_type": "display_data",
          "data": {
            "text/html": [
              "<span style=\"color:cyan\"> |-layer_2_filters: 16</span>"
            ],
            "text/plain": [
              "<IPython.core.display.HTML object>"
            ]
          },
          "metadata": {
            "tags": []
          }
        },
        {
          "output_type": "stream",
          "text": [
            "Epoch 1/10\n",
            "79/79 [==============================] - 2s 23ms/step - loss: 1.4326 - accuracy: 0.6635 - val_loss: 0.8838 - val_accuracy: 0.6478\n",
            "Epoch 2/10\n",
            "79/79 [==============================] - 2s 23ms/step - loss: 0.2683 - accuracy: 0.9512 - val_loss: 0.6617 - val_accuracy: 0.7769\n",
            "Epoch 3/10\n",
            "79/79 [==============================] - 1s 17ms/step - loss: 0.1141 - accuracy: 0.9861 - val_loss: 0.6290 - val_accuracy: 0.7366\n",
            "Epoch 4/10\n",
            "79/79 [==============================] - 1s 16ms/step - loss: 0.0618 - accuracy: 0.9925 - val_loss: 0.6228 - val_accuracy: 0.7742\n",
            "Epoch 5/10\n",
            "79/79 [==============================] - 1s 16ms/step - loss: 0.0358 - accuracy: 0.9952 - val_loss: 0.6747 - val_accuracy: 0.7581\n",
            "Epoch 6/10\n",
            "79/79 [==============================] - 1s 16ms/step - loss: 0.0245 - accuracy: 0.9976 - val_loss: 0.6784 - val_accuracy: 0.7473\n",
            "Epoch 7/10\n",
            "79/79 [==============================] - 1s 16ms/step - loss: 0.0164 - accuracy: 0.9992 - val_loss: 0.6952 - val_accuracy: 0.7285\n",
            "Epoch 8/10\n",
            "79/79 [==============================] - 1s 16ms/step - loss: 0.0118 - accuracy: 0.9996 - val_loss: 0.7575 - val_accuracy: 0.7016\n",
            "Epoch 9/10\n",
            "79/79 [==============================] - 1s 16ms/step - loss: 0.0087 - accuracy: 1.0000 - val_loss: 0.7707 - val_accuracy: 0.7312\n",
            "Epoch 10/10\n",
            "79/79 [==============================] - 1s 16ms/step - loss: 0.0073 - accuracy: 0.9992 - val_loss: 0.7605 - val_accuracy: 0.7231\n"
          ],
          "name": "stdout"
        },
        {
          "output_type": "display_data",
          "data": {
            "text/html": [
              "<span style=\"color:#4527A0\"><h1 style=\"font-size:18px\">Trial complete</h1></span>"
            ],
            "text/plain": [
              "<IPython.core.display.HTML object>"
            ]
          },
          "metadata": {
            "tags": []
          }
        },
        {
          "output_type": "display_data",
          "data": {
            "text/html": [
              "<span style=\"color:#4527A0\"><h1 style=\"font-size:18px\">Trial summary</h1></span>"
            ],
            "text/plain": [
              "<IPython.core.display.HTML object>"
            ]
          },
          "metadata": {
            "tags": []
          }
        },
        {
          "output_type": "display_data",
          "data": {
            "text/html": [
              "<span style=\"color:cyan\"> |-Trial ID: df40ff05b41af32d7bf71a2571b3d2d9</span>"
            ],
            "text/plain": [
              "<IPython.core.display.HTML object>"
            ]
          },
          "metadata": {
            "tags": []
          }
        },
        {
          "output_type": "display_data",
          "data": {
            "text/html": [
              "<span style=\"color:cyan\"> |-Score: 0.7768816947937012</span>"
            ],
            "text/plain": [
              "<IPython.core.display.HTML object>"
            ]
          },
          "metadata": {
            "tags": []
          }
        },
        {
          "output_type": "display_data",
          "data": {
            "text/html": [
              "<span style=\"color:cyan\"> |-Best step: 0</span>"
            ],
            "text/plain": [
              "<IPython.core.display.HTML object>"
            ]
          },
          "metadata": {
            "tags": []
          }
        },
        {
          "output_type": "display_data",
          "data": {
            "text/html": [
              "<span style=\"color:#7E57C2\"><h2 style=\"font-size:16px\">Hyperparameters:</h2></span>"
            ],
            "text/plain": [
              "<IPython.core.display.HTML object>"
            ]
          },
          "metadata": {
            "tags": []
          }
        },
        {
          "output_type": "display_data",
          "data": {
            "text/html": [
              "<span style=\"color:cyan\"> |-Conv Layers: 1</span>"
            ],
            "text/plain": [
              "<IPython.core.display.HTML object>"
            ]
          },
          "metadata": {
            "tags": []
          }
        },
        {
          "output_type": "display_data",
          "data": {
            "text/html": [
              "<span style=\"color:blue\"> |-Dense layer: 128</span>"
            ],
            "text/plain": [
              "<IPython.core.display.HTML object>"
            ]
          },
          "metadata": {
            "tags": []
          }
        },
        {
          "output_type": "display_data",
          "data": {
            "text/html": [
              "<span style=\"color:cyan\"> |-layer_0_filters: 64</span>"
            ],
            "text/plain": [
              "<IPython.core.display.HTML object>"
            ]
          },
          "metadata": {
            "tags": []
          }
        },
        {
          "output_type": "display_data",
          "data": {
            "text/html": [
              "<span style=\"color:blue\"> |-layer_1_filters: 32</span>"
            ],
            "text/plain": [
              "<IPython.core.display.HTML object>"
            ]
          },
          "metadata": {
            "tags": []
          }
        },
        {
          "output_type": "display_data",
          "data": {
            "text/html": [
              "<span style=\"color:cyan\"> |-layer_2_filters: 64</span>"
            ],
            "text/plain": [
              "<IPython.core.display.HTML object>"
            ]
          },
          "metadata": {
            "tags": []
          }
        },
        {
          "output_type": "stream",
          "text": [
            "Epoch 1/10\n",
            "79/79 [==============================] - 1s 18ms/step - loss: 2.7548 - accuracy: 0.4714 - val_loss: 0.9903 - val_accuracy: 0.4919\n",
            "Epoch 2/10\n",
            "79/79 [==============================] - 2s 19ms/step - loss: 0.6807 - accuracy: 0.8024 - val_loss: 0.8681 - val_accuracy: 0.5645\n",
            "Epoch 3/10\n",
            "79/79 [==============================] - 2s 27ms/step - loss: 0.4608 - accuracy: 0.8889 - val_loss: 0.7708 - val_accuracy: 0.6129\n",
            "Epoch 4/10\n",
            "79/79 [==============================] - 1s 18ms/step - loss: 0.2868 - accuracy: 0.9381 - val_loss: 0.7424 - val_accuracy: 0.6344\n",
            "Epoch 5/10\n",
            "79/79 [==============================] - 1s 19ms/step - loss: 0.1619 - accuracy: 0.9710 - val_loss: 0.6453 - val_accuracy: 0.7661\n",
            "Epoch 6/10\n",
            "79/79 [==============================] - 1s 13ms/step - loss: 0.1101 - accuracy: 0.9825 - val_loss: 0.8339 - val_accuracy: 0.6398\n",
            "Epoch 7/10\n",
            "79/79 [==============================] - 1s 13ms/step - loss: 0.0739 - accuracy: 0.9889 - val_loss: 0.9031 - val_accuracy: 0.6317\n",
            "Epoch 8/10\n",
            "79/79 [==============================] - 1s 13ms/step - loss: 0.0514 - accuracy: 0.9933 - val_loss: 0.7053 - val_accuracy: 0.7527\n",
            "Epoch 9/10\n",
            "79/79 [==============================] - 1s 13ms/step - loss: 0.0488 - accuracy: 0.9893 - val_loss: 0.7456 - val_accuracy: 0.7016\n",
            "Epoch 10/10\n",
            "79/79 [==============================] - 1s 12ms/step - loss: 0.0367 - accuracy: 0.9929 - val_loss: 0.7695 - val_accuracy: 0.6855\n"
          ],
          "name": "stdout"
        },
        {
          "output_type": "display_data",
          "data": {
            "text/html": [
              "<span style=\"color:#4527A0\"><h1 style=\"font-size:18px\">Trial complete</h1></span>"
            ],
            "text/plain": [
              "<IPython.core.display.HTML object>"
            ]
          },
          "metadata": {
            "tags": []
          }
        },
        {
          "output_type": "display_data",
          "data": {
            "text/html": [
              "<span style=\"color:#4527A0\"><h1 style=\"font-size:18px\">Trial summary</h1></span>"
            ],
            "text/plain": [
              "<IPython.core.display.HTML object>"
            ]
          },
          "metadata": {
            "tags": []
          }
        },
        {
          "output_type": "display_data",
          "data": {
            "text/html": [
              "<span style=\"color:cyan\"> |-Trial ID: edb9f5a72816344cdc9de498e9bd5e00</span>"
            ],
            "text/plain": [
              "<IPython.core.display.HTML object>"
            ]
          },
          "metadata": {
            "tags": []
          }
        },
        {
          "output_type": "display_data",
          "data": {
            "text/html": [
              "<span style=\"color:cyan\"> |-Score: 0.7661290168762207</span>"
            ],
            "text/plain": [
              "<IPython.core.display.HTML object>"
            ]
          },
          "metadata": {
            "tags": []
          }
        },
        {
          "output_type": "display_data",
          "data": {
            "text/html": [
              "<span style=\"color:cyan\"> |-Best step: 0</span>"
            ],
            "text/plain": [
              "<IPython.core.display.HTML object>"
            ]
          },
          "metadata": {
            "tags": []
          }
        },
        {
          "output_type": "display_data",
          "data": {
            "text/html": [
              "<span style=\"color:#7E57C2\"><h2 style=\"font-size:16px\">Hyperparameters:</h2></span>"
            ],
            "text/plain": [
              "<IPython.core.display.HTML object>"
            ]
          },
          "metadata": {
            "tags": []
          }
        },
        {
          "output_type": "display_data",
          "data": {
            "text/html": [
              "<span style=\"color:cyan\"> |-Conv Layers: 1</span>"
            ],
            "text/plain": [
              "<IPython.core.display.HTML object>"
            ]
          },
          "metadata": {
            "tags": []
          }
        },
        {
          "output_type": "display_data",
          "data": {
            "text/html": [
              "<span style=\"color:blue\"> |-Dense layer: 512</span>"
            ],
            "text/plain": [
              "<IPython.core.display.HTML object>"
            ]
          },
          "metadata": {
            "tags": []
          }
        },
        {
          "output_type": "display_data",
          "data": {
            "text/html": [
              "<span style=\"color:cyan\"> |-layer_0_filters: 16</span>"
            ],
            "text/plain": [
              "<IPython.core.display.HTML object>"
            ]
          },
          "metadata": {
            "tags": []
          }
        },
        {
          "output_type": "display_data",
          "data": {
            "text/html": [
              "<span style=\"color:blue\"> |-layer_1_filters: 16</span>"
            ],
            "text/plain": [
              "<IPython.core.display.HTML object>"
            ]
          },
          "metadata": {
            "tags": []
          }
        },
        {
          "output_type": "display_data",
          "data": {
            "text/html": [
              "<span style=\"color:cyan\"> |-layer_2_filters: 16</span>"
            ],
            "text/plain": [
              "<IPython.core.display.HTML object>"
            ]
          },
          "metadata": {
            "tags": []
          }
        },
        {
          "output_type": "stream",
          "text": [
            "Epoch 1/10\n",
            "79/79 [==============================] - 2s 23ms/step - loss: 0.7198 - accuracy: 0.6821 - val_loss: 0.7812 - val_accuracy: 0.6505\n",
            "Epoch 2/10\n",
            "79/79 [==============================] - 2s 22ms/step - loss: 0.0749 - accuracy: 0.9802 - val_loss: 0.8801 - val_accuracy: 0.7177\n",
            "Epoch 3/10\n",
            "79/79 [==============================] - 2s 21ms/step - loss: 0.0136 - accuracy: 0.9964 - val_loss: 0.9027 - val_accuracy: 0.6989\n",
            "Epoch 4/10\n",
            "79/79 [==============================] - 2s 21ms/step - loss: 0.0060 - accuracy: 0.9992 - val_loss: 1.0085 - val_accuracy: 0.6586\n",
            "Epoch 5/10\n",
            "79/79 [==============================] - 2s 21ms/step - loss: 0.0062 - accuracy: 0.9988 - val_loss: 1.0512 - val_accuracy: 0.6237\n",
            "Epoch 6/10\n",
            "79/79 [==============================] - 2s 21ms/step - loss: 0.0116 - accuracy: 0.9980 - val_loss: 1.2132 - val_accuracy: 0.6237\n",
            "Epoch 7/10\n",
            "79/79 [==============================] - 2s 22ms/step - loss: 0.0683 - accuracy: 0.9778 - val_loss: 1.7873 - val_accuracy: 0.5403\n",
            "Epoch 8/10\n",
            "79/79 [==============================] - 2s 21ms/step - loss: 0.0471 - accuracy: 0.9829 - val_loss: 2.1748 - val_accuracy: 0.5672\n",
            "Epoch 9/10\n",
            "79/79 [==============================] - 2s 21ms/step - loss: 0.0151 - accuracy: 0.9940 - val_loss: 2.1837 - val_accuracy: 0.5941\n",
            "Epoch 10/10\n",
            "79/79 [==============================] - 2s 21ms/step - loss: 0.0024 - accuracy: 0.9988 - val_loss: 2.5503 - val_accuracy: 0.5860\n"
          ],
          "name": "stdout"
        },
        {
          "output_type": "display_data",
          "data": {
            "text/html": [
              "<span style=\"color:#4527A0\"><h1 style=\"font-size:18px\">Trial complete</h1></span>"
            ],
            "text/plain": [
              "<IPython.core.display.HTML object>"
            ]
          },
          "metadata": {
            "tags": []
          }
        },
        {
          "output_type": "display_data",
          "data": {
            "text/html": [
              "<span style=\"color:#4527A0\"><h1 style=\"font-size:18px\">Trial summary</h1></span>"
            ],
            "text/plain": [
              "<IPython.core.display.HTML object>"
            ]
          },
          "metadata": {
            "tags": []
          }
        },
        {
          "output_type": "display_data",
          "data": {
            "text/html": [
              "<span style=\"color:cyan\"> |-Trial ID: d6bf7fad75d6bda5755c2a431010822b</span>"
            ],
            "text/plain": [
              "<IPython.core.display.HTML object>"
            ]
          },
          "metadata": {
            "tags": []
          }
        },
        {
          "output_type": "display_data",
          "data": {
            "text/html": [
              "<span style=\"color:cyan\"> |-Score: 0.7177419066429138</span>"
            ],
            "text/plain": [
              "<IPython.core.display.HTML object>"
            ]
          },
          "metadata": {
            "tags": []
          }
        },
        {
          "output_type": "display_data",
          "data": {
            "text/html": [
              "<span style=\"color:cyan\"> |-Best step: 0</span>"
            ],
            "text/plain": [
              "<IPython.core.display.HTML object>"
            ]
          },
          "metadata": {
            "tags": []
          }
        },
        {
          "output_type": "display_data",
          "data": {
            "text/html": [
              "<span style=\"color:#7E57C2\"><h2 style=\"font-size:16px\">Hyperparameters:</h2></span>"
            ],
            "text/plain": [
              "<IPython.core.display.HTML object>"
            ]
          },
          "metadata": {
            "tags": []
          }
        },
        {
          "output_type": "display_data",
          "data": {
            "text/html": [
              "<span style=\"color:cyan\"> |-Conv Layers: 3</span>"
            ],
            "text/plain": [
              "<IPython.core.display.HTML object>"
            ]
          },
          "metadata": {
            "tags": []
          }
        },
        {
          "output_type": "display_data",
          "data": {
            "text/html": [
              "<span style=\"color:blue\"> |-Dense layer: 64</span>"
            ],
            "text/plain": [
              "<IPython.core.display.HTML object>"
            ]
          },
          "metadata": {
            "tags": []
          }
        },
        {
          "output_type": "display_data",
          "data": {
            "text/html": [
              "<span style=\"color:cyan\"> |-layer_0_filters: 16</span>"
            ],
            "text/plain": [
              "<IPython.core.display.HTML object>"
            ]
          },
          "metadata": {
            "tags": []
          }
        },
        {
          "output_type": "display_data",
          "data": {
            "text/html": [
              "<span style=\"color:blue\"> |-layer_1_filters: 64</span>"
            ],
            "text/plain": [
              "<IPython.core.display.HTML object>"
            ]
          },
          "metadata": {
            "tags": []
          }
        },
        {
          "output_type": "display_data",
          "data": {
            "text/html": [
              "<span style=\"color:cyan\"> |-layer_2_filters: 16</span>"
            ],
            "text/plain": [
              "<IPython.core.display.HTML object>"
            ]
          },
          "metadata": {
            "tags": []
          }
        },
        {
          "output_type": "stream",
          "text": [
            "Epoch 1/10\n",
            "79/79 [==============================] - 2s 27ms/step - loss: 1.2046 - accuracy: 0.7321 - val_loss: 0.8948 - val_accuracy: 0.5215\n",
            "Epoch 2/10\n",
            "79/79 [==============================] - 2s 27ms/step - loss: 0.0547 - accuracy: 0.9881 - val_loss: 0.6562 - val_accuracy: 0.7392\n",
            "Epoch 3/10\n",
            "79/79 [==============================] - 2s 21ms/step - loss: 0.0113 - accuracy: 0.9976 - val_loss: 0.9838 - val_accuracy: 0.7043\n",
            "Epoch 4/10\n",
            "79/79 [==============================] - 2s 20ms/step - loss: 0.0020 - accuracy: 1.0000 - val_loss: 1.0242 - val_accuracy: 0.6989\n",
            "Epoch 5/10\n",
            "79/79 [==============================] - 2s 21ms/step - loss: 7.8076e-04 - accuracy: 1.0000 - val_loss: 1.0894 - val_accuracy: 0.6774\n",
            "Epoch 6/10\n",
            "79/79 [==============================] - 2s 21ms/step - loss: 4.5179e-04 - accuracy: 1.0000 - val_loss: 1.1012 - val_accuracy: 0.6694\n",
            "Epoch 7/10\n",
            "79/79 [==============================] - 2s 20ms/step - loss: 2.9679e-04 - accuracy: 1.0000 - val_loss: 1.2379 - val_accuracy: 0.6640\n",
            "Epoch 8/10\n",
            "79/79 [==============================] - 2s 20ms/step - loss: 2.5122e-04 - accuracy: 1.0000 - val_loss: 1.2570 - val_accuracy: 0.6586\n",
            "Epoch 9/10\n",
            "79/79 [==============================] - 2s 20ms/step - loss: 1.6307e-04 - accuracy: 1.0000 - val_loss: 1.3810 - val_accuracy: 0.6694\n",
            "Epoch 10/10\n",
            "79/79 [==============================] - 2s 19ms/step - loss: 1.4137e-04 - accuracy: 1.0000 - val_loss: 1.3249 - val_accuracy: 0.6586\n"
          ],
          "name": "stdout"
        },
        {
          "output_type": "display_data",
          "data": {
            "text/html": [
              "<span style=\"color:#4527A0\"><h1 style=\"font-size:18px\">Trial complete</h1></span>"
            ],
            "text/plain": [
              "<IPython.core.display.HTML object>"
            ]
          },
          "metadata": {
            "tags": []
          }
        },
        {
          "output_type": "display_data",
          "data": {
            "text/html": [
              "<span style=\"color:#4527A0\"><h1 style=\"font-size:18px\">Trial summary</h1></span>"
            ],
            "text/plain": [
              "<IPython.core.display.HTML object>"
            ]
          },
          "metadata": {
            "tags": []
          }
        },
        {
          "output_type": "display_data",
          "data": {
            "text/html": [
              "<span style=\"color:cyan\"> |-Trial ID: 0386336a8db29ae83d754c7e3deb3eac</span>"
            ],
            "text/plain": [
              "<IPython.core.display.HTML object>"
            ]
          },
          "metadata": {
            "tags": []
          }
        },
        {
          "output_type": "display_data",
          "data": {
            "text/html": [
              "<span style=\"color:cyan\"> |-Score: 0.7392473220825195</span>"
            ],
            "text/plain": [
              "<IPython.core.display.HTML object>"
            ]
          },
          "metadata": {
            "tags": []
          }
        },
        {
          "output_type": "display_data",
          "data": {
            "text/html": [
              "<span style=\"color:cyan\"> |-Best step: 0</span>"
            ],
            "text/plain": [
              "<IPython.core.display.HTML object>"
            ]
          },
          "metadata": {
            "tags": []
          }
        },
        {
          "output_type": "display_data",
          "data": {
            "text/html": [
              "<span style=\"color:#7E57C2\"><h2 style=\"font-size:16px\">Hyperparameters:</h2></span>"
            ],
            "text/plain": [
              "<IPython.core.display.HTML object>"
            ]
          },
          "metadata": {
            "tags": []
          }
        },
        {
          "output_type": "display_data",
          "data": {
            "text/html": [
              "<span style=\"color:cyan\"> |-Conv Layers: 2</span>"
            ],
            "text/plain": [
              "<IPython.core.display.HTML object>"
            ]
          },
          "metadata": {
            "tags": []
          }
        },
        {
          "output_type": "display_data",
          "data": {
            "text/html": [
              "<span style=\"color:blue\"> |-Dense layer: 128</span>"
            ],
            "text/plain": [
              "<IPython.core.display.HTML object>"
            ]
          },
          "metadata": {
            "tags": []
          }
        },
        {
          "output_type": "display_data",
          "data": {
            "text/html": [
              "<span style=\"color:cyan\"> |-layer_0_filters: 16</span>"
            ],
            "text/plain": [
              "<IPython.core.display.HTML object>"
            ]
          },
          "metadata": {
            "tags": []
          }
        },
        {
          "output_type": "display_data",
          "data": {
            "text/html": [
              "<span style=\"color:blue\"> |-layer_1_filters: 64</span>"
            ],
            "text/plain": [
              "<IPython.core.display.HTML object>"
            ]
          },
          "metadata": {
            "tags": []
          }
        },
        {
          "output_type": "display_data",
          "data": {
            "text/html": [
              "<span style=\"color:cyan\"> |-layer_2_filters: 32</span>"
            ],
            "text/plain": [
              "<IPython.core.display.HTML object>"
            ]
          },
          "metadata": {
            "tags": []
          }
        },
        {
          "output_type": "stream",
          "text": [
            "Epoch 1/10\n",
            "79/79 [==============================] - 2s 26ms/step - loss: 0.8838 - accuracy: 0.6060 - val_loss: 1.1310 - val_accuracy: 0.4866\n",
            "Epoch 2/10\n",
            "79/79 [==============================] - 2s 25ms/step - loss: 0.2063 - accuracy: 0.9401 - val_loss: 1.1034 - val_accuracy: 0.6156\n",
            "Epoch 3/10\n",
            "79/79 [==============================] - 2s 24ms/step - loss: 0.0889 - accuracy: 0.9746 - val_loss: 1.2864 - val_accuracy: 0.6075\n",
            "Epoch 4/10\n",
            "79/79 [==============================] - 2s 23ms/step - loss: 0.0633 - accuracy: 0.9802 - val_loss: 2.0344 - val_accuracy: 0.6048\n",
            "Epoch 5/10\n",
            "79/79 [==============================] - 2s 24ms/step - loss: 0.0681 - accuracy: 0.9758 - val_loss: 2.4365 - val_accuracy: 0.6129\n",
            "Epoch 6/10\n",
            "79/79 [==============================] - 2s 25ms/step - loss: 0.0495 - accuracy: 0.9837 - val_loss: 1.7632 - val_accuracy: 0.6478\n",
            "Epoch 7/10\n",
            "79/79 [==============================] - 2s 25ms/step - loss: 0.0246 - accuracy: 0.9913 - val_loss: 1.9037 - val_accuracy: 0.6613\n",
            "Epoch 8/10\n",
            "79/79 [==============================] - 2s 24ms/step - loss: 0.1232 - accuracy: 0.9544 - val_loss: 1.1806 - val_accuracy: 0.5618\n",
            "Epoch 9/10\n",
            "79/79 [==============================] - 2s 23ms/step - loss: 0.0249 - accuracy: 0.9925 - val_loss: 1.8042 - val_accuracy: 0.6559\n",
            "Epoch 10/10\n",
            "79/79 [==============================] - 2s 24ms/step - loss: 0.0113 - accuracy: 0.9964 - val_loss: 2.6132 - val_accuracy: 0.6586\n"
          ],
          "name": "stdout"
        },
        {
          "output_type": "display_data",
          "data": {
            "text/html": [
              "<span style=\"color:#4527A0\"><h1 style=\"font-size:18px\">Trial complete</h1></span>"
            ],
            "text/plain": [
              "<IPython.core.display.HTML object>"
            ]
          },
          "metadata": {
            "tags": []
          }
        },
        {
          "output_type": "display_data",
          "data": {
            "text/html": [
              "<span style=\"color:#4527A0\"><h1 style=\"font-size:18px\">Trial summary</h1></span>"
            ],
            "text/plain": [
              "<IPython.core.display.HTML object>"
            ]
          },
          "metadata": {
            "tags": []
          }
        },
        {
          "output_type": "display_data",
          "data": {
            "text/html": [
              "<span style=\"color:cyan\"> |-Trial ID: 5921cc92fe5b547fb79e9fb118fa6ae7</span>"
            ],
            "text/plain": [
              "<IPython.core.display.HTML object>"
            ]
          },
          "metadata": {
            "tags": []
          }
        },
        {
          "output_type": "display_data",
          "data": {
            "text/html": [
              "<span style=\"color:cyan\"> |-Score: 0.6612903475761414</span>"
            ],
            "text/plain": [
              "<IPython.core.display.HTML object>"
            ]
          },
          "metadata": {
            "tags": []
          }
        },
        {
          "output_type": "display_data",
          "data": {
            "text/html": [
              "<span style=\"color:cyan\"> |-Best step: 0</span>"
            ],
            "text/plain": [
              "<IPython.core.display.HTML object>"
            ]
          },
          "metadata": {
            "tags": []
          }
        },
        {
          "output_type": "display_data",
          "data": {
            "text/html": [
              "<span style=\"color:#7E57C2\"><h2 style=\"font-size:16px\">Hyperparameters:</h2></span>"
            ],
            "text/plain": [
              "<IPython.core.display.HTML object>"
            ]
          },
          "metadata": {
            "tags": []
          }
        },
        {
          "output_type": "display_data",
          "data": {
            "text/html": [
              "<span style=\"color:cyan\"> |-Conv Layers: 3</span>"
            ],
            "text/plain": [
              "<IPython.core.display.HTML object>"
            ]
          },
          "metadata": {
            "tags": []
          }
        },
        {
          "output_type": "display_data",
          "data": {
            "text/html": [
              "<span style=\"color:blue\"> |-Dense layer: 128</span>"
            ],
            "text/plain": [
              "<IPython.core.display.HTML object>"
            ]
          },
          "metadata": {
            "tags": []
          }
        },
        {
          "output_type": "display_data",
          "data": {
            "text/html": [
              "<span style=\"color:cyan\"> |-layer_0_filters: 32</span>"
            ],
            "text/plain": [
              "<IPython.core.display.HTML object>"
            ]
          },
          "metadata": {
            "tags": []
          }
        },
        {
          "output_type": "display_data",
          "data": {
            "text/html": [
              "<span style=\"color:blue\"> |-layer_1_filters: 64</span>"
            ],
            "text/plain": [
              "<IPython.core.display.HTML object>"
            ]
          },
          "metadata": {
            "tags": []
          }
        },
        {
          "output_type": "display_data",
          "data": {
            "text/html": [
              "<span style=\"color:cyan\"> |-layer_2_filters: 16</span>"
            ],
            "text/plain": [
              "<IPython.core.display.HTML object>"
            ]
          },
          "metadata": {
            "tags": []
          }
        },
        {
          "output_type": "stream",
          "text": [
            "Epoch 1/10\n",
            "79/79 [==============================] - 1s 12ms/step - loss: 1.5109 - accuracy: 0.3325 - val_loss: 1.0986 - val_accuracy: 0.3333\n",
            "Epoch 2/10\n",
            "79/79 [==============================] - 1s 11ms/step - loss: 1.0987 - accuracy: 0.3333 - val_loss: 1.0986 - val_accuracy: 0.3333\n",
            "Epoch 3/10\n",
            "79/79 [==============================] - 1s 10ms/step - loss: 1.0987 - accuracy: 0.3333 - val_loss: 1.0986 - val_accuracy: 0.3333\n",
            "Epoch 4/10\n",
            "79/79 [==============================] - 1s 11ms/step - loss: 1.0987 - accuracy: 0.3333 - val_loss: 1.0986 - val_accuracy: 0.3333\n",
            "Epoch 5/10\n",
            "79/79 [==============================] - 1s 11ms/step - loss: 1.0987 - accuracy: 0.3131 - val_loss: 1.0986 - val_accuracy: 0.3333\n",
            "Epoch 6/10\n",
            "79/79 [==============================] - 1s 10ms/step - loss: 1.0987 - accuracy: 0.3190 - val_loss: 1.0986 - val_accuracy: 0.3333\n",
            "Epoch 7/10\n",
            "79/79 [==============================] - 1s 10ms/step - loss: 1.0987 - accuracy: 0.3234 - val_loss: 1.0986 - val_accuracy: 0.3333\n",
            "Epoch 8/10\n",
            "79/79 [==============================] - 1s 11ms/step - loss: 1.0987 - accuracy: 0.3135 - val_loss: 1.0986 - val_accuracy: 0.3333\n",
            "Epoch 9/10\n",
            "79/79 [==============================] - 1s 10ms/step - loss: 1.0987 - accuracy: 0.3349 - val_loss: 1.0986 - val_accuracy: 0.3333\n",
            "Epoch 10/10\n",
            "79/79 [==============================] - 1s 10ms/step - loss: 1.0987 - accuracy: 0.3333 - val_loss: 1.0986 - val_accuracy: 0.3333\n"
          ],
          "name": "stdout"
        },
        {
          "output_type": "display_data",
          "data": {
            "text/html": [
              "<span style=\"color:#4527A0\"><h1 style=\"font-size:18px\">Trial complete</h1></span>"
            ],
            "text/plain": [
              "<IPython.core.display.HTML object>"
            ]
          },
          "metadata": {
            "tags": []
          }
        },
        {
          "output_type": "display_data",
          "data": {
            "text/html": [
              "<span style=\"color:#4527A0\"><h1 style=\"font-size:18px\">Trial summary</h1></span>"
            ],
            "text/plain": [
              "<IPython.core.display.HTML object>"
            ]
          },
          "metadata": {
            "tags": []
          }
        },
        {
          "output_type": "display_data",
          "data": {
            "text/html": [
              "<span style=\"color:cyan\"> |-Trial ID: c84b189843899eacdbdd4f749329f7e0</span>"
            ],
            "text/plain": [
              "<IPython.core.display.HTML object>"
            ]
          },
          "metadata": {
            "tags": []
          }
        },
        {
          "output_type": "display_data",
          "data": {
            "text/html": [
              "<span style=\"color:cyan\"> |-Score: 0.3333333432674408</span>"
            ],
            "text/plain": [
              "<IPython.core.display.HTML object>"
            ]
          },
          "metadata": {
            "tags": []
          }
        },
        {
          "output_type": "display_data",
          "data": {
            "text/html": [
              "<span style=\"color:cyan\"> |-Best step: 0</span>"
            ],
            "text/plain": [
              "<IPython.core.display.HTML object>"
            ]
          },
          "metadata": {
            "tags": []
          }
        },
        {
          "output_type": "display_data",
          "data": {
            "text/html": [
              "<span style=\"color:#7E57C2\"><h2 style=\"font-size:16px\">Hyperparameters:</h2></span>"
            ],
            "text/plain": [
              "<IPython.core.display.HTML object>"
            ]
          },
          "metadata": {
            "tags": []
          }
        },
        {
          "output_type": "display_data",
          "data": {
            "text/html": [
              "<span style=\"color:cyan\"> |-Conv Layers: 1</span>"
            ],
            "text/plain": [
              "<IPython.core.display.HTML object>"
            ]
          },
          "metadata": {
            "tags": []
          }
        },
        {
          "output_type": "display_data",
          "data": {
            "text/html": [
              "<span style=\"color:blue\"> |-Dense layer: 64</span>"
            ],
            "text/plain": [
              "<IPython.core.display.HTML object>"
            ]
          },
          "metadata": {
            "tags": []
          }
        },
        {
          "output_type": "display_data",
          "data": {
            "text/html": [
              "<span style=\"color:cyan\"> |-layer_0_filters: 16</span>"
            ],
            "text/plain": [
              "<IPython.core.display.HTML object>"
            ]
          },
          "metadata": {
            "tags": []
          }
        },
        {
          "output_type": "display_data",
          "data": {
            "text/html": [
              "<span style=\"color:blue\"> |-layer_1_filters: 16</span>"
            ],
            "text/plain": [
              "<IPython.core.display.HTML object>"
            ]
          },
          "metadata": {
            "tags": []
          }
        },
        {
          "output_type": "display_data",
          "data": {
            "text/html": [
              "<span style=\"color:cyan\"> |-layer_2_filters: 16</span>"
            ],
            "text/plain": [
              "<IPython.core.display.HTML object>"
            ]
          },
          "metadata": {
            "tags": []
          }
        },
        {
          "output_type": "stream",
          "text": [
            "Epoch 1/10\n",
            "79/79 [==============================] - 2s 23ms/step - loss: 0.7048 - accuracy: 0.7421 - val_loss: 1.1129 - val_accuracy: 0.5108\n",
            "Epoch 2/10\n",
            "79/79 [==============================] - 2s 21ms/step - loss: 0.1295 - accuracy: 0.9675 - val_loss: 0.8442 - val_accuracy: 0.7204\n",
            "Epoch 3/10\n",
            "79/79 [==============================] - 2s 22ms/step - loss: 0.0338 - accuracy: 0.9917 - val_loss: 0.7641 - val_accuracy: 0.7366\n",
            "Epoch 4/10\n",
            "79/79 [==============================] - 1s 18ms/step - loss: 0.0163 - accuracy: 0.9976 - val_loss: 0.9358 - val_accuracy: 0.7204\n",
            "Epoch 5/10\n",
            "79/79 [==============================] - 1s 18ms/step - loss: 0.0086 - accuracy: 0.9980 - val_loss: 0.9594 - val_accuracy: 0.7258\n",
            "Epoch 6/10\n",
            "79/79 [==============================] - 2s 21ms/step - loss: 0.0067 - accuracy: 0.9980 - val_loss: 0.7825 - val_accuracy: 0.7688\n",
            "Epoch 7/10\n",
            "79/79 [==============================] - 2s 21ms/step - loss: 0.0042 - accuracy: 0.9996 - val_loss: 0.7904 - val_accuracy: 0.7742\n",
            "Epoch 8/10\n",
            "79/79 [==============================] - 1s 18ms/step - loss: 0.0064 - accuracy: 0.9980 - val_loss: 0.7392 - val_accuracy: 0.7688\n",
            "Epoch 9/10\n",
            "79/79 [==============================] - 1s 18ms/step - loss: 0.0108 - accuracy: 0.9976 - val_loss: 1.4024 - val_accuracy: 0.6505\n",
            "Epoch 10/10\n",
            "79/79 [==============================] - 1s 18ms/step - loss: 0.0053 - accuracy: 0.9984 - val_loss: 0.9409 - val_accuracy: 0.7204\n"
          ],
          "name": "stdout"
        },
        {
          "output_type": "display_data",
          "data": {
            "text/html": [
              "<span style=\"color:#4527A0\"><h1 style=\"font-size:18px\">Trial complete</h1></span>"
            ],
            "text/plain": [
              "<IPython.core.display.HTML object>"
            ]
          },
          "metadata": {
            "tags": []
          }
        },
        {
          "output_type": "display_data",
          "data": {
            "text/html": [
              "<span style=\"color:#4527A0\"><h1 style=\"font-size:18px\">Trial summary</h1></span>"
            ],
            "text/plain": [
              "<IPython.core.display.HTML object>"
            ]
          },
          "metadata": {
            "tags": []
          }
        },
        {
          "output_type": "display_data",
          "data": {
            "text/html": [
              "<span style=\"color:cyan\"> |-Trial ID: 2779f15c742a0ff9ebed367cc59aa0c0</span>"
            ],
            "text/plain": [
              "<IPython.core.display.HTML object>"
            ]
          },
          "metadata": {
            "tags": []
          }
        },
        {
          "output_type": "display_data",
          "data": {
            "text/html": [
              "<span style=\"color:cyan\"> |-Score: 0.774193525314331</span>"
            ],
            "text/plain": [
              "<IPython.core.display.HTML object>"
            ]
          },
          "metadata": {
            "tags": []
          }
        },
        {
          "output_type": "display_data",
          "data": {
            "text/html": [
              "<span style=\"color:cyan\"> |-Best step: 0</span>"
            ],
            "text/plain": [
              "<IPython.core.display.HTML object>"
            ]
          },
          "metadata": {
            "tags": []
          }
        },
        {
          "output_type": "display_data",
          "data": {
            "text/html": [
              "<span style=\"color:#7E57C2\"><h2 style=\"font-size:16px\">Hyperparameters:</h2></span>"
            ],
            "text/plain": [
              "<IPython.core.display.HTML object>"
            ]
          },
          "metadata": {
            "tags": []
          }
        },
        {
          "output_type": "display_data",
          "data": {
            "text/html": [
              "<span style=\"color:cyan\"> |-Conv Layers: 2</span>"
            ],
            "text/plain": [
              "<IPython.core.display.HTML object>"
            ]
          },
          "metadata": {
            "tags": []
          }
        },
        {
          "output_type": "display_data",
          "data": {
            "text/html": [
              "<span style=\"color:blue\"> |-Dense layer: 256</span>"
            ],
            "text/plain": [
              "<IPython.core.display.HTML object>"
            ]
          },
          "metadata": {
            "tags": []
          }
        },
        {
          "output_type": "display_data",
          "data": {
            "text/html": [
              "<span style=\"color:cyan\"> |-layer_0_filters: 64</span>"
            ],
            "text/plain": [
              "<IPython.core.display.HTML object>"
            ]
          },
          "metadata": {
            "tags": []
          }
        },
        {
          "output_type": "display_data",
          "data": {
            "text/html": [
              "<span style=\"color:blue\"> |-layer_1_filters: 16</span>"
            ],
            "text/plain": [
              "<IPython.core.display.HTML object>"
            ]
          },
          "metadata": {
            "tags": []
          }
        },
        {
          "output_type": "display_data",
          "data": {
            "text/html": [
              "<span style=\"color:cyan\"> |-layer_2_filters: 32</span>"
            ],
            "text/plain": [
              "<IPython.core.display.HTML object>"
            ]
          },
          "metadata": {
            "tags": []
          }
        },
        {
          "output_type": "stream",
          "text": [
            "Epoch 1/10\n",
            "79/79 [==============================] - 2s 24ms/step - loss: 0.6985 - accuracy: 0.7595 - val_loss: 0.7988 - val_accuracy: 0.6371\n",
            "Epoch 2/10\n",
            "79/79 [==============================] - 2s 24ms/step - loss: 0.0496 - accuracy: 0.9901 - val_loss: 0.9787 - val_accuracy: 0.6586\n",
            "Epoch 3/10\n",
            "79/79 [==============================] - 2s 21ms/step - loss: 0.0144 - accuracy: 0.9976 - val_loss: 1.3925 - val_accuracy: 0.6022\n",
            "Epoch 4/10\n",
            "79/79 [==============================] - 2s 24ms/step - loss: 0.0045 - accuracy: 0.9996 - val_loss: 1.3999 - val_accuracy: 0.6801\n",
            "Epoch 5/10\n",
            "79/79 [==============================] - 2s 24ms/step - loss: 0.0012 - accuracy: 1.0000 - val_loss: 1.5332 - val_accuracy: 0.6855\n",
            "Epoch 6/10\n",
            "79/79 [==============================] - 2s 21ms/step - loss: 6.4160e-04 - accuracy: 1.0000 - val_loss: 1.5031 - val_accuracy: 0.6613\n",
            "Epoch 7/10\n",
            "79/79 [==============================] - 2s 21ms/step - loss: 5.2686e-04 - accuracy: 1.0000 - val_loss: 1.6044 - val_accuracy: 0.6667\n",
            "Epoch 8/10\n",
            "79/79 [==============================] - 2s 21ms/step - loss: 3.9523e-04 - accuracy: 1.0000 - val_loss: 1.6870 - val_accuracy: 0.6747\n",
            "Epoch 9/10\n",
            "79/79 [==============================] - 2s 24ms/step - loss: 2.7748e-04 - accuracy: 1.0000 - val_loss: 1.6886 - val_accuracy: 0.6935\n",
            "Epoch 10/10\n",
            "79/79 [==============================] - 2s 21ms/step - loss: 2.2563e-04 - accuracy: 1.0000 - val_loss: 1.7241 - val_accuracy: 0.6935\n"
          ],
          "name": "stdout"
        },
        {
          "output_type": "display_data",
          "data": {
            "text/html": [
              "<span style=\"color:#4527A0\"><h1 style=\"font-size:18px\">Trial complete</h1></span>"
            ],
            "text/plain": [
              "<IPython.core.display.HTML object>"
            ]
          },
          "metadata": {
            "tags": []
          }
        },
        {
          "output_type": "display_data",
          "data": {
            "text/html": [
              "<span style=\"color:#4527A0\"><h1 style=\"font-size:18px\">Trial summary</h1></span>"
            ],
            "text/plain": [
              "<IPython.core.display.HTML object>"
            ]
          },
          "metadata": {
            "tags": []
          }
        },
        {
          "output_type": "display_data",
          "data": {
            "text/html": [
              "<span style=\"color:cyan\"> |-Trial ID: f454b0624e1645d498209b1c1110ea0b</span>"
            ],
            "text/plain": [
              "<IPython.core.display.HTML object>"
            ]
          },
          "metadata": {
            "tags": []
          }
        },
        {
          "output_type": "display_data",
          "data": {
            "text/html": [
              "<span style=\"color:cyan\"> |-Score: 0.6935483813285828</span>"
            ],
            "text/plain": [
              "<IPython.core.display.HTML object>"
            ]
          },
          "metadata": {
            "tags": []
          }
        },
        {
          "output_type": "display_data",
          "data": {
            "text/html": [
              "<span style=\"color:cyan\"> |-Best step: 0</span>"
            ],
            "text/plain": [
              "<IPython.core.display.HTML object>"
            ]
          },
          "metadata": {
            "tags": []
          }
        },
        {
          "output_type": "display_data",
          "data": {
            "text/html": [
              "<span style=\"color:#7E57C2\"><h2 style=\"font-size:16px\">Hyperparameters:</h2></span>"
            ],
            "text/plain": [
              "<IPython.core.display.HTML object>"
            ]
          },
          "metadata": {
            "tags": []
          }
        },
        {
          "output_type": "display_data",
          "data": {
            "text/html": [
              "<span style=\"color:cyan\"> |-Conv Layers: 2</span>"
            ],
            "text/plain": [
              "<IPython.core.display.HTML object>"
            ]
          },
          "metadata": {
            "tags": []
          }
        },
        {
          "output_type": "display_data",
          "data": {
            "text/html": [
              "<span style=\"color:blue\"> |-Dense layer: 64</span>"
            ],
            "text/plain": [
              "<IPython.core.display.HTML object>"
            ]
          },
          "metadata": {
            "tags": []
          }
        },
        {
          "output_type": "display_data",
          "data": {
            "text/html": [
              "<span style=\"color:cyan\"> |-layer_0_filters: 32</span>"
            ],
            "text/plain": [
              "<IPython.core.display.HTML object>"
            ]
          },
          "metadata": {
            "tags": []
          }
        },
        {
          "output_type": "display_data",
          "data": {
            "text/html": [
              "<span style=\"color:blue\"> |-layer_1_filters: 64</span>"
            ],
            "text/plain": [
              "<IPython.core.display.HTML object>"
            ]
          },
          "metadata": {
            "tags": []
          }
        },
        {
          "output_type": "display_data",
          "data": {
            "text/html": [
              "<span style=\"color:cyan\"> |-layer_2_filters: 16</span>"
            ],
            "text/plain": [
              "<IPython.core.display.HTML object>"
            ]
          },
          "metadata": {
            "tags": []
          }
        },
        {
          "output_type": "stream",
          "text": [
            "Epoch 1/10\n",
            "79/79 [==============================] - 2s 23ms/step - loss: 1.7059 - accuracy: 0.5782 - val_loss: 0.9435 - val_accuracy: 0.6075\n",
            "Epoch 2/10\n",
            "79/79 [==============================] - 2s 23ms/step - loss: 0.3900 - accuracy: 0.9052 - val_loss: 0.7548 - val_accuracy: 0.7124\n",
            "Epoch 3/10\n",
            "79/79 [==============================] - 2s 22ms/step - loss: 0.1615 - accuracy: 0.9750 - val_loss: 0.7234 - val_accuracy: 0.7473\n",
            "Epoch 4/10\n",
            "79/79 [==============================] - 1s 16ms/step - loss: 0.0893 - accuracy: 0.9881 - val_loss: 0.8614 - val_accuracy: 0.6882\n",
            "Epoch 5/10\n",
            "79/79 [==============================] - 1s 16ms/step - loss: 0.0529 - accuracy: 0.9913 - val_loss: 0.7918 - val_accuracy: 0.7312\n",
            "Epoch 6/10\n",
            "79/79 [==============================] - 1s 16ms/step - loss: 0.0393 - accuracy: 0.9944 - val_loss: 0.7849 - val_accuracy: 0.7285\n",
            "Epoch 7/10\n",
            "79/79 [==============================] - 1s 16ms/step - loss: 0.0227 - accuracy: 0.9968 - val_loss: 0.8375 - val_accuracy: 0.7043\n",
            "Epoch 8/10\n",
            "79/79 [==============================] - 1s 16ms/step - loss: 0.0165 - accuracy: 0.9992 - val_loss: 0.8733 - val_accuracy: 0.7258\n",
            "Epoch 9/10\n",
            "79/79 [==============================] - 1s 16ms/step - loss: 0.0128 - accuracy: 1.0000 - val_loss: 0.8727 - val_accuracy: 0.7473\n",
            "Epoch 10/10\n",
            "79/79 [==============================] - 1s 16ms/step - loss: 0.0092 - accuracy: 1.0000 - val_loss: 0.8752 - val_accuracy: 0.7177\n"
          ],
          "name": "stdout"
        },
        {
          "output_type": "display_data",
          "data": {
            "text/html": [
              "<span style=\"color:#4527A0\"><h1 style=\"font-size:18px\">Trial complete</h1></span>"
            ],
            "text/plain": [
              "<IPython.core.display.HTML object>"
            ]
          },
          "metadata": {
            "tags": []
          }
        },
        {
          "output_type": "display_data",
          "data": {
            "text/html": [
              "<span style=\"color:#4527A0\"><h1 style=\"font-size:18px\">Trial summary</h1></span>"
            ],
            "text/plain": [
              "<IPython.core.display.HTML object>"
            ]
          },
          "metadata": {
            "tags": []
          }
        },
        {
          "output_type": "display_data",
          "data": {
            "text/html": [
              "<span style=\"color:cyan\"> |-Trial ID: 09037d94bcb30eb64ba57cf577b4aa60</span>"
            ],
            "text/plain": [
              "<IPython.core.display.HTML object>"
            ]
          },
          "metadata": {
            "tags": []
          }
        },
        {
          "output_type": "display_data",
          "data": {
            "text/html": [
              "<span style=\"color:cyan\"> |-Score: 0.7473118305206299</span>"
            ],
            "text/plain": [
              "<IPython.core.display.HTML object>"
            ]
          },
          "metadata": {
            "tags": []
          }
        },
        {
          "output_type": "display_data",
          "data": {
            "text/html": [
              "<span style=\"color:cyan\"> |-Best step: 0</span>"
            ],
            "text/plain": [
              "<IPython.core.display.HTML object>"
            ]
          },
          "metadata": {
            "tags": []
          }
        },
        {
          "output_type": "display_data",
          "data": {
            "text/html": [
              "<span style=\"color:#7E57C2\"><h2 style=\"font-size:16px\">Hyperparameters:</h2></span>"
            ],
            "text/plain": [
              "<IPython.core.display.HTML object>"
            ]
          },
          "metadata": {
            "tags": []
          }
        },
        {
          "output_type": "display_data",
          "data": {
            "text/html": [
              "<span style=\"color:cyan\"> |-Conv Layers: 1</span>"
            ],
            "text/plain": [
              "<IPython.core.display.HTML object>"
            ]
          },
          "metadata": {
            "tags": []
          }
        },
        {
          "output_type": "display_data",
          "data": {
            "text/html": [
              "<span style=\"color:blue\"> |-Dense layer: 128</span>"
            ],
            "text/plain": [
              "<IPython.core.display.HTML object>"
            ]
          },
          "metadata": {
            "tags": []
          }
        },
        {
          "output_type": "display_data",
          "data": {
            "text/html": [
              "<span style=\"color:cyan\"> |-layer_0_filters: 64</span>"
            ],
            "text/plain": [
              "<IPython.core.display.HTML object>"
            ]
          },
          "metadata": {
            "tags": []
          }
        },
        {
          "output_type": "display_data",
          "data": {
            "text/html": [
              "<span style=\"color:blue\"> |-layer_1_filters: 16</span>"
            ],
            "text/plain": [
              "<IPython.core.display.HTML object>"
            ]
          },
          "metadata": {
            "tags": []
          }
        },
        {
          "output_type": "display_data",
          "data": {
            "text/html": [
              "<span style=\"color:cyan\"> |-layer_2_filters: 16</span>"
            ],
            "text/plain": [
              "<IPython.core.display.HTML object>"
            ]
          },
          "metadata": {
            "tags": []
          }
        },
        {
          "output_type": "stream",
          "text": [
            "Epoch 1/10\n",
            "79/79 [==============================] - 1s 13ms/step - loss: 1.5342 - accuracy: 0.3675 - val_loss: 1.0850 - val_accuracy: 0.4651\n",
            "Epoch 2/10\n",
            "79/79 [==============================] - 1s 11ms/step - loss: 0.9994 - accuracy: 0.4333 - val_loss: 1.0424 - val_accuracy: 0.4194\n",
            "Epoch 3/10\n",
            "79/79 [==============================] - 1s 11ms/step - loss: 0.9082 - accuracy: 0.5349 - val_loss: 1.0096 - val_accuracy: 0.4328\n",
            "Epoch 4/10\n",
            "79/79 [==============================] - 1s 12ms/step - loss: 0.7715 - accuracy: 0.6429 - val_loss: 0.9403 - val_accuracy: 0.5323\n",
            "Epoch 5/10\n",
            "79/79 [==============================] - 1s 13ms/step - loss: 0.5690 - accuracy: 0.7865 - val_loss: 0.8730 - val_accuracy: 0.6452\n",
            "Epoch 6/10\n",
            "79/79 [==============================] - 1s 11ms/step - loss: 0.4484 - accuracy: 0.9079 - val_loss: 0.8410 - val_accuracy: 0.6371\n",
            "Epoch 7/10\n",
            "79/79 [==============================] - 1s 11ms/step - loss: 0.3812 - accuracy: 0.9333 - val_loss: 0.8897 - val_accuracy: 0.5995\n",
            "Epoch 8/10\n",
            "79/79 [==============================] - 1s 12ms/step - loss: 0.3157 - accuracy: 0.9647 - val_loss: 0.7940 - val_accuracy: 0.6747\n",
            "Epoch 9/10\n",
            "79/79 [==============================] - 1s 11ms/step - loss: 0.2771 - accuracy: 0.9742 - val_loss: 0.7995 - val_accuracy: 0.6694\n",
            "Epoch 10/10\n",
            "79/79 [==============================] - 1s 12ms/step - loss: 0.2442 - accuracy: 0.9837 - val_loss: 0.7426 - val_accuracy: 0.7097\n"
          ],
          "name": "stdout"
        },
        {
          "output_type": "display_data",
          "data": {
            "text/html": [
              "<span style=\"color:#4527A0\"><h1 style=\"font-size:18px\">Trial complete</h1></span>"
            ],
            "text/plain": [
              "<IPython.core.display.HTML object>"
            ]
          },
          "metadata": {
            "tags": []
          }
        },
        {
          "output_type": "display_data",
          "data": {
            "text/html": [
              "<span style=\"color:#4527A0\"><h1 style=\"font-size:18px\">Trial summary</h1></span>"
            ],
            "text/plain": [
              "<IPython.core.display.HTML object>"
            ]
          },
          "metadata": {
            "tags": []
          }
        },
        {
          "output_type": "display_data",
          "data": {
            "text/html": [
              "<span style=\"color:cyan\"> |-Trial ID: c85a57bd73b376b271c6526728415fcb</span>"
            ],
            "text/plain": [
              "<IPython.core.display.HTML object>"
            ]
          },
          "metadata": {
            "tags": []
          }
        },
        {
          "output_type": "display_data",
          "data": {
            "text/html": [
              "<span style=\"color:cyan\"> |-Score: 0.7096773982048035</span>"
            ],
            "text/plain": [
              "<IPython.core.display.HTML object>"
            ]
          },
          "metadata": {
            "tags": []
          }
        },
        {
          "output_type": "display_data",
          "data": {
            "text/html": [
              "<span style=\"color:cyan\"> |-Best step: 0</span>"
            ],
            "text/plain": [
              "<IPython.core.display.HTML object>"
            ]
          },
          "metadata": {
            "tags": []
          }
        },
        {
          "output_type": "display_data",
          "data": {
            "text/html": [
              "<span style=\"color:#7E57C2\"><h2 style=\"font-size:16px\">Hyperparameters:</h2></span>"
            ],
            "text/plain": [
              "<IPython.core.display.HTML object>"
            ]
          },
          "metadata": {
            "tags": []
          }
        },
        {
          "output_type": "display_data",
          "data": {
            "text/html": [
              "<span style=\"color:cyan\"> |-Conv Layers: 1</span>"
            ],
            "text/plain": [
              "<IPython.core.display.HTML object>"
            ]
          },
          "metadata": {
            "tags": []
          }
        },
        {
          "output_type": "display_data",
          "data": {
            "text/html": [
              "<span style=\"color:blue\"> |-Dense layer: 128</span>"
            ],
            "text/plain": [
              "<IPython.core.display.HTML object>"
            ]
          },
          "metadata": {
            "tags": []
          }
        },
        {
          "output_type": "display_data",
          "data": {
            "text/html": [
              "<span style=\"color:cyan\"> |-layer_0_filters: 16</span>"
            ],
            "text/plain": [
              "<IPython.core.display.HTML object>"
            ]
          },
          "metadata": {
            "tags": []
          }
        },
        {
          "output_type": "display_data",
          "data": {
            "text/html": [
              "<span style=\"color:blue\"> |-layer_1_filters: 32</span>"
            ],
            "text/plain": [
              "<IPython.core.display.HTML object>"
            ]
          },
          "metadata": {
            "tags": []
          }
        },
        {
          "output_type": "display_data",
          "data": {
            "text/html": [
              "<span style=\"color:cyan\"> |-layer_2_filters: 32</span>"
            ],
            "text/plain": [
              "<IPython.core.display.HTML object>"
            ]
          },
          "metadata": {
            "tags": []
          }
        },
        {
          "output_type": "stream",
          "text": [
            "Epoch 1/10\n",
            "79/79 [==============================] - 20s 249ms/step - loss: 2.5118 - accuracy: 0.6651 - val_loss: 0.8980 - val_accuracy: 0.6156\n",
            "Epoch 2/10\n",
            "79/79 [==============================] - 47s 593ms/step - loss: 0.2328 - accuracy: 0.9575 - val_loss: 0.7694 - val_accuracy: 0.6909\n",
            "Epoch 3/10\n",
            "79/79 [==============================] - 3s 33ms/step - loss: 0.0798 - accuracy: 0.9897 - val_loss: 0.7648 - val_accuracy: 0.6210\n",
            "Epoch 4/10\n",
            "79/79 [==============================] - 39s 488ms/step - loss: 0.0314 - accuracy: 0.9964 - val_loss: 0.7325 - val_accuracy: 0.7339\n",
            "Epoch 5/10\n",
            "79/79 [==============================] - 3s 33ms/step - loss: 0.0185 - accuracy: 0.9984 - val_loss: 0.7653 - val_accuracy: 0.7231\n",
            "Epoch 6/10\n",
            "79/79 [==============================] - 3s 33ms/step - loss: 0.0103 - accuracy: 1.0000 - val_loss: 0.8207 - val_accuracy: 0.7258\n",
            "Epoch 7/10\n",
            "79/79 [==============================] - 3s 32ms/step - loss: 0.0070 - accuracy: 0.9996 - val_loss: 0.8766 - val_accuracy: 0.7285\n",
            "Epoch 8/10\n",
            "79/79 [==============================] - 3s 32ms/step - loss: 0.0045 - accuracy: 1.0000 - val_loss: 1.0131 - val_accuracy: 0.7151\n",
            "Epoch 9/10\n",
            "79/79 [==============================] - 3s 32ms/step - loss: 0.0034 - accuracy: 1.0000 - val_loss: 0.9122 - val_accuracy: 0.6962\n",
            "Epoch 10/10\n",
            "79/79 [==============================] - 3s 32ms/step - loss: 0.0024 - accuracy: 1.0000 - val_loss: 0.9483 - val_accuracy: 0.7151\n"
          ],
          "name": "stdout"
        },
        {
          "output_type": "display_data",
          "data": {
            "text/html": [
              "<span style=\"color:#4527A0\"><h1 style=\"font-size:18px\">Trial complete</h1></span>"
            ],
            "text/plain": [
              "<IPython.core.display.HTML object>"
            ]
          },
          "metadata": {
            "tags": []
          }
        },
        {
          "output_type": "display_data",
          "data": {
            "text/html": [
              "<span style=\"color:#4527A0\"><h1 style=\"font-size:18px\">Trial summary</h1></span>"
            ],
            "text/plain": [
              "<IPython.core.display.HTML object>"
            ]
          },
          "metadata": {
            "tags": []
          }
        },
        {
          "output_type": "display_data",
          "data": {
            "text/html": [
              "<span style=\"color:cyan\"> |-Trial ID: 97e5c502846a49bf0c6af1efbf655f3b</span>"
            ],
            "text/plain": [
              "<IPython.core.display.HTML object>"
            ]
          },
          "metadata": {
            "tags": []
          }
        },
        {
          "output_type": "display_data",
          "data": {
            "text/html": [
              "<span style=\"color:cyan\"> |-Score: 0.7338709831237793</span>"
            ],
            "text/plain": [
              "<IPython.core.display.HTML object>"
            ]
          },
          "metadata": {
            "tags": []
          }
        },
        {
          "output_type": "display_data",
          "data": {
            "text/html": [
              "<span style=\"color:cyan\"> |-Best step: 0</span>"
            ],
            "text/plain": [
              "<IPython.core.display.HTML object>"
            ]
          },
          "metadata": {
            "tags": []
          }
        },
        {
          "output_type": "display_data",
          "data": {
            "text/html": [
              "<span style=\"color:#7E57C2\"><h2 style=\"font-size:16px\">Hyperparameters:</h2></span>"
            ],
            "text/plain": [
              "<IPython.core.display.HTML object>"
            ]
          },
          "metadata": {
            "tags": []
          }
        },
        {
          "output_type": "display_data",
          "data": {
            "text/html": [
              "<span style=\"color:cyan\"> |-Conv Layers: 1</span>"
            ],
            "text/plain": [
              "<IPython.core.display.HTML object>"
            ]
          },
          "metadata": {
            "tags": []
          }
        },
        {
          "output_type": "display_data",
          "data": {
            "text/html": [
              "<span style=\"color:blue\"> |-Dense layer: 1024</span>"
            ],
            "text/plain": [
              "<IPython.core.display.HTML object>"
            ]
          },
          "metadata": {
            "tags": []
          }
        },
        {
          "output_type": "display_data",
          "data": {
            "text/html": [
              "<span style=\"color:cyan\"> |-layer_0_filters: 64</span>"
            ],
            "text/plain": [
              "<IPython.core.display.HTML object>"
            ]
          },
          "metadata": {
            "tags": []
          }
        },
        {
          "output_type": "display_data",
          "data": {
            "text/html": [
              "<span style=\"color:blue\"> |-layer_1_filters: 16</span>"
            ],
            "text/plain": [
              "<IPython.core.display.HTML object>"
            ]
          },
          "metadata": {
            "tags": []
          }
        },
        {
          "output_type": "display_data",
          "data": {
            "text/html": [
              "<span style=\"color:cyan\"> |-layer_2_filters: 64</span>"
            ],
            "text/plain": [
              "<IPython.core.display.HTML object>"
            ]
          },
          "metadata": {
            "tags": []
          }
        },
        {
          "output_type": "stream",
          "text": [
            "Epoch 1/10\n",
            "79/79 [==============================] - 2s 19ms/step - loss: 1.0712 - accuracy: 0.5488 - val_loss: 1.1493 - val_accuracy: 0.4516\n",
            "Epoch 2/10\n",
            "79/79 [==============================] - 1s 17ms/step - loss: 0.2827 - accuracy: 0.9246 - val_loss: 0.8483 - val_accuracy: 0.6586\n",
            "Epoch 3/10\n",
            "79/79 [==============================] - 1s 18ms/step - loss: 0.0844 - accuracy: 0.9806 - val_loss: 0.8693 - val_accuracy: 0.6909\n",
            "Epoch 4/10\n",
            "79/79 [==============================] - 1s 19ms/step - loss: 0.0408 - accuracy: 0.9905 - val_loss: 0.8864 - val_accuracy: 0.7016\n",
            "Epoch 5/10\n",
            "79/79 [==============================] - 1s 18ms/step - loss: 0.0189 - accuracy: 0.9972 - val_loss: 0.8874 - val_accuracy: 0.7258\n",
            "Epoch 6/10\n",
            "79/79 [==============================] - 1s 16ms/step - loss: 0.0133 - accuracy: 0.9976 - val_loss: 0.9007 - val_accuracy: 0.6909\n",
            "Epoch 7/10\n",
            "79/79 [==============================] - 1s 17ms/step - loss: 0.0070 - accuracy: 0.9996 - val_loss: 1.0013 - val_accuracy: 0.7043\n",
            "Epoch 8/10\n",
            "79/79 [==============================] - 1s 16ms/step - loss: 0.0045 - accuracy: 0.9996 - val_loss: 0.9950 - val_accuracy: 0.7043\n",
            "Epoch 9/10\n",
            "79/79 [==============================] - 1s 16ms/step - loss: 0.0048 - accuracy: 0.9992 - val_loss: 1.1629 - val_accuracy: 0.6774\n",
            "Epoch 10/10\n",
            "79/79 [==============================] - 1s 16ms/step - loss: 0.0029 - accuracy: 1.0000 - val_loss: 1.1160 - val_accuracy: 0.6774\n"
          ],
          "name": "stdout"
        },
        {
          "output_type": "display_data",
          "data": {
            "text/html": [
              "<span style=\"color:#4527A0\"><h1 style=\"font-size:18px\">Trial complete</h1></span>"
            ],
            "text/plain": [
              "<IPython.core.display.HTML object>"
            ]
          },
          "metadata": {
            "tags": []
          }
        },
        {
          "output_type": "display_data",
          "data": {
            "text/html": [
              "<span style=\"color:#4527A0\"><h1 style=\"font-size:18px\">Trial summary</h1></span>"
            ],
            "text/plain": [
              "<IPython.core.display.HTML object>"
            ]
          },
          "metadata": {
            "tags": []
          }
        },
        {
          "output_type": "display_data",
          "data": {
            "text/html": [
              "<span style=\"color:cyan\"> |-Trial ID: c24d8ea96311f22767bc2aeaed1c01b0</span>"
            ],
            "text/plain": [
              "<IPython.core.display.HTML object>"
            ]
          },
          "metadata": {
            "tags": []
          }
        },
        {
          "output_type": "display_data",
          "data": {
            "text/html": [
              "<span style=\"color:cyan\"> |-Score: 0.725806474685669</span>"
            ],
            "text/plain": [
              "<IPython.core.display.HTML object>"
            ]
          },
          "metadata": {
            "tags": []
          }
        },
        {
          "output_type": "display_data",
          "data": {
            "text/html": [
              "<span style=\"color:cyan\"> |-Best step: 0</span>"
            ],
            "text/plain": [
              "<IPython.core.display.HTML object>"
            ]
          },
          "metadata": {
            "tags": []
          }
        },
        {
          "output_type": "display_data",
          "data": {
            "text/html": [
              "<span style=\"color:#7E57C2\"><h2 style=\"font-size:16px\">Hyperparameters:</h2></span>"
            ],
            "text/plain": [
              "<IPython.core.display.HTML object>"
            ]
          },
          "metadata": {
            "tags": []
          }
        },
        {
          "output_type": "display_data",
          "data": {
            "text/html": [
              "<span style=\"color:cyan\"> |-Conv Layers: 2</span>"
            ],
            "text/plain": [
              "<IPython.core.display.HTML object>"
            ]
          },
          "metadata": {
            "tags": []
          }
        },
        {
          "output_type": "display_data",
          "data": {
            "text/html": [
              "<span style=\"color:blue\"> |-Dense layer: 64</span>"
            ],
            "text/plain": [
              "<IPython.core.display.HTML object>"
            ]
          },
          "metadata": {
            "tags": []
          }
        },
        {
          "output_type": "display_data",
          "data": {
            "text/html": [
              "<span style=\"color:cyan\"> |-layer_0_filters: 32</span>"
            ],
            "text/plain": [
              "<IPython.core.display.HTML object>"
            ]
          },
          "metadata": {
            "tags": []
          }
        },
        {
          "output_type": "display_data",
          "data": {
            "text/html": [
              "<span style=\"color:blue\"> |-layer_1_filters: 32</span>"
            ],
            "text/plain": [
              "<IPython.core.display.HTML object>"
            ]
          },
          "metadata": {
            "tags": []
          }
        },
        {
          "output_type": "display_data",
          "data": {
            "text/html": [
              "<span style=\"color:cyan\"> |-layer_2_filters: 16</span>"
            ],
            "text/plain": [
              "<IPython.core.display.HTML object>"
            ]
          },
          "metadata": {
            "tags": []
          }
        },
        {
          "output_type": "stream",
          "text": [
            "Epoch 1/10\n",
            "79/79 [==============================] - 3s 35ms/step - loss: 0.9167 - accuracy: 0.7218 - val_loss: 0.8540 - val_accuracy: 0.5995\n",
            "Epoch 2/10\n",
            "79/79 [==============================] - 3s 36ms/step - loss: 0.0781 - accuracy: 0.9853 - val_loss: 1.0166 - val_accuracy: 0.6801\n",
            "Epoch 3/10\n",
            "79/79 [==============================] - 1s 18ms/step - loss: 0.0225 - accuracy: 0.9933 - val_loss: 1.0723 - val_accuracy: 0.6505\n",
            "Epoch 4/10\n",
            "79/79 [==============================] - 4s 56ms/step - loss: 0.0067 - accuracy: 0.9992 - val_loss: 1.0890 - val_accuracy: 0.7016\n",
            "Epoch 5/10\n",
            "79/79 [==============================] - 1s 18ms/step - loss: 0.0023 - accuracy: 1.0000 - val_loss: 1.3883 - val_accuracy: 0.6801\n",
            "Epoch 6/10\n",
            "79/79 [==============================] - 1s 18ms/step - loss: 0.0171 - accuracy: 0.9940 - val_loss: 1.0918 - val_accuracy: 0.6909\n",
            "Epoch 7/10\n",
            "79/79 [==============================] - 1s 18ms/step - loss: 0.0145 - accuracy: 0.9956 - val_loss: 1.2450 - val_accuracy: 0.6425\n",
            "Epoch 8/10\n",
            "79/79 [==============================] - 3s 43ms/step - loss: 0.0039 - accuracy: 0.9992 - val_loss: 1.0338 - val_accuracy: 0.7204\n",
            "Epoch 9/10\n",
            "79/79 [==============================] - 1s 17ms/step - loss: 0.0050 - accuracy: 0.9988 - val_loss: 1.2564 - val_accuracy: 0.6828\n",
            "Epoch 10/10\n",
            "79/79 [==============================] - 1s 18ms/step - loss: 0.0559 - accuracy: 0.9821 - val_loss: 2.2165 - val_accuracy: 0.4919\n"
          ],
          "name": "stdout"
        },
        {
          "output_type": "display_data",
          "data": {
            "text/html": [
              "<span style=\"color:#4527A0\"><h1 style=\"font-size:18px\">Trial complete</h1></span>"
            ],
            "text/plain": [
              "<IPython.core.display.HTML object>"
            ]
          },
          "metadata": {
            "tags": []
          }
        },
        {
          "output_type": "display_data",
          "data": {
            "text/html": [
              "<span style=\"color:#4527A0\"><h1 style=\"font-size:18px\">Trial summary</h1></span>"
            ],
            "text/plain": [
              "<IPython.core.display.HTML object>"
            ]
          },
          "metadata": {
            "tags": []
          }
        },
        {
          "output_type": "display_data",
          "data": {
            "text/html": [
              "<span style=\"color:cyan\"> |-Trial ID: 74bc90978dd41cc46b5bf9bd6ddc8f20</span>"
            ],
            "text/plain": [
              "<IPython.core.display.HTML object>"
            ]
          },
          "metadata": {
            "tags": []
          }
        },
        {
          "output_type": "display_data",
          "data": {
            "text/html": [
              "<span style=\"color:cyan\"> |-Score: 0.7204301357269287</span>"
            ],
            "text/plain": [
              "<IPython.core.display.HTML object>"
            ]
          },
          "metadata": {
            "tags": []
          }
        },
        {
          "output_type": "display_data",
          "data": {
            "text/html": [
              "<span style=\"color:cyan\"> |-Best step: 0</span>"
            ],
            "text/plain": [
              "<IPython.core.display.HTML object>"
            ]
          },
          "metadata": {
            "tags": []
          }
        },
        {
          "output_type": "display_data",
          "data": {
            "text/html": [
              "<span style=\"color:#7E57C2\"><h2 style=\"font-size:16px\">Hyperparameters:</h2></span>"
            ],
            "text/plain": [
              "<IPython.core.display.HTML object>"
            ]
          },
          "metadata": {
            "tags": []
          }
        },
        {
          "output_type": "display_data",
          "data": {
            "text/html": [
              "<span style=\"color:cyan\"> |-Conv Layers: 2</span>"
            ],
            "text/plain": [
              "<IPython.core.display.HTML object>"
            ]
          },
          "metadata": {
            "tags": []
          }
        },
        {
          "output_type": "display_data",
          "data": {
            "text/html": [
              "<span style=\"color:blue\"> |-Dense layer: 1024</span>"
            ],
            "text/plain": [
              "<IPython.core.display.HTML object>"
            ]
          },
          "metadata": {
            "tags": []
          }
        },
        {
          "output_type": "display_data",
          "data": {
            "text/html": [
              "<span style=\"color:cyan\"> |-layer_0_filters: 16</span>"
            ],
            "text/plain": [
              "<IPython.core.display.HTML object>"
            ]
          },
          "metadata": {
            "tags": []
          }
        },
        {
          "output_type": "display_data",
          "data": {
            "text/html": [
              "<span style=\"color:blue\"> |-layer_1_filters: 16</span>"
            ],
            "text/plain": [
              "<IPython.core.display.HTML object>"
            ]
          },
          "metadata": {
            "tags": []
          }
        },
        {
          "output_type": "display_data",
          "data": {
            "text/html": [
              "<span style=\"color:cyan\"> |-layer_2_filters: 64</span>"
            ],
            "text/plain": [
              "<IPython.core.display.HTML object>"
            ]
          },
          "metadata": {
            "tags": []
          }
        },
        {
          "output_type": "stream",
          "text": [
            "Epoch 1/10\n",
            "79/79 [==============================] - 8s 95ms/step - loss: 2.5992 - accuracy: 0.3405 - val_loss: 1.0986 - val_accuracy: 0.3333\n",
            "Epoch 2/10\n",
            "79/79 [==============================] - 1s 17ms/step - loss: 1.0987 - accuracy: 0.3333 - val_loss: 1.0986 - val_accuracy: 0.3333\n",
            "Epoch 3/10\n",
            "79/79 [==============================] - 1s 18ms/step - loss: 1.0987 - accuracy: 0.3329 - val_loss: 1.0986 - val_accuracy: 0.3333\n",
            "Epoch 4/10\n",
            "79/79 [==============================] - 1s 18ms/step - loss: 1.0987 - accuracy: 0.3333 - val_loss: 1.0986 - val_accuracy: 0.3333\n",
            "Epoch 5/10\n",
            "79/79 [==============================] - 1s 17ms/step - loss: 1.0987 - accuracy: 0.3333 - val_loss: 1.0986 - val_accuracy: 0.3333\n",
            "Epoch 6/10\n",
            "79/79 [==============================] - 1s 17ms/step - loss: 1.0987 - accuracy: 0.3286 - val_loss: 1.0986 - val_accuracy: 0.3333\n",
            "Epoch 7/10\n",
            "79/79 [==============================] - 1s 17ms/step - loss: 1.0987 - accuracy: 0.3325 - val_loss: 1.0986 - val_accuracy: 0.3333\n",
            "Epoch 8/10\n",
            "79/79 [==============================] - 1s 18ms/step - loss: 1.0988 - accuracy: 0.3246 - val_loss: 1.0986 - val_accuracy: 0.3333\n",
            "Epoch 9/10\n",
            "79/79 [==============================] - 1s 17ms/step - loss: 1.0987 - accuracy: 0.3341 - val_loss: 1.0986 - val_accuracy: 0.3333\n",
            "Epoch 10/10\n",
            "79/79 [==============================] - 1s 17ms/step - loss: 1.0987 - accuracy: 0.3242 - val_loss: 1.0986 - val_accuracy: 0.3333\n"
          ],
          "name": "stdout"
        },
        {
          "output_type": "display_data",
          "data": {
            "text/html": [
              "<span style=\"color:#4527A0\"><h1 style=\"font-size:18px\">Trial complete</h1></span>"
            ],
            "text/plain": [
              "<IPython.core.display.HTML object>"
            ]
          },
          "metadata": {
            "tags": []
          }
        },
        {
          "output_type": "display_data",
          "data": {
            "text/html": [
              "<span style=\"color:#4527A0\"><h1 style=\"font-size:18px\">Trial summary</h1></span>"
            ],
            "text/plain": [
              "<IPython.core.display.HTML object>"
            ]
          },
          "metadata": {
            "tags": []
          }
        },
        {
          "output_type": "display_data",
          "data": {
            "text/html": [
              "<span style=\"color:cyan\"> |-Trial ID: b21600b1bc565209492a0d49732e49bf</span>"
            ],
            "text/plain": [
              "<IPython.core.display.HTML object>"
            ]
          },
          "metadata": {
            "tags": []
          }
        },
        {
          "output_type": "display_data",
          "data": {
            "text/html": [
              "<span style=\"color:cyan\"> |-Score: 0.3333333432674408</span>"
            ],
            "text/plain": [
              "<IPython.core.display.HTML object>"
            ]
          },
          "metadata": {
            "tags": []
          }
        },
        {
          "output_type": "display_data",
          "data": {
            "text/html": [
              "<span style=\"color:cyan\"> |-Best step: 0</span>"
            ],
            "text/plain": [
              "<IPython.core.display.HTML object>"
            ]
          },
          "metadata": {
            "tags": []
          }
        },
        {
          "output_type": "display_data",
          "data": {
            "text/html": [
              "<span style=\"color:#7E57C2\"><h2 style=\"font-size:16px\">Hyperparameters:</h2></span>"
            ],
            "text/plain": [
              "<IPython.core.display.HTML object>"
            ]
          },
          "metadata": {
            "tags": []
          }
        },
        {
          "output_type": "display_data",
          "data": {
            "text/html": [
              "<span style=\"color:cyan\"> |-Conv Layers: 1</span>"
            ],
            "text/plain": [
              "<IPython.core.display.HTML object>"
            ]
          },
          "metadata": {
            "tags": []
          }
        },
        {
          "output_type": "display_data",
          "data": {
            "text/html": [
              "<span style=\"color:blue\"> |-Dense layer: 256</span>"
            ],
            "text/plain": [
              "<IPython.core.display.HTML object>"
            ]
          },
          "metadata": {
            "tags": []
          }
        },
        {
          "output_type": "display_data",
          "data": {
            "text/html": [
              "<span style=\"color:cyan\"> |-layer_0_filters: 64</span>"
            ],
            "text/plain": [
              "<IPython.core.display.HTML object>"
            ]
          },
          "metadata": {
            "tags": []
          }
        },
        {
          "output_type": "display_data",
          "data": {
            "text/html": [
              "<span style=\"color:blue\"> |-layer_1_filters: 16</span>"
            ],
            "text/plain": [
              "<IPython.core.display.HTML object>"
            ]
          },
          "metadata": {
            "tags": []
          }
        },
        {
          "output_type": "display_data",
          "data": {
            "text/html": [
              "<span style=\"color:cyan\"> |-layer_2_filters: 32</span>"
            ],
            "text/plain": [
              "<IPython.core.display.HTML object>"
            ]
          },
          "metadata": {
            "tags": []
          }
        },
        {
          "output_type": "stream",
          "text": [
            "Epoch 1/10\n",
            "79/79 [==============================] - 2s 27ms/step - loss: 0.7001 - accuracy: 0.7337 - val_loss: 1.0189 - val_accuracy: 0.6774\n",
            "Epoch 2/10\n",
            "79/79 [==============================] - 2s 26ms/step - loss: 0.0913 - accuracy: 0.9758 - val_loss: 1.0450 - val_accuracy: 0.7419\n",
            "Epoch 3/10\n",
            "79/79 [==============================] - 2s 21ms/step - loss: 0.0180 - accuracy: 0.9956 - val_loss: 1.3554 - val_accuracy: 0.7124\n",
            "Epoch 4/10\n",
            "79/79 [==============================] - 2s 20ms/step - loss: 0.0212 - accuracy: 0.9956 - val_loss: 1.2484 - val_accuracy: 0.7097\n",
            "Epoch 5/10\n",
            "79/79 [==============================] - 2s 21ms/step - loss: 0.0080 - accuracy: 0.9984 - val_loss: 1.8150 - val_accuracy: 0.6828\n",
            "Epoch 6/10\n",
            "79/79 [==============================] - 2s 20ms/step - loss: 0.0320 - accuracy: 0.9909 - val_loss: 1.0025 - val_accuracy: 0.6478\n",
            "Epoch 7/10\n",
            "79/79 [==============================] - 2s 20ms/step - loss: 0.0227 - accuracy: 0.9933 - val_loss: 1.2009 - val_accuracy: 0.6828\n",
            "Epoch 8/10\n",
            "79/79 [==============================] - 2s 20ms/step - loss: 0.0405 - accuracy: 0.9913 - val_loss: 2.0584 - val_accuracy: 0.7070\n",
            "Epoch 9/10\n",
            "79/79 [==============================] - 2s 20ms/step - loss: 0.0400 - accuracy: 0.9909 - val_loss: 2.0451 - val_accuracy: 0.6586\n",
            "Epoch 10/10\n",
            "79/79 [==============================] - 2s 20ms/step - loss: 0.0147 - accuracy: 0.9956 - val_loss: 2.9069 - val_accuracy: 0.6452\n"
          ],
          "name": "stdout"
        },
        {
          "output_type": "display_data",
          "data": {
            "text/html": [
              "<span style=\"color:#4527A0\"><h1 style=\"font-size:18px\">Trial complete</h1></span>"
            ],
            "text/plain": [
              "<IPython.core.display.HTML object>"
            ]
          },
          "metadata": {
            "tags": []
          }
        },
        {
          "output_type": "display_data",
          "data": {
            "text/html": [
              "<span style=\"color:#4527A0\"><h1 style=\"font-size:18px\">Trial summary</h1></span>"
            ],
            "text/plain": [
              "<IPython.core.display.HTML object>"
            ]
          },
          "metadata": {
            "tags": []
          }
        },
        {
          "output_type": "display_data",
          "data": {
            "text/html": [
              "<span style=\"color:cyan\"> |-Trial ID: 036250601e4aa52d1f45f0e55525ac82</span>"
            ],
            "text/plain": [
              "<IPython.core.display.HTML object>"
            ]
          },
          "metadata": {
            "tags": []
          }
        },
        {
          "output_type": "display_data",
          "data": {
            "text/html": [
              "<span style=\"color:cyan\"> |-Score: 0.7419354915618896</span>"
            ],
            "text/plain": [
              "<IPython.core.display.HTML object>"
            ]
          },
          "metadata": {
            "tags": []
          }
        },
        {
          "output_type": "display_data",
          "data": {
            "text/html": [
              "<span style=\"color:cyan\"> |-Best step: 0</span>"
            ],
            "text/plain": [
              "<IPython.core.display.HTML object>"
            ]
          },
          "metadata": {
            "tags": []
          }
        },
        {
          "output_type": "display_data",
          "data": {
            "text/html": [
              "<span style=\"color:#7E57C2\"><h2 style=\"font-size:16px\">Hyperparameters:</h2></span>"
            ],
            "text/plain": [
              "<IPython.core.display.HTML object>"
            ]
          },
          "metadata": {
            "tags": []
          }
        },
        {
          "output_type": "display_data",
          "data": {
            "text/html": [
              "<span style=\"color:cyan\"> |-Conv Layers: 3</span>"
            ],
            "text/plain": [
              "<IPython.core.display.HTML object>"
            ]
          },
          "metadata": {
            "tags": []
          }
        },
        {
          "output_type": "display_data",
          "data": {
            "text/html": [
              "<span style=\"color:blue\"> |-Dense layer: 512</span>"
            ],
            "text/plain": [
              "<IPython.core.display.HTML object>"
            ]
          },
          "metadata": {
            "tags": []
          }
        },
        {
          "output_type": "display_data",
          "data": {
            "text/html": [
              "<span style=\"color:cyan\"> |-layer_0_filters: 32</span>"
            ],
            "text/plain": [
              "<IPython.core.display.HTML object>"
            ]
          },
          "metadata": {
            "tags": []
          }
        },
        {
          "output_type": "display_data",
          "data": {
            "text/html": [
              "<span style=\"color:blue\"> |-layer_1_filters: 32</span>"
            ],
            "text/plain": [
              "<IPython.core.display.HTML object>"
            ]
          },
          "metadata": {
            "tags": []
          }
        },
        {
          "output_type": "display_data",
          "data": {
            "text/html": [
              "<span style=\"color:cyan\"> |-layer_2_filters: 16</span>"
            ],
            "text/plain": [
              "<IPython.core.display.HTML object>"
            ]
          },
          "metadata": {
            "tags": []
          }
        },
        {
          "output_type": "stream",
          "text": [
            "Epoch 1/10\n",
            "79/79 [==============================] - 1s 18ms/step - loss: 1.3044 - accuracy: 0.6052 - val_loss: 1.0347 - val_accuracy: 0.4274\n",
            "Epoch 2/10\n",
            "79/79 [==============================] - 2s 19ms/step - loss: 0.4136 - accuracy: 0.9036 - val_loss: 0.7959 - val_accuracy: 0.5995\n",
            "Epoch 3/10\n",
            "79/79 [==============================] - 2s 21ms/step - loss: 0.1880 - accuracy: 0.9758 - val_loss: 0.7710 - val_accuracy: 0.6156\n",
            "Epoch 4/10\n",
            "79/79 [==============================] - 1s 18ms/step - loss: 0.1025 - accuracy: 0.9833 - val_loss: 0.7083 - val_accuracy: 0.6855\n",
            "Epoch 5/10\n",
            "79/79 [==============================] - 2s 19ms/step - loss: 0.0564 - accuracy: 0.9909 - val_loss: 0.6995 - val_accuracy: 0.7339\n",
            "Epoch 6/10\n",
            "79/79 [==============================] - 1s 18ms/step - loss: 0.0345 - accuracy: 0.9952 - val_loss: 0.6802 - val_accuracy: 0.7608\n",
            "Epoch 7/10\n",
            "79/79 [==============================] - 1s 16ms/step - loss: 0.0235 - accuracy: 0.9976 - val_loss: 0.7316 - val_accuracy: 0.7177\n",
            "Epoch 8/10\n",
            "79/79 [==============================] - 1s 15ms/step - loss: 0.0168 - accuracy: 0.9992 - val_loss: 0.7903 - val_accuracy: 0.7016\n",
            "Epoch 9/10\n",
            "79/79 [==============================] - 1s 15ms/step - loss: 0.0137 - accuracy: 0.9984 - val_loss: 0.8101 - val_accuracy: 0.7339\n",
            "Epoch 10/10\n",
            "79/79 [==============================] - 1s 15ms/step - loss: 0.0103 - accuracy: 0.9996 - val_loss: 0.8180 - val_accuracy: 0.7258\n"
          ],
          "name": "stdout"
        },
        {
          "output_type": "display_data",
          "data": {
            "text/html": [
              "<span style=\"color:#4527A0\"><h1 style=\"font-size:18px\">Trial complete</h1></span>"
            ],
            "text/plain": [
              "<IPython.core.display.HTML object>"
            ]
          },
          "metadata": {
            "tags": []
          }
        },
        {
          "output_type": "display_data",
          "data": {
            "text/html": [
              "<span style=\"color:#4527A0\"><h1 style=\"font-size:18px\">Trial summary</h1></span>"
            ],
            "text/plain": [
              "<IPython.core.display.HTML object>"
            ]
          },
          "metadata": {
            "tags": []
          }
        },
        {
          "output_type": "display_data",
          "data": {
            "text/html": [
              "<span style=\"color:cyan\"> |-Trial ID: 2e24cc498e5f88905210bf8705fe7be8</span>"
            ],
            "text/plain": [
              "<IPython.core.display.HTML object>"
            ]
          },
          "metadata": {
            "tags": []
          }
        },
        {
          "output_type": "display_data",
          "data": {
            "text/html": [
              "<span style=\"color:cyan\"> |-Score: 0.7607526779174805</span>"
            ],
            "text/plain": [
              "<IPython.core.display.HTML object>"
            ]
          },
          "metadata": {
            "tags": []
          }
        },
        {
          "output_type": "display_data",
          "data": {
            "text/html": [
              "<span style=\"color:cyan\"> |-Best step: 0</span>"
            ],
            "text/plain": [
              "<IPython.core.display.HTML object>"
            ]
          },
          "metadata": {
            "tags": []
          }
        },
        {
          "output_type": "display_data",
          "data": {
            "text/html": [
              "<span style=\"color:#7E57C2\"><h2 style=\"font-size:16px\">Hyperparameters:</h2></span>"
            ],
            "text/plain": [
              "<IPython.core.display.HTML object>"
            ]
          },
          "metadata": {
            "tags": []
          }
        },
        {
          "output_type": "display_data",
          "data": {
            "text/html": [
              "<span style=\"color:cyan\"> |-Conv Layers: 1</span>"
            ],
            "text/plain": [
              "<IPython.core.display.HTML object>"
            ]
          },
          "metadata": {
            "tags": []
          }
        },
        {
          "output_type": "display_data",
          "data": {
            "text/html": [
              "<span style=\"color:blue\"> |-Dense layer: 64</span>"
            ],
            "text/plain": [
              "<IPython.core.display.HTML object>"
            ]
          },
          "metadata": {
            "tags": []
          }
        },
        {
          "output_type": "display_data",
          "data": {
            "text/html": [
              "<span style=\"color:cyan\"> |-layer_0_filters: 64</span>"
            ],
            "text/plain": [
              "<IPython.core.display.HTML object>"
            ]
          },
          "metadata": {
            "tags": []
          }
        },
        {
          "output_type": "display_data",
          "data": {
            "text/html": [
              "<span style=\"color:blue\"> |-layer_1_filters: 64</span>"
            ],
            "text/plain": [
              "<IPython.core.display.HTML object>"
            ]
          },
          "metadata": {
            "tags": []
          }
        },
        {
          "output_type": "display_data",
          "data": {
            "text/html": [
              "<span style=\"color:cyan\"> |-layer_2_filters: 64</span>"
            ],
            "text/plain": [
              "<IPython.core.display.HTML object>"
            ]
          },
          "metadata": {
            "tags": []
          }
        },
        {
          "output_type": "stream",
          "text": [
            "Epoch 1/10\n",
            "79/79 [==============================] - 1s 19ms/step - loss: 1.0587 - accuracy: 0.5698 - val_loss: 0.9034 - val_accuracy: 0.6290\n",
            "Epoch 2/10\n",
            "79/79 [==============================] - 1s 18ms/step - loss: 0.3613 - accuracy: 0.8944 - val_loss: 1.0061 - val_accuracy: 0.6398\n",
            "Epoch 3/10\n",
            "79/79 [==============================] - 1s 18ms/step - loss: 0.1538 - accuracy: 0.9607 - val_loss: 0.9907 - val_accuracy: 0.5457\n",
            "Epoch 4/10\n",
            "79/79 [==============================] - 1s 17ms/step - loss: 0.1252 - accuracy: 0.9619 - val_loss: 1.3606 - val_accuracy: 0.5941\n",
            "Epoch 5/10\n",
            "79/79 [==============================] - 1s 17ms/step - loss: 0.0720 - accuracy: 0.9766 - val_loss: 1.6994 - val_accuracy: 0.6129\n",
            "Epoch 6/10\n",
            "79/79 [==============================] - 1s 18ms/step - loss: 0.0399 - accuracy: 0.9889 - val_loss: 1.8444 - val_accuracy: 0.5995\n",
            "Epoch 7/10\n",
            "79/79 [==============================] - 1s 17ms/step - loss: 0.0343 - accuracy: 0.9921 - val_loss: 2.1895 - val_accuracy: 0.5860\n",
            "Epoch 8/10\n",
            "79/79 [==============================] - 1s 17ms/step - loss: 0.0279 - accuracy: 0.9937 - val_loss: 1.6804 - val_accuracy: 0.6129\n",
            "Epoch 9/10\n",
            "79/79 [==============================] - 1s 17ms/step - loss: 0.0159 - accuracy: 0.9980 - val_loss: 1.6115 - val_accuracy: 0.5806\n",
            "Epoch 10/10\n",
            "79/79 [==============================] - 1s 17ms/step - loss: 0.0166 - accuracy: 0.9956 - val_loss: 1.7561 - val_accuracy: 0.6452\n"
          ],
          "name": "stdout"
        },
        {
          "output_type": "display_data",
          "data": {
            "text/html": [
              "<span style=\"color:#4527A0\"><h1 style=\"font-size:18px\">Trial complete</h1></span>"
            ],
            "text/plain": [
              "<IPython.core.display.HTML object>"
            ]
          },
          "metadata": {
            "tags": []
          }
        },
        {
          "output_type": "display_data",
          "data": {
            "text/html": [
              "<span style=\"color:#4527A0\"><h1 style=\"font-size:18px\">Trial summary</h1></span>"
            ],
            "text/plain": [
              "<IPython.core.display.HTML object>"
            ]
          },
          "metadata": {
            "tags": []
          }
        },
        {
          "output_type": "display_data",
          "data": {
            "text/html": [
              "<span style=\"color:cyan\"> |-Trial ID: f6bc9e668ef8d6949e191cfc503d111d</span>"
            ],
            "text/plain": [
              "<IPython.core.display.HTML object>"
            ]
          },
          "metadata": {
            "tags": []
          }
        },
        {
          "output_type": "display_data",
          "data": {
            "text/html": [
              "<span style=\"color:cyan\"> |-Score: 0.6451612710952759</span>"
            ],
            "text/plain": [
              "<IPython.core.display.HTML object>"
            ]
          },
          "metadata": {
            "tags": []
          }
        },
        {
          "output_type": "display_data",
          "data": {
            "text/html": [
              "<span style=\"color:cyan\"> |-Best step: 0</span>"
            ],
            "text/plain": [
              "<IPython.core.display.HTML object>"
            ]
          },
          "metadata": {
            "tags": []
          }
        },
        {
          "output_type": "display_data",
          "data": {
            "text/html": [
              "<span style=\"color:#7E57C2\"><h2 style=\"font-size:16px\">Hyperparameters:</h2></span>"
            ],
            "text/plain": [
              "<IPython.core.display.HTML object>"
            ]
          },
          "metadata": {
            "tags": []
          }
        },
        {
          "output_type": "display_data",
          "data": {
            "text/html": [
              "<span style=\"color:cyan\"> |-Conv Layers: 2</span>"
            ],
            "text/plain": [
              "<IPython.core.display.HTML object>"
            ]
          },
          "metadata": {
            "tags": []
          }
        },
        {
          "output_type": "display_data",
          "data": {
            "text/html": [
              "<span style=\"color:blue\"> |-Dense layer: 64</span>"
            ],
            "text/plain": [
              "<IPython.core.display.HTML object>"
            ]
          },
          "metadata": {
            "tags": []
          }
        },
        {
          "output_type": "display_data",
          "data": {
            "text/html": [
              "<span style=\"color:cyan\"> |-layer_0_filters: 64</span>"
            ],
            "text/plain": [
              "<IPython.core.display.HTML object>"
            ]
          },
          "metadata": {
            "tags": []
          }
        },
        {
          "output_type": "display_data",
          "data": {
            "text/html": [
              "<span style=\"color:blue\"> |-layer_1_filters: 16</span>"
            ],
            "text/plain": [
              "<IPython.core.display.HTML object>"
            ]
          },
          "metadata": {
            "tags": []
          }
        },
        {
          "output_type": "display_data",
          "data": {
            "text/html": [
              "<span style=\"color:cyan\"> |-layer_2_filters: 32</span>"
            ],
            "text/plain": [
              "<IPython.core.display.HTML object>"
            ]
          },
          "metadata": {
            "tags": []
          }
        },
        {
          "output_type": "stream",
          "text": [
            "INFO:tensorflow:Oracle triggered exit\n"
          ],
          "name": "stdout"
        },
        {
          "output_type": "stream",
          "text": [
            "INFO:tensorflow:Oracle triggered exit\n"
          ],
          "name": "stderr"
        }
      ]
    },
    {
      "cell_type": "code",
      "metadata": {
        "id": "lru9LDoGD6tR",
        "colab_type": "code",
        "colab": {}
      },
      "source": [
        "best_model = tuner.get_best_models()[0]\n"
      ],
      "execution_count": null,
      "outputs": []
    },
    {
      "cell_type": "code",
      "metadata": {
        "id": "qj14uWOkFIE6",
        "colab_type": "code",
        "colab": {
          "base_uri": "https://localhost:8080/",
          "height": 51
        },
        "outputId": "b74c7be5-12a7-49ec-f076-4643379a0e94"
      },
      "source": [
        "best_model.evaluate(test_images,test_labels)"
      ],
      "execution_count": null,
      "outputs": [
        {
          "output_type": "stream",
          "text": [
            "12/12 [==============================] - 0s 8ms/step - loss: 0.8438 - accuracy: 0.8065\n"
          ],
          "name": "stdout"
        },
        {
          "output_type": "execute_result",
          "data": {
            "text/plain": [
              "[0.8437741994857788, 0.8064516186714172]"
            ]
          },
          "metadata": {
            "tags": []
          },
          "execution_count": 71
        }
      ]
    },
    {
      "cell_type": "code",
      "metadata": {
        "id": "3NsXSoQKFSc9",
        "colab_type": "code",
        "colab": {
          "base_uri": "https://localhost:8080/",
          "height": 425
        },
        "outputId": "477093e2-1185-4e9d-8916-ec37f102c609"
      },
      "source": [
        "best_model.summary()"
      ],
      "execution_count": null,
      "outputs": [
        {
          "output_type": "stream",
          "text": [
            "Model: \"sequential\"\n",
            "_________________________________________________________________\n",
            "Layer (type)                 Output Shape              Param #   \n",
            "=================================================================\n",
            "average_pooling2d (AveragePo (None, 99, 99, 1)         0         \n",
            "_________________________________________________________________\n",
            "conv2d (Conv2D)              (None, 97, 97, 32)        320       \n",
            "_________________________________________________________________\n",
            "conv2d_1 (Conv2D)            (None, 95, 95, 16)        4624      \n",
            "_________________________________________________________________\n",
            "max_pooling2d (MaxPooling2D) (None, 47, 47, 16)        0         \n",
            "_________________________________________________________________\n",
            "dropout (Dropout)            (None, 47, 47, 16)        0         \n",
            "_________________________________________________________________\n",
            "flatten (Flatten)            (None, 35344)             0         \n",
            "_________________________________________________________________\n",
            "dense (Dense)                (None, 512)               18096640  \n",
            "_________________________________________________________________\n",
            "dense_1 (Dense)              (None, 3)                 1539      \n",
            "=================================================================\n",
            "Total params: 18,103,123\n",
            "Trainable params: 18,103,123\n",
            "Non-trainable params: 0\n",
            "_________________________________________________________________\n"
          ],
          "name": "stdout"
        }
      ]
    },
    {
      "cell_type": "code",
      "metadata": {
        "id": "XXkP-Ih7Fk9T",
        "colab_type": "code",
        "colab": {
          "base_uri": "https://localhost:8080/",
          "height": 1000
        },
        "outputId": "f8ec651f-4f65-4d20-b140-1a7961891a0b"
      },
      "source": [
        "tuner.results_summary()"
      ],
      "execution_count": null,
      "outputs": [
        {
          "output_type": "display_data",
          "data": {
            "text/html": [
              "<span style=\"color:#4527A0\"><h1 style=\"font-size:18px\">Results summary</h1></span>"
            ],
            "text/plain": [
              "<IPython.core.display.HTML object>"
            ]
          },
          "metadata": {
            "tags": []
          }
        },
        {
          "output_type": "display_data",
          "data": {
            "text/html": [
              "<span style=\"color:cyan\"> |-Results in ./new_directory/untitled_project</span>"
            ],
            "text/plain": [
              "<IPython.core.display.HTML object>"
            ]
          },
          "metadata": {
            "tags": []
          }
        },
        {
          "output_type": "display_data",
          "data": {
            "text/html": [
              "<span style=\"color:cyan\"> |-Showing 10 best trials</span>"
            ],
            "text/plain": [
              "<IPython.core.display.HTML object>"
            ]
          },
          "metadata": {
            "tags": []
          }
        },
        {
          "output_type": "display_data",
          "data": {
            "text/html": [
              "<span style=\"color:cyan\"> |-Objective(name='val_accuracy', direction='max')</span>"
            ],
            "text/plain": [
              "<IPython.core.display.HTML object>"
            ]
          },
          "metadata": {
            "tags": []
          }
        },
        {
          "output_type": "display_data",
          "data": {
            "text/html": [
              "<span style=\"color:#4527A0\"><h1 style=\"font-size:18px\">Trial summary</h1></span>"
            ],
            "text/plain": [
              "<IPython.core.display.HTML object>"
            ]
          },
          "metadata": {
            "tags": []
          }
        },
        {
          "output_type": "display_data",
          "data": {
            "text/html": [
              "<span style=\"color:cyan\"> |-Trial ID: f87d926371f27877a806d3a2ee9795ff</span>"
            ],
            "text/plain": [
              "<IPython.core.display.HTML object>"
            ]
          },
          "metadata": {
            "tags": []
          }
        },
        {
          "output_type": "display_data",
          "data": {
            "text/html": [
              "<span style=\"color:cyan\"> |-Score: 0.8064516186714172</span>"
            ],
            "text/plain": [
              "<IPython.core.display.HTML object>"
            ]
          },
          "metadata": {
            "tags": []
          }
        },
        {
          "output_type": "display_data",
          "data": {
            "text/html": [
              "<span style=\"color:cyan\"> |-Best step: 0</span>"
            ],
            "text/plain": [
              "<IPython.core.display.HTML object>"
            ]
          },
          "metadata": {
            "tags": []
          }
        },
        {
          "output_type": "display_data",
          "data": {
            "text/html": [
              "<span style=\"color:#7E57C2\"><h2 style=\"font-size:16px\">Hyperparameters:</h2></span>"
            ],
            "text/plain": [
              "<IPython.core.display.HTML object>"
            ]
          },
          "metadata": {
            "tags": []
          }
        },
        {
          "output_type": "display_data",
          "data": {
            "text/html": [
              "<span style=\"color:cyan\"> |-Conv Layers: 2</span>"
            ],
            "text/plain": [
              "<IPython.core.display.HTML object>"
            ]
          },
          "metadata": {
            "tags": []
          }
        },
        {
          "output_type": "display_data",
          "data": {
            "text/html": [
              "<span style=\"color:blue\"> |-Dense layer: 512</span>"
            ],
            "text/plain": [
              "<IPython.core.display.HTML object>"
            ]
          },
          "metadata": {
            "tags": []
          }
        },
        {
          "output_type": "display_data",
          "data": {
            "text/html": [
              "<span style=\"color:cyan\"> |-layer_0_filters: 32</span>"
            ],
            "text/plain": [
              "<IPython.core.display.HTML object>"
            ]
          },
          "metadata": {
            "tags": []
          }
        },
        {
          "output_type": "display_data",
          "data": {
            "text/html": [
              "<span style=\"color:blue\"> |-layer_1_filters: 16</span>"
            ],
            "text/plain": [
              "<IPython.core.display.HTML object>"
            ]
          },
          "metadata": {
            "tags": []
          }
        },
        {
          "output_type": "display_data",
          "data": {
            "text/html": [
              "<span style=\"color:#4527A0\"><h1 style=\"font-size:18px\">Trial summary</h1></span>"
            ],
            "text/plain": [
              "<IPython.core.display.HTML object>"
            ]
          },
          "metadata": {
            "tags": []
          }
        },
        {
          "output_type": "display_data",
          "data": {
            "text/html": [
              "<span style=\"color:cyan\"> |-Trial ID: a135582c29e794f5c49fba62a5643d1d</span>"
            ],
            "text/plain": [
              "<IPython.core.display.HTML object>"
            ]
          },
          "metadata": {
            "tags": []
          }
        },
        {
          "output_type": "display_data",
          "data": {
            "text/html": [
              "<span style=\"color:cyan\"> |-Score: 0.7768816947937012</span>"
            ],
            "text/plain": [
              "<IPython.core.display.HTML object>"
            ]
          },
          "metadata": {
            "tags": []
          }
        },
        {
          "output_type": "display_data",
          "data": {
            "text/html": [
              "<span style=\"color:cyan\"> |-Best step: 0</span>"
            ],
            "text/plain": [
              "<IPython.core.display.HTML object>"
            ]
          },
          "metadata": {
            "tags": []
          }
        },
        {
          "output_type": "display_data",
          "data": {
            "text/html": [
              "<span style=\"color:#7E57C2\"><h2 style=\"font-size:16px\">Hyperparameters:</h2></span>"
            ],
            "text/plain": [
              "<IPython.core.display.HTML object>"
            ]
          },
          "metadata": {
            "tags": []
          }
        },
        {
          "output_type": "display_data",
          "data": {
            "text/html": [
              "<span style=\"color:cyan\"> |-Conv Layers: 3</span>"
            ],
            "text/plain": [
              "<IPython.core.display.HTML object>"
            ]
          },
          "metadata": {
            "tags": []
          }
        },
        {
          "output_type": "display_data",
          "data": {
            "text/html": [
              "<span style=\"color:blue\"> |-Dense layer: 256</span>"
            ],
            "text/plain": [
              "<IPython.core.display.HTML object>"
            ]
          },
          "metadata": {
            "tags": []
          }
        },
        {
          "output_type": "display_data",
          "data": {
            "text/html": [
              "<span style=\"color:cyan\"> |-layer_0_filters: 64</span>"
            ],
            "text/plain": [
              "<IPython.core.display.HTML object>"
            ]
          },
          "metadata": {
            "tags": []
          }
        },
        {
          "output_type": "display_data",
          "data": {
            "text/html": [
              "<span style=\"color:blue\"> |-layer_1_filters: 64</span>"
            ],
            "text/plain": [
              "<IPython.core.display.HTML object>"
            ]
          },
          "metadata": {
            "tags": []
          }
        },
        {
          "output_type": "display_data",
          "data": {
            "text/html": [
              "<span style=\"color:cyan\"> |-layer_2_filters: 16</span>"
            ],
            "text/plain": [
              "<IPython.core.display.HTML object>"
            ]
          },
          "metadata": {
            "tags": []
          }
        },
        {
          "output_type": "display_data",
          "data": {
            "text/html": [
              "<span style=\"color:#4527A0\"><h1 style=\"font-size:18px\">Trial summary</h1></span>"
            ],
            "text/plain": [
              "<IPython.core.display.HTML object>"
            ]
          },
          "metadata": {
            "tags": []
          }
        },
        {
          "output_type": "display_data",
          "data": {
            "text/html": [
              "<span style=\"color:cyan\"> |-Trial ID: df40ff05b41af32d7bf71a2571b3d2d9</span>"
            ],
            "text/plain": [
              "<IPython.core.display.HTML object>"
            ]
          },
          "metadata": {
            "tags": []
          }
        },
        {
          "output_type": "display_data",
          "data": {
            "text/html": [
              "<span style=\"color:cyan\"> |-Score: 0.7768816947937012</span>"
            ],
            "text/plain": [
              "<IPython.core.display.HTML object>"
            ]
          },
          "metadata": {
            "tags": []
          }
        },
        {
          "output_type": "display_data",
          "data": {
            "text/html": [
              "<span style=\"color:cyan\"> |-Best step: 0</span>"
            ],
            "text/plain": [
              "<IPython.core.display.HTML object>"
            ]
          },
          "metadata": {
            "tags": []
          }
        },
        {
          "output_type": "display_data",
          "data": {
            "text/html": [
              "<span style=\"color:#7E57C2\"><h2 style=\"font-size:16px\">Hyperparameters:</h2></span>"
            ],
            "text/plain": [
              "<IPython.core.display.HTML object>"
            ]
          },
          "metadata": {
            "tags": []
          }
        },
        {
          "output_type": "display_data",
          "data": {
            "text/html": [
              "<span style=\"color:cyan\"> |-Conv Layers: 1</span>"
            ],
            "text/plain": [
              "<IPython.core.display.HTML object>"
            ]
          },
          "metadata": {
            "tags": []
          }
        },
        {
          "output_type": "display_data",
          "data": {
            "text/html": [
              "<span style=\"color:blue\"> |-Dense layer: 128</span>"
            ],
            "text/plain": [
              "<IPython.core.display.HTML object>"
            ]
          },
          "metadata": {
            "tags": []
          }
        },
        {
          "output_type": "display_data",
          "data": {
            "text/html": [
              "<span style=\"color:cyan\"> |-layer_0_filters: 64</span>"
            ],
            "text/plain": [
              "<IPython.core.display.HTML object>"
            ]
          },
          "metadata": {
            "tags": []
          }
        },
        {
          "output_type": "display_data",
          "data": {
            "text/html": [
              "<span style=\"color:blue\"> |-layer_1_filters: 32</span>"
            ],
            "text/plain": [
              "<IPython.core.display.HTML object>"
            ]
          },
          "metadata": {
            "tags": []
          }
        },
        {
          "output_type": "display_data",
          "data": {
            "text/html": [
              "<span style=\"color:cyan\"> |-layer_2_filters: 64</span>"
            ],
            "text/plain": [
              "<IPython.core.display.HTML object>"
            ]
          },
          "metadata": {
            "tags": []
          }
        },
        {
          "output_type": "display_data",
          "data": {
            "text/html": [
              "<span style=\"color:#4527A0\"><h1 style=\"font-size:18px\">Trial summary</h1></span>"
            ],
            "text/plain": [
              "<IPython.core.display.HTML object>"
            ]
          },
          "metadata": {
            "tags": []
          }
        },
        {
          "output_type": "display_data",
          "data": {
            "text/html": [
              "<span style=\"color:cyan\"> |-Trial ID: 2779f15c742a0ff9ebed367cc59aa0c0</span>"
            ],
            "text/plain": [
              "<IPython.core.display.HTML object>"
            ]
          },
          "metadata": {
            "tags": []
          }
        },
        {
          "output_type": "display_data",
          "data": {
            "text/html": [
              "<span style=\"color:cyan\"> |-Score: 0.774193525314331</span>"
            ],
            "text/plain": [
              "<IPython.core.display.HTML object>"
            ]
          },
          "metadata": {
            "tags": []
          }
        },
        {
          "output_type": "display_data",
          "data": {
            "text/html": [
              "<span style=\"color:cyan\"> |-Best step: 0</span>"
            ],
            "text/plain": [
              "<IPython.core.display.HTML object>"
            ]
          },
          "metadata": {
            "tags": []
          }
        },
        {
          "output_type": "display_data",
          "data": {
            "text/html": [
              "<span style=\"color:#7E57C2\"><h2 style=\"font-size:16px\">Hyperparameters:</h2></span>"
            ],
            "text/plain": [
              "<IPython.core.display.HTML object>"
            ]
          },
          "metadata": {
            "tags": []
          }
        },
        {
          "output_type": "display_data",
          "data": {
            "text/html": [
              "<span style=\"color:cyan\"> |-Conv Layers: 2</span>"
            ],
            "text/plain": [
              "<IPython.core.display.HTML object>"
            ]
          },
          "metadata": {
            "tags": []
          }
        },
        {
          "output_type": "display_data",
          "data": {
            "text/html": [
              "<span style=\"color:blue\"> |-Dense layer: 256</span>"
            ],
            "text/plain": [
              "<IPython.core.display.HTML object>"
            ]
          },
          "metadata": {
            "tags": []
          }
        },
        {
          "output_type": "display_data",
          "data": {
            "text/html": [
              "<span style=\"color:cyan\"> |-layer_0_filters: 64</span>"
            ],
            "text/plain": [
              "<IPython.core.display.HTML object>"
            ]
          },
          "metadata": {
            "tags": []
          }
        },
        {
          "output_type": "display_data",
          "data": {
            "text/html": [
              "<span style=\"color:blue\"> |-layer_1_filters: 16</span>"
            ],
            "text/plain": [
              "<IPython.core.display.HTML object>"
            ]
          },
          "metadata": {
            "tags": []
          }
        },
        {
          "output_type": "display_data",
          "data": {
            "text/html": [
              "<span style=\"color:cyan\"> |-layer_2_filters: 32</span>"
            ],
            "text/plain": [
              "<IPython.core.display.HTML object>"
            ]
          },
          "metadata": {
            "tags": []
          }
        },
        {
          "output_type": "display_data",
          "data": {
            "text/html": [
              "<span style=\"color:#4527A0\"><h1 style=\"font-size:18px\">Trial summary</h1></span>"
            ],
            "text/plain": [
              "<IPython.core.display.HTML object>"
            ]
          },
          "metadata": {
            "tags": []
          }
        },
        {
          "output_type": "display_data",
          "data": {
            "text/html": [
              "<span style=\"color:cyan\"> |-Trial ID: 289d7f4402287acbcdd7a2b8f05e5725</span>"
            ],
            "text/plain": [
              "<IPython.core.display.HTML object>"
            ]
          },
          "metadata": {
            "tags": []
          }
        },
        {
          "output_type": "display_data",
          "data": {
            "text/html": [
              "<span style=\"color:cyan\"> |-Score: 0.7661290168762207</span>"
            ],
            "text/plain": [
              "<IPython.core.display.HTML object>"
            ]
          },
          "metadata": {
            "tags": []
          }
        },
        {
          "output_type": "display_data",
          "data": {
            "text/html": [
              "<span style=\"color:cyan\"> |-Best step: 0</span>"
            ],
            "text/plain": [
              "<IPython.core.display.HTML object>"
            ]
          },
          "metadata": {
            "tags": []
          }
        },
        {
          "output_type": "display_data",
          "data": {
            "text/html": [
              "<span style=\"color:#7E57C2\"><h2 style=\"font-size:16px\">Hyperparameters:</h2></span>"
            ],
            "text/plain": [
              "<IPython.core.display.HTML object>"
            ]
          },
          "metadata": {
            "tags": []
          }
        },
        {
          "output_type": "display_data",
          "data": {
            "text/html": [
              "<span style=\"color:cyan\"> |-Conv Layers: 2</span>"
            ],
            "text/plain": [
              "<IPython.core.display.HTML object>"
            ]
          },
          "metadata": {
            "tags": []
          }
        },
        {
          "output_type": "display_data",
          "data": {
            "text/html": [
              "<span style=\"color:blue\"> |-Dense layer: 512</span>"
            ],
            "text/plain": [
              "<IPython.core.display.HTML object>"
            ]
          },
          "metadata": {
            "tags": []
          }
        },
        {
          "output_type": "display_data",
          "data": {
            "text/html": [
              "<span style=\"color:cyan\"> |-layer_0_filters: 16</span>"
            ],
            "text/plain": [
              "<IPython.core.display.HTML object>"
            ]
          },
          "metadata": {
            "tags": []
          }
        },
        {
          "output_type": "display_data",
          "data": {
            "text/html": [
              "<span style=\"color:blue\"> |-layer_1_filters: 16</span>"
            ],
            "text/plain": [
              "<IPython.core.display.HTML object>"
            ]
          },
          "metadata": {
            "tags": []
          }
        },
        {
          "output_type": "display_data",
          "data": {
            "text/html": [
              "<span style=\"color:#4527A0\"><h1 style=\"font-size:18px\">Trial summary</h1></span>"
            ],
            "text/plain": [
              "<IPython.core.display.HTML object>"
            ]
          },
          "metadata": {
            "tags": []
          }
        },
        {
          "output_type": "display_data",
          "data": {
            "text/html": [
              "<span style=\"color:cyan\"> |-Trial ID: 14f840f0a699bc3b177beda5e6775fda</span>"
            ],
            "text/plain": [
              "<IPython.core.display.HTML object>"
            ]
          },
          "metadata": {
            "tags": []
          }
        },
        {
          "output_type": "display_data",
          "data": {
            "text/html": [
              "<span style=\"color:cyan\"> |-Score: 0.7661290168762207</span>"
            ],
            "text/plain": [
              "<IPython.core.display.HTML object>"
            ]
          },
          "metadata": {
            "tags": []
          }
        },
        {
          "output_type": "display_data",
          "data": {
            "text/html": [
              "<span style=\"color:cyan\"> |-Best step: 0</span>"
            ],
            "text/plain": [
              "<IPython.core.display.HTML object>"
            ]
          },
          "metadata": {
            "tags": []
          }
        },
        {
          "output_type": "display_data",
          "data": {
            "text/html": [
              "<span style=\"color:#7E57C2\"><h2 style=\"font-size:16px\">Hyperparameters:</h2></span>"
            ],
            "text/plain": [
              "<IPython.core.display.HTML object>"
            ]
          },
          "metadata": {
            "tags": []
          }
        },
        {
          "output_type": "display_data",
          "data": {
            "text/html": [
              "<span style=\"color:cyan\"> |-Conv Layers: 1</span>"
            ],
            "text/plain": [
              "<IPython.core.display.HTML object>"
            ]
          },
          "metadata": {
            "tags": []
          }
        },
        {
          "output_type": "display_data",
          "data": {
            "text/html": [
              "<span style=\"color:blue\"> |-Dense layer: 256</span>"
            ],
            "text/plain": [
              "<IPython.core.display.HTML object>"
            ]
          },
          "metadata": {
            "tags": []
          }
        },
        {
          "output_type": "display_data",
          "data": {
            "text/html": [
              "<span style=\"color:cyan\"> |-layer_0_filters: 32</span>"
            ],
            "text/plain": [
              "<IPython.core.display.HTML object>"
            ]
          },
          "metadata": {
            "tags": []
          }
        },
        {
          "output_type": "display_data",
          "data": {
            "text/html": [
              "<span style=\"color:blue\"> |-layer_1_filters: 16</span>"
            ],
            "text/plain": [
              "<IPython.core.display.HTML object>"
            ]
          },
          "metadata": {
            "tags": []
          }
        },
        {
          "output_type": "display_data",
          "data": {
            "text/html": [
              "<span style=\"color:cyan\"> |-layer_2_filters: 32</span>"
            ],
            "text/plain": [
              "<IPython.core.display.HTML object>"
            ]
          },
          "metadata": {
            "tags": []
          }
        },
        {
          "output_type": "display_data",
          "data": {
            "text/html": [
              "<span style=\"color:#4527A0\"><h1 style=\"font-size:18px\">Trial summary</h1></span>"
            ],
            "text/plain": [
              "<IPython.core.display.HTML object>"
            ]
          },
          "metadata": {
            "tags": []
          }
        },
        {
          "output_type": "display_data",
          "data": {
            "text/html": [
              "<span style=\"color:cyan\"> |-Trial ID: edb9f5a72816344cdc9de498e9bd5e00</span>"
            ],
            "text/plain": [
              "<IPython.core.display.HTML object>"
            ]
          },
          "metadata": {
            "tags": []
          }
        },
        {
          "output_type": "display_data",
          "data": {
            "text/html": [
              "<span style=\"color:cyan\"> |-Score: 0.7661290168762207</span>"
            ],
            "text/plain": [
              "<IPython.core.display.HTML object>"
            ]
          },
          "metadata": {
            "tags": []
          }
        },
        {
          "output_type": "display_data",
          "data": {
            "text/html": [
              "<span style=\"color:cyan\"> |-Best step: 0</span>"
            ],
            "text/plain": [
              "<IPython.core.display.HTML object>"
            ]
          },
          "metadata": {
            "tags": []
          }
        },
        {
          "output_type": "display_data",
          "data": {
            "text/html": [
              "<span style=\"color:#7E57C2\"><h2 style=\"font-size:16px\">Hyperparameters:</h2></span>"
            ],
            "text/plain": [
              "<IPython.core.display.HTML object>"
            ]
          },
          "metadata": {
            "tags": []
          }
        },
        {
          "output_type": "display_data",
          "data": {
            "text/html": [
              "<span style=\"color:cyan\"> |-Conv Layers: 1</span>"
            ],
            "text/plain": [
              "<IPython.core.display.HTML object>"
            ]
          },
          "metadata": {
            "tags": []
          }
        },
        {
          "output_type": "display_data",
          "data": {
            "text/html": [
              "<span style=\"color:blue\"> |-Dense layer: 512</span>"
            ],
            "text/plain": [
              "<IPython.core.display.HTML object>"
            ]
          },
          "metadata": {
            "tags": []
          }
        },
        {
          "output_type": "display_data",
          "data": {
            "text/html": [
              "<span style=\"color:cyan\"> |-layer_0_filters: 16</span>"
            ],
            "text/plain": [
              "<IPython.core.display.HTML object>"
            ]
          },
          "metadata": {
            "tags": []
          }
        },
        {
          "output_type": "display_data",
          "data": {
            "text/html": [
              "<span style=\"color:blue\"> |-layer_1_filters: 16</span>"
            ],
            "text/plain": [
              "<IPython.core.display.HTML object>"
            ]
          },
          "metadata": {
            "tags": []
          }
        },
        {
          "output_type": "display_data",
          "data": {
            "text/html": [
              "<span style=\"color:cyan\"> |-layer_2_filters: 16</span>"
            ],
            "text/plain": [
              "<IPython.core.display.HTML object>"
            ]
          },
          "metadata": {
            "tags": []
          }
        },
        {
          "output_type": "display_data",
          "data": {
            "text/html": [
              "<span style=\"color:#4527A0\"><h1 style=\"font-size:18px\">Trial summary</h1></span>"
            ],
            "text/plain": [
              "<IPython.core.display.HTML object>"
            ]
          },
          "metadata": {
            "tags": []
          }
        },
        {
          "output_type": "display_data",
          "data": {
            "text/html": [
              "<span style=\"color:cyan\"> |-Trial ID: 2e24cc498e5f88905210bf8705fe7be8</span>"
            ],
            "text/plain": [
              "<IPython.core.display.HTML object>"
            ]
          },
          "metadata": {
            "tags": []
          }
        },
        {
          "output_type": "display_data",
          "data": {
            "text/html": [
              "<span style=\"color:cyan\"> |-Score: 0.7607526779174805</span>"
            ],
            "text/plain": [
              "<IPython.core.display.HTML object>"
            ]
          },
          "metadata": {
            "tags": []
          }
        },
        {
          "output_type": "display_data",
          "data": {
            "text/html": [
              "<span style=\"color:cyan\"> |-Best step: 0</span>"
            ],
            "text/plain": [
              "<IPython.core.display.HTML object>"
            ]
          },
          "metadata": {
            "tags": []
          }
        },
        {
          "output_type": "display_data",
          "data": {
            "text/html": [
              "<span style=\"color:#7E57C2\"><h2 style=\"font-size:16px\">Hyperparameters:</h2></span>"
            ],
            "text/plain": [
              "<IPython.core.display.HTML object>"
            ]
          },
          "metadata": {
            "tags": []
          }
        },
        {
          "output_type": "display_data",
          "data": {
            "text/html": [
              "<span style=\"color:cyan\"> |-Conv Layers: 1</span>"
            ],
            "text/plain": [
              "<IPython.core.display.HTML object>"
            ]
          },
          "metadata": {
            "tags": []
          }
        },
        {
          "output_type": "display_data",
          "data": {
            "text/html": [
              "<span style=\"color:blue\"> |-Dense layer: 64</span>"
            ],
            "text/plain": [
              "<IPython.core.display.HTML object>"
            ]
          },
          "metadata": {
            "tags": []
          }
        },
        {
          "output_type": "display_data",
          "data": {
            "text/html": [
              "<span style=\"color:cyan\"> |-layer_0_filters: 64</span>"
            ],
            "text/plain": [
              "<IPython.core.display.HTML object>"
            ]
          },
          "metadata": {
            "tags": []
          }
        },
        {
          "output_type": "display_data",
          "data": {
            "text/html": [
              "<span style=\"color:blue\"> |-layer_1_filters: 64</span>"
            ],
            "text/plain": [
              "<IPython.core.display.HTML object>"
            ]
          },
          "metadata": {
            "tags": []
          }
        },
        {
          "output_type": "display_data",
          "data": {
            "text/html": [
              "<span style=\"color:cyan\"> |-layer_2_filters: 64</span>"
            ],
            "text/plain": [
              "<IPython.core.display.HTML object>"
            ]
          },
          "metadata": {
            "tags": []
          }
        },
        {
          "output_type": "display_data",
          "data": {
            "text/html": [
              "<span style=\"color:#4527A0\"><h1 style=\"font-size:18px\">Trial summary</h1></span>"
            ],
            "text/plain": [
              "<IPython.core.display.HTML object>"
            ]
          },
          "metadata": {
            "tags": []
          }
        },
        {
          "output_type": "display_data",
          "data": {
            "text/html": [
              "<span style=\"color:cyan\"> |-Trial ID: 8d7af9f4a77f473a07e23541f147d420</span>"
            ],
            "text/plain": [
              "<IPython.core.display.HTML object>"
            ]
          },
          "metadata": {
            "tags": []
          }
        },
        {
          "output_type": "display_data",
          "data": {
            "text/html": [
              "<span style=\"color:cyan\"> |-Score: 0.7580645084381104</span>"
            ],
            "text/plain": [
              "<IPython.core.display.HTML object>"
            ]
          },
          "metadata": {
            "tags": []
          }
        },
        {
          "output_type": "display_data",
          "data": {
            "text/html": [
              "<span style=\"color:cyan\"> |-Best step: 0</span>"
            ],
            "text/plain": [
              "<IPython.core.display.HTML object>"
            ]
          },
          "metadata": {
            "tags": []
          }
        },
        {
          "output_type": "display_data",
          "data": {
            "text/html": [
              "<span style=\"color:#7E57C2\"><h2 style=\"font-size:16px\">Hyperparameters:</h2></span>"
            ],
            "text/plain": [
              "<IPython.core.display.HTML object>"
            ]
          },
          "metadata": {
            "tags": []
          }
        },
        {
          "output_type": "display_data",
          "data": {
            "text/html": [
              "<span style=\"color:cyan\"> |-Conv Layers: 1</span>"
            ],
            "text/plain": [
              "<IPython.core.display.HTML object>"
            ]
          },
          "metadata": {
            "tags": []
          }
        },
        {
          "output_type": "display_data",
          "data": {
            "text/html": [
              "<span style=\"color:blue\"> |-Dense layer: 64</span>"
            ],
            "text/plain": [
              "<IPython.core.display.HTML object>"
            ]
          },
          "metadata": {
            "tags": []
          }
        },
        {
          "output_type": "display_data",
          "data": {
            "text/html": [
              "<span style=\"color:cyan\"> |-layer_0_filters: 64</span>"
            ],
            "text/plain": [
              "<IPython.core.display.HTML object>"
            ]
          },
          "metadata": {
            "tags": []
          }
        },
        {
          "output_type": "display_data",
          "data": {
            "text/html": [
              "<span style=\"color:blue\"> |-layer_1_filters: 32</span>"
            ],
            "text/plain": [
              "<IPython.core.display.HTML object>"
            ]
          },
          "metadata": {
            "tags": []
          }
        },
        {
          "output_type": "display_data",
          "data": {
            "text/html": [
              "<span style=\"color:cyan\"> |-layer_2_filters: 16</span>"
            ],
            "text/plain": [
              "<IPython.core.display.HTML object>"
            ]
          },
          "metadata": {
            "tags": []
          }
        },
        {
          "output_type": "display_data",
          "data": {
            "text/html": [
              "<span style=\"color:#4527A0\"><h1 style=\"font-size:18px\">Trial summary</h1></span>"
            ],
            "text/plain": [
              "<IPython.core.display.HTML object>"
            ]
          },
          "metadata": {
            "tags": []
          }
        },
        {
          "output_type": "display_data",
          "data": {
            "text/html": [
              "<span style=\"color:cyan\"> |-Trial ID: 09037d94bcb30eb64ba57cf577b4aa60</span>"
            ],
            "text/plain": [
              "<IPython.core.display.HTML object>"
            ]
          },
          "metadata": {
            "tags": []
          }
        },
        {
          "output_type": "display_data",
          "data": {
            "text/html": [
              "<span style=\"color:cyan\"> |-Score: 0.7473118305206299</span>"
            ],
            "text/plain": [
              "<IPython.core.display.HTML object>"
            ]
          },
          "metadata": {
            "tags": []
          }
        },
        {
          "output_type": "display_data",
          "data": {
            "text/html": [
              "<span style=\"color:cyan\"> |-Best step: 0</span>"
            ],
            "text/plain": [
              "<IPython.core.display.HTML object>"
            ]
          },
          "metadata": {
            "tags": []
          }
        },
        {
          "output_type": "display_data",
          "data": {
            "text/html": [
              "<span style=\"color:#7E57C2\"><h2 style=\"font-size:16px\">Hyperparameters:</h2></span>"
            ],
            "text/plain": [
              "<IPython.core.display.HTML object>"
            ]
          },
          "metadata": {
            "tags": []
          }
        },
        {
          "output_type": "display_data",
          "data": {
            "text/html": [
              "<span style=\"color:cyan\"> |-Conv Layers: 1</span>"
            ],
            "text/plain": [
              "<IPython.core.display.HTML object>"
            ]
          },
          "metadata": {
            "tags": []
          }
        },
        {
          "output_type": "display_data",
          "data": {
            "text/html": [
              "<span style=\"color:blue\"> |-Dense layer: 128</span>"
            ],
            "text/plain": [
              "<IPython.core.display.HTML object>"
            ]
          },
          "metadata": {
            "tags": []
          }
        },
        {
          "output_type": "display_data",
          "data": {
            "text/html": [
              "<span style=\"color:cyan\"> |-layer_0_filters: 64</span>"
            ],
            "text/plain": [
              "<IPython.core.display.HTML object>"
            ]
          },
          "metadata": {
            "tags": []
          }
        },
        {
          "output_type": "display_data",
          "data": {
            "text/html": [
              "<span style=\"color:blue\"> |-layer_1_filters: 16</span>"
            ],
            "text/plain": [
              "<IPython.core.display.HTML object>"
            ]
          },
          "metadata": {
            "tags": []
          }
        },
        {
          "output_type": "display_data",
          "data": {
            "text/html": [
              "<span style=\"color:cyan\"> |-layer_2_filters: 16</span>"
            ],
            "text/plain": [
              "<IPython.core.display.HTML object>"
            ]
          },
          "metadata": {
            "tags": []
          }
        }
      ]
    },
    {
      "cell_type": "markdown",
      "metadata": {
        "id": "cg7wEsZCJLo3",
        "colab_type": "text"
      },
      "source": [
        "## Save & Load our Models"
      ]
    },
    {
      "cell_type": "code",
      "metadata": {
        "id": "QUT7ZMRhFtV0",
        "colab_type": "code",
        "colab": {
          "base_uri": "https://localhost:8080/",
          "height": 173
        },
        "outputId": "1f6f639b-21fd-4a42-da95-21bbb583dabf"
      },
      "source": [
        "best_model.save('./my_model')"
      ],
      "execution_count": null,
      "outputs": [
        {
          "output_type": "stream",
          "text": [
            "WARNING:tensorflow:From /usr/local/lib/python3.6/dist-packages/tensorflow/python/ops/resource_variable_ops.py:1817: calling BaseResourceVariable.__init__ (from tensorflow.python.ops.resource_variable_ops) with constraint is deprecated and will be removed in a future version.\n",
            "Instructions for updating:\n",
            "If using Keras pass *_constraint arguments to layers.\n"
          ],
          "name": "stdout"
        },
        {
          "output_type": "stream",
          "text": [
            "WARNING:tensorflow:From /usr/local/lib/python3.6/dist-packages/tensorflow/python/ops/resource_variable_ops.py:1817: calling BaseResourceVariable.__init__ (from tensorflow.python.ops.resource_variable_ops) with constraint is deprecated and will be removed in a future version.\n",
            "Instructions for updating:\n",
            "If using Keras pass *_constraint arguments to layers.\n"
          ],
          "name": "stderr"
        },
        {
          "output_type": "stream",
          "text": [
            "INFO:tensorflow:Assets written to: ./my_model/assets\n"
          ],
          "name": "stdout"
        },
        {
          "output_type": "stream",
          "text": [
            "INFO:tensorflow:Assets written to: ./my_model/assets\n"
          ],
          "name": "stderr"
        }
      ]
    },
    {
      "cell_type": "code",
      "metadata": {
        "id": "VNOkTkxxJVQS",
        "colab_type": "code",
        "colab": {}
      },
      "source": [
        "loaded_model = keras.models.load_model('./my_model')"
      ],
      "execution_count": null,
      "outputs": []
    },
    {
      "cell_type": "code",
      "metadata": {
        "id": "vBwNaTEBJeAw",
        "colab_type": "code",
        "colab": {
          "base_uri": "https://localhost:8080/",
          "height": 51
        },
        "outputId": "800da1b6-68d9-4420-ce20-b7a07f12bc2f"
      },
      "source": [
        "loaded_model.evaluate(test_images,test_labels)"
      ],
      "execution_count": null,
      "outputs": [
        {
          "output_type": "stream",
          "text": [
            "12/12 [==============================] - 0s 8ms/step - loss: 0.8438 - accuracy: 0.8065\n"
          ],
          "name": "stdout"
        },
        {
          "output_type": "execute_result",
          "data": {
            "text/plain": [
              "[0.8437741994857788, 0.8064516186714172]"
            ]
          },
          "metadata": {
            "tags": []
          },
          "execution_count": 78
        }
      ]
    },
    {
      "cell_type": "markdown",
      "metadata": {
        "id": "l9x_aNXOK40r",
        "colab_type": "text"
      },
      "source": [
        "## Plot Image from Numpy Array"
      ]
    },
    {
      "cell_type": "code",
      "metadata": {
        "id": "adgeSRCVKqaB",
        "colab_type": "code",
        "colab": {
          "base_uri": "https://localhost:8080/",
          "height": 286
        },
        "outputId": "61ae54f8-01a2-4acf-f519-36a135e76ad0"
      },
      "source": [
        "rgb_images = np.array([example['image'].numpy() for example in ds_train.take(1)])\n",
        "rgb_image = rgb_images[0] \n",
        "image = train_images[0].reshape(300,300)\n",
        "\n",
        "plt.imshow(rgb_image)\n",
        "rgb_image.shape"
      ],
      "execution_count": null,
      "outputs": [
        {
          "output_type": "execute_result",
          "data": {
            "text/plain": [
              "(300, 300, 3)"
            ]
          },
          "metadata": {
            "tags": []
          },
          "execution_count": 91
        },
        {
          "output_type": "display_data",
          "data": {
            "image/png": "[encoded data removed]",
            "text/plain": [
              "<Figure size 432x288 with 1 Axes>"
            ]
          },
          "metadata": {
            "tags": [],
            "needs_background": "light"
          }
        }
      ]
    },
    {
      "cell_type": "markdown",
      "metadata": {
        "id": "-hbZHBFgPwT1",
        "colab_type": "text"
      },
      "source": [
        "## Convert PNG/JPG images to Numpy Format"
      ]
    },
    {
      "cell_type": "code",
      "metadata": {
        "id": "EecXsUubLAyW",
        "colab_type": "code",
        "colab": {
          "base_uri": "https://localhost:8080/",
          "height": 286
        },
        "outputId": "d9fa1b48-ce24-42dd-a9d3-6f2ac70a08f1"
      },
      "source": [
        "import imageio\n",
        "\n",
        "im = imageio.imread('https://upload.wikimedia.org/wikipedia/commons/thumb/8/84/Massachusetts_State_House_-_panoramio_%281%29.jpg/560px-Massachusetts_State_House_-_panoramio_%281%29.jpg')\n",
        "\n",
        "plt.imshow(im)\n",
        "\n",
        "im_np = np.asarray(im)\n",
        "\n",
        "print(im_np.shape)\n"
      ],
      "execution_count": null,
      "outputs": [
        {
          "output_type": "stream",
          "text": [
            "(372, 560, 3)\n"
          ],
          "name": "stdout"
        },
        {
          "output_type": "display_data",
          "data": {
            "image/png": "[encoded data removed]",
            "text/plain": [
              "<Figure size 432x288 with 1 Axes>"
            ]
          },
          "metadata": {
            "tags": [],
            "needs_background": "light"
          }
        }
      ]
    },
    {
      "cell_type": "code",
      "metadata": {
        "id": "I9pGxiJSP6UI",
        "colab_type": "code",
        "colab": {}
      },
      "source": [
        ""
      ],
      "execution_count": null,
      "outputs": []
    }
  ]
}